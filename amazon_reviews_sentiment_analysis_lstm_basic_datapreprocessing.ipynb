{
  "nbformat": 4,
  "nbformat_minor": 0,
  "metadata": {
    "colab": {
      "name": "amazon-reviews-sentiment-analysis-lstm-basic-datapreprocessing.ipynb",
      "provenance": [],
      "collapsed_sections": [],
      "machine_shape": "hm",
      "mount_file_id": "1pjnbS2D2odOx5zNOf4gRZwfTsp01psaH",
      "authorship_tag": "ABX9TyM3KWVWbEE2YJKPTJ1NqdHr",
      "include_colab_link": true
    },
    "kernelspec": {
      "name": "python3",
      "display_name": "Python 3"
    },
    "accelerator": "GPU"
  },
  "cells": [
    {
      "cell_type": "markdown",
      "metadata": {
        "id": "view-in-github",
        "colab_type": "text"
      },
      "source": [
        "<a href=\"https://colab.research.google.com/github/amarsinghen/amazon-reviews-sentiment-analysis/blob/master/amazon_reviews_sentiment_analysis_lstm_basic_datapreprocessing.ipynb\" target=\"_parent\"><img src=\"https://colab.research.google.com/assets/colab-badge.svg\" alt=\"Open In Colab\"/></a>"
      ]
    },
    {
      "cell_type": "code",
      "metadata": {
        "id": "h-lN9iEF7NtX",
        "colab_type": "code",
        "colab": {
          "base_uri": "https://localhost:8080/",
          "height": 35
        },
        "outputId": "f216eb7b-2aac-43ac-cb54-2cbf9a693f50"
      },
      "source": [
        "import tensorflow as tf\n",
        "tf.__version__"
      ],
      "execution_count": 1,
      "outputs": [
        {
          "output_type": "execute_result",
          "data": {
            "application/vnd.google.colaboratory.intrinsic+json": {
              "type": "string"
            },
            "text/plain": [
              "'2.2.0'"
            ]
          },
          "metadata": {
            "tags": []
          },
          "execution_count": 1
        }
      ]
    },
    {
      "cell_type": "code",
      "metadata": {
        "id": "BdcXpmoZBoGR",
        "colab_type": "code",
        "colab": {
          "base_uri": "https://localhost:8080/",
          "height": 71
        },
        "outputId": "5da7c9a9-66e6-46ce-efc4-b3a8c4c3f105"
      },
      "source": [
        "import zipfile\n",
        "import pandas as pd\n",
        "import numpy as np\n",
        "import bz2\n",
        "import gc\n",
        "import chardet\n",
        "import re\n",
        "import os\n",
        "import pickle\n",
        "import gzip\n",
        "from sklearn.metrics import classification_report, confusion_matrix\n",
        "import itertools\n",
        "import seaborn as sns\n",
        "import matplotlib.pyplot as plt "
      ],
      "execution_count": 2,
      "outputs": [
        {
          "output_type": "stream",
          "text": [
            "/usr/local/lib/python3.6/dist-packages/statsmodels/tools/_testing.py:19: FutureWarning: pandas.util.testing is deprecated. Use the functions in the public API at pandas.testing instead.\n",
            "  import pandas.util.testing as tm\n"
          ],
          "name": "stderr"
        }
      ]
    },
    {
      "cell_type": "code",
      "metadata": {
        "id": "RsqK2CHl8ZQJ",
        "colab_type": "code",
        "colab": {}
      },
      "source": [
        "from tensorflow.keras.models import Model, Sequential\n",
        "from tensorflow.keras.layers import Dense, Embedding, Input, Conv1D, GlobalMaxPool1D, Dropout, concatenate, Layer, InputSpec, LSTM\n",
        "from tensorflow.keras.preprocessing import text, sequence\n",
        "from tensorflow.keras.callbacks import EarlyStopping, ModelCheckpoint\n",
        "from tensorflow.keras import backend as K\n",
        "from tensorflow.keras import activations, initializers, regularizers, constraints\n",
        "from tensorflow.keras.regularizers import l2\n",
        "from tensorflow.keras.constraints import MaxNorm"
      ],
      "execution_count": 3,
      "outputs": []
    },
    {
      "cell_type": "markdown",
      "metadata": {
        "id": "-O6jIN8dIxcA",
        "colab_type": "text"
      },
      "source": [
        "## Loading raw data from kaggle"
      ]
    },
    {
      "cell_type": "code",
      "metadata": {
        "id": "s3Hwne1H_tZH",
        "colab_type": "code",
        "colab": {
          "base_uri": "https://localhost:8080/",
          "height": 68
        },
        "outputId": "c84f2512-f781-40d2-f8e2-b5fe4f03a11b"
      },
      "source": [
        "# Downloading the data from kaggle for first time, and \n",
        "# then saving to google drive for future uses. It is faster this way\n",
        "!pip install -q kaggle\n",
        "# The Kaggle API client expects this file to be in ~/.kaggle,\n",
        "# so move it there.\n",
        "!mkdir -p ~/.kaggle\n",
        "!cp '/content/drive/My Drive/kaggle.json' ~/.kaggle/\n",
        "# This permissions change avoids a warning on Kaggle tool startup.\n",
        "!chmod 600 ~/.kaggle/kaggle.json\n",
        "!kaggle datasets download -d bittlingmayer/amazonreviews"
      ],
      "execution_count": 4,
      "outputs": [
        {
          "output_type": "stream",
          "text": [
            "Downloading amazonreviews.zip to /content\n",
            " 98% 485M/493M [00:03<00:00, 144MB/s]\n",
            "100% 493M/493M [00:03<00:00, 130MB/s]\n"
          ],
          "name": "stdout"
        }
      ]
    },
    {
      "cell_type": "code",
      "metadata": {
        "id": "vvCK13JP_pBy",
        "colab_type": "code",
        "colab": {}
      },
      "source": [
        "import zipfile\n",
        "local_zip = ['amazonreviews.zip']\n",
        "for i in range(len(local_zip)):\n",
        "    zip_ref = zipfile.ZipFile(local_zip[i], 'r')\n",
        "    zip_ref.extractall('/tmp')\n",
        "    zip_ref.close()"
      ],
      "execution_count": 5,
      "outputs": []
    },
    {
      "cell_type": "code",
      "metadata": {
        "id": "D4kmysJWBe_9",
        "colab_type": "code",
        "colab": {}
      },
      "source": [
        "train_file = bz2.BZ2File('/tmp/train.ft.txt.bz2')\n",
        "test_file = bz2.BZ2File('/tmp/test.ft.txt.bz2')"
      ],
      "execution_count": 6,
      "outputs": []
    },
    {
      "cell_type": "code",
      "metadata": {
        "id": "j9qXJgnUDB8y",
        "colab_type": "code",
        "colab": {}
      },
      "source": [
        "train_file_lines = train_file.readlines()\n",
        "test_file_lines = test_file.readlines()"
      ],
      "execution_count": 7,
      "outputs": []
    },
    {
      "cell_type": "code",
      "metadata": {
        "id": "eSFYmYzhDC-Q",
        "colab_type": "code",
        "colab": {
          "base_uri": "https://localhost:8080/",
          "height": 105
        },
        "outputId": "d1a10ae1-b97e-463b-c962-b3a83509782c"
      },
      "source": [
        "print(len(train_file_lines))\n",
        "print(train_file_lines[:5])\n",
        "print(len(test_file_lines))\n",
        "print(test_file_lines[:5])"
      ],
      "execution_count": 8,
      "outputs": [
        {
          "output_type": "stream",
          "text": [
            "3600000\n",
            "[b'__label__2 Stuning even for the non-gamer: This sound track was beautiful! It paints the senery in your mind so well I would recomend it even to people who hate vid. game music! I have played the game Chrono Cross but out of all of the games I have ever played it has the best music! It backs away from crude keyboarding and takes a fresher step with grate guitars and soulful orchestras. It would impress anyone who cares to listen! ^_^\\n', b\"__label__2 The best soundtrack ever to anything.: I'm reading a lot of reviews saying that this is the best 'game soundtrack' and I figured that I'd write a review to disagree a bit. This in my opinino is Yasunori Mitsuda's ultimate masterpiece. The music is timeless and I'm been listening to it for years now and its beauty simply refuses to fade.The price tag on this is pretty staggering I must say, but if you are going to buy any cd for this much money, this is the only one that I feel would be worth every penny.\\n\", b'__label__2 Amazing!: This soundtrack is my favorite music of all time, hands down. The intense sadness of \"Prisoners of Fate\" (which means all the more if you\\'ve played the game) and the hope in \"A Distant Promise\" and \"Girl who Stole the Star\" have been an important inspiration to me personally throughout my teen years. The higher energy tracks like \"Chrono Cross ~ Time\\'s Scar~\", \"Time of the Dreamwatch\", and \"Chronomantique\" (indefinably remeniscent of Chrono Trigger) are all absolutely superb as well.This soundtrack is amazing music, probably the best of this composer\\'s work (I haven\\'t heard the Xenogears soundtrack, so I can\\'t say for sure), and even if you\\'ve never played the game, it would be worth twice the price to buy it.I wish I could give it 6 stars.\\n', b\"__label__2 Excellent Soundtrack: I truly like this soundtrack and I enjoy video game music. I have played this game and most of the music on here I enjoy and it's truly relaxing and peaceful.On disk one. my favorites are Scars Of Time, Between Life and Death, Forest Of Illusion, Fortress of Ancient Dragons, Lost Fragment, and Drowned Valley.Disk Two: The Draggons, Galdorb - Home, Chronomantique, Prisoners of Fate, Gale, and my girlfriend likes ZelbessDisk Three: The best of the three. Garden Of God, Chronopolis, Fates, Jellyfish sea, Burning Orphange, Dragon's Prayer, Tower Of Stars, Dragon God, and Radical Dreamers - Unstealable Jewel.Overall, this is a excellent soundtrack and should be brought by those that like video game music.Xander Cross\\n\", b\"__label__2 Remember, Pull Your Jaw Off The Floor After Hearing it: If you've played the game, you know how divine the music is! Every single song tells a story of the game, it's that good! The greatest songs are without a doubt, Chrono Cross: Time's Scar, Magical Dreamers: The Wind, The Stars, and the Sea and Radical Dreamers: Unstolen Jewel. (Translation varies) This music is perfect if you ask me, the best it can be. Yasunori Mitsuda just poured his heart on and wrote it down on paper.\\n\"]\n",
            "400000\n",
            "[b'__label__2 Great CD: My lovely Pat has one of the GREAT voices of her generation. I have listened to this CD for YEARS and I still LOVE IT. When I\\'m in a good mood it makes me feel better. A bad mood just evaporates like sugar in the rain. This CD just oozes LIFE. Vocals are jusat STUUNNING and lyrics just kill. One of life\\'s hidden gems. This is a desert isle CD in my book. Why she never made it big is just beyond me. Everytime I play this, no matter black, white, young, old, male, female EVERYBODY says one thing \"Who was that singing ?\"\\n', b\"__label__2 One of the best game music soundtracks - for a game I didn't really play: Despite the fact that I have only played a small portion of the game, the music I heard (plus the connection to Chrono Trigger which was great as well) led me to purchase the soundtrack, and it remains one of my favorite albums. There is an incredible mix of fun, epic, and emotional songs. Those sad and beautiful tracks I especially like, as there's not too many of those kinds of songs in my other video game soundtracks. I must admit that one of the songs (Life-A Distant Promise) has brought tears to my eyes on many occasions.My one complaint about this soundtrack is that they use guitar fretting effects in many of the songs, which I find distracting. But even if those weren't included I would still consider the collection worth it.\\n\", b'__label__1 Batteries died within a year ...: I bought this charger in Jul 2003 and it worked OK for a while. The design is nice and convenient. However, after about a year, the batteries would not hold a charge. Might as well just get alkaline disposables, or look elsewhere for a charger that comes with batteries that have better staying power.\\n', b\"__label__2 works fine, but Maha Energy is better: Check out Maha Energy's website. Their Powerex MH-C204F charger works in 100 minutes for rapid charge, with option for slower charge (better for batteries). And they have 2200 mAh batteries.\\n\", b\"__label__2 Great for the non-audiophile: Reviewed quite a bit of the combo players and was hesitant due to unfavorable reviews and size of machines. I am weaning off my VHS collection, but don't want to replace them with DVD's. This unit is well built, easy to setup and resolution and special effects (no progressive scan for HDTV owners) suitable for many people looking for a versatile product.Cons- No universal remote.\\n\"]\n"
          ],
          "name": "stdout"
        }
      ]
    },
    {
      "cell_type": "markdown",
      "metadata": {
        "id": "vowskzkBI4UB",
        "colab_type": "text"
      },
      "source": [
        "## Text Data Pre-Processing"
      ]
    },
    {
      "cell_type": "code",
      "metadata": {
        "id": "zVlpd1rNE7E0",
        "colab_type": "code",
        "colab": {}
      },
      "source": [
        "# Convert from raw binary strings to strings that can be parsed\n",
        "train_file_lines = [x.decode('utf-8') for x in train_file_lines]\n",
        "test_file_lines = [x.decode('utf-8') for x in test_file_lines]"
      ],
      "execution_count": 9,
      "outputs": []
    },
    {
      "cell_type": "code",
      "metadata": {
        "id": "uCX0jVrYFFyL",
        "colab_type": "code",
        "colab": {
          "base_uri": "https://localhost:8080/",
          "height": 105
        },
        "outputId": "580f2d08-642c-4da9-b8f5-2c2de5cb7900"
      },
      "source": [
        "print(len(train_file_lines))\n",
        "print(train_file_lines[:5])\n",
        "print(len(test_file_lines))\n",
        "print(test_file_lines[:5])"
      ],
      "execution_count": 10,
      "outputs": [
        {
          "output_type": "stream",
          "text": [
            "3600000\n",
            "['__label__2 Stuning even for the non-gamer: This sound track was beautiful! It paints the senery in your mind so well I would recomend it even to people who hate vid. game music! I have played the game Chrono Cross but out of all of the games I have ever played it has the best music! It backs away from crude keyboarding and takes a fresher step with grate guitars and soulful orchestras. It would impress anyone who cares to listen! ^_^\\n', \"__label__2 The best soundtrack ever to anything.: I'm reading a lot of reviews saying that this is the best 'game soundtrack' and I figured that I'd write a review to disagree a bit. This in my opinino is Yasunori Mitsuda's ultimate masterpiece. The music is timeless and I'm been listening to it for years now and its beauty simply refuses to fade.The price tag on this is pretty staggering I must say, but if you are going to buy any cd for this much money, this is the only one that I feel would be worth every penny.\\n\", '__label__2 Amazing!: This soundtrack is my favorite music of all time, hands down. The intense sadness of \"Prisoners of Fate\" (which means all the more if you\\'ve played the game) and the hope in \"A Distant Promise\" and \"Girl who Stole the Star\" have been an important inspiration to me personally throughout my teen years. The higher energy tracks like \"Chrono Cross ~ Time\\'s Scar~\", \"Time of the Dreamwatch\", and \"Chronomantique\" (indefinably remeniscent of Chrono Trigger) are all absolutely superb as well.This soundtrack is amazing music, probably the best of this composer\\'s work (I haven\\'t heard the Xenogears soundtrack, so I can\\'t say for sure), and even if you\\'ve never played the game, it would be worth twice the price to buy it.I wish I could give it 6 stars.\\n', \"__label__2 Excellent Soundtrack: I truly like this soundtrack and I enjoy video game music. I have played this game and most of the music on here I enjoy and it's truly relaxing and peaceful.On disk one. my favorites are Scars Of Time, Between Life and Death, Forest Of Illusion, Fortress of Ancient Dragons, Lost Fragment, and Drowned Valley.Disk Two: The Draggons, Galdorb - Home, Chronomantique, Prisoners of Fate, Gale, and my girlfriend likes ZelbessDisk Three: The best of the three. Garden Of God, Chronopolis, Fates, Jellyfish sea, Burning Orphange, Dragon's Prayer, Tower Of Stars, Dragon God, and Radical Dreamers - Unstealable Jewel.Overall, this is a excellent soundtrack and should be brought by those that like video game music.Xander Cross\\n\", \"__label__2 Remember, Pull Your Jaw Off The Floor After Hearing it: If you've played the game, you know how divine the music is! Every single song tells a story of the game, it's that good! The greatest songs are without a doubt, Chrono Cross: Time's Scar, Magical Dreamers: The Wind, The Stars, and the Sea and Radical Dreamers: Unstolen Jewel. (Translation varies) This music is perfect if you ask me, the best it can be. Yasunori Mitsuda just poured his heart on and wrote it down on paper.\\n\"]\n",
            "400000\n",
            "['__label__2 Great CD: My lovely Pat has one of the GREAT voices of her generation. I have listened to this CD for YEARS and I still LOVE IT. When I\\'m in a good mood it makes me feel better. A bad mood just evaporates like sugar in the rain. This CD just oozes LIFE. Vocals are jusat STUUNNING and lyrics just kill. One of life\\'s hidden gems. This is a desert isle CD in my book. Why she never made it big is just beyond me. Everytime I play this, no matter black, white, young, old, male, female EVERYBODY says one thing \"Who was that singing ?\"\\n', \"__label__2 One of the best game music soundtracks - for a game I didn't really play: Despite the fact that I have only played a small portion of the game, the music I heard (plus the connection to Chrono Trigger which was great as well) led me to purchase the soundtrack, and it remains one of my favorite albums. There is an incredible mix of fun, epic, and emotional songs. Those sad and beautiful tracks I especially like, as there's not too many of those kinds of songs in my other video game soundtracks. I must admit that one of the songs (Life-A Distant Promise) has brought tears to my eyes on many occasions.My one complaint about this soundtrack is that they use guitar fretting effects in many of the songs, which I find distracting. But even if those weren't included I would still consider the collection worth it.\\n\", '__label__1 Batteries died within a year ...: I bought this charger in Jul 2003 and it worked OK for a while. The design is nice and convenient. However, after about a year, the batteries would not hold a charge. Might as well just get alkaline disposables, or look elsewhere for a charger that comes with batteries that have better staying power.\\n', \"__label__2 works fine, but Maha Energy is better: Check out Maha Energy's website. Their Powerex MH-C204F charger works in 100 minutes for rapid charge, with option for slower charge (better for batteries). And they have 2200 mAh batteries.\\n\", \"__label__2 Great for the non-audiophile: Reviewed quite a bit of the combo players and was hesitant due to unfavorable reviews and size of machines. I am weaning off my VHS collection, but don't want to replace them with DVD's. This unit is well built, easy to setup and resolution and special effects (no progressive scan for HDTV owners) suitable for many people looking for a versatile product.Cons- No universal remote.\\n\"]\n"
          ],
          "name": "stdout"
        }
      ]
    },
    {
      "cell_type": "code",
      "metadata": {
        "id": "dEHRaLyGFTqr",
        "colab_type": "code",
        "colab": {}
      },
      "source": [
        "# Creating and extracting labels\n",
        "train_labels = [0 if x.split(' ')[0] == '__label__1' else 1 for x in train_file_lines]\n",
        "train_sentences = [x.split(' ', 1)[1][:-1].lower() for x in train_file_lines]\n",
        "\n",
        "for i in range(len(train_sentences)):\n",
        "    train_sentences[i] = re.sub('\\d','0',train_sentences[i])\n",
        "    \n",
        "test_labels = [0 if x.split(' ')[0] == '__label__1' else 1 for x in test_file_lines]\n",
        "test_sentences = [x.split(' ', 1)[1][:-1].lower() for x in test_file_lines]\n",
        "\n",
        "for i in range(len(test_sentences)):\n",
        "    test_sentences[i] = re.sub('\\d','0',test_sentences[i])\n",
        "\n",
        "# replacg urls                                                     \n",
        "for i in range(len(train_sentences)):\n",
        "    if 'www.' in train_sentences[i] or 'http:' in train_sentences[i] or 'https:' in train_sentences[i] or '.com' in train_sentences[i]:\n",
        "        train_sentences[i] = re.sub(r\"([^ ]+(?<=\\.[a-z]{3}))\", \"<url>\", train_sentences[i])\n",
        "        \n",
        "for i in range(len(test_sentences)):\n",
        "    if 'www.' in test_sentences[i] or 'http:' in test_sentences[i] or 'https:' in test_sentences[i] or '.com' in test_sentences[i]:\n",
        "        test_sentences[i] = re.sub(r\"([^ ]+(?<=\\.[a-z]{3}))\", \"<url>\", test_sentences[i])\n",
        "\n",
        "# Removing stopwords\n"
      ],
      "execution_count": 11,
      "outputs": []
    },
    {
      "cell_type": "code",
      "metadata": {
        "id": "DtmWU4NAHvIU",
        "colab_type": "code",
        "colab": {
          "base_uri": "https://localhost:8080/",
          "height": 105
        },
        "outputId": "dc2c500a-6f04-416e-8577-1713642e1f88"
      },
      "source": [
        "print(len(train_sentences))\n",
        "print(train_sentences[:5])\n",
        "print(len(test_sentences))\n",
        "print(test_sentences[:5])"
      ],
      "execution_count": 12,
      "outputs": [
        {
          "output_type": "stream",
          "text": [
            "3600000\n",
            "['stuning even for the non-gamer: this sound track was beautiful! it paints the senery in your mind so well i would recomend it even to people who hate vid. game music! i have played the game chrono cross but out of all of the games i have ever played it has the best music! it backs away from crude keyboarding and takes a fresher step with grate guitars and soulful orchestras. it would impress anyone who cares to listen! ^_^', \"the best soundtrack ever to anything.: i'm reading a lot of reviews saying that this is the best 'game soundtrack' and i figured that i'd write a review to disagree a bit. this in my opinino is yasunori mitsuda's ultimate masterpiece. the music is timeless and i'm been listening to it for years now and its beauty simply refuses to fade.the price tag on this is pretty staggering i must say, but if you are going to buy any cd for this much money, this is the only one that i feel would be worth every penny.\", 'amazing!: this soundtrack is my favorite music of all time, hands down. the intense sadness of \"prisoners of fate\" (which means all the more if you\\'ve played the game) and the hope in \"a distant promise\" and \"girl who stole the star\" have been an important inspiration to me personally throughout my teen years. the higher energy tracks like \"chrono cross ~ time\\'s scar~\", \"time of the dreamwatch\", and \"chronomantique\" (indefinably remeniscent of chrono trigger) are all absolutely superb as well.this soundtrack is amazing music, probably the best of this composer\\'s work (i haven\\'t heard the xenogears soundtrack, so i can\\'t say for sure), and even if you\\'ve never played the game, it would be worth twice the price to buy it.i wish i could give it 0 stars.', \"excellent soundtrack: i truly like this soundtrack and i enjoy video game music. i have played this game and most of the music on here i enjoy and it's truly relaxing and peaceful.on disk one. my favorites are scars of time, between life and death, forest of illusion, fortress of ancient dragons, lost fragment, and drowned valley.disk two: the draggons, galdorb - home, chronomantique, prisoners of fate, gale, and my girlfriend likes zelbessdisk three: the best of the three. garden of god, chronopolis, fates, jellyfish sea, burning orphange, dragon's prayer, tower of stars, dragon god, and radical dreamers - unstealable jewel.overall, this is a excellent soundtrack and should be brought by those that like video game music.xander cross\", \"remember, pull your jaw off the floor after hearing it: if you've played the game, you know how divine the music is! every single song tells a story of the game, it's that good! the greatest songs are without a doubt, chrono cross: time's scar, magical dreamers: the wind, the stars, and the sea and radical dreamers: unstolen jewel. (translation varies) this music is perfect if you ask me, the best it can be. yasunori mitsuda just poured his heart on and wrote it down on paper.\"]\n",
            "400000\n",
            "['great cd: my lovely pat has one of the great voices of her generation. i have listened to this cd for years and i still love it. when i\\'m in a good mood it makes me feel better. a bad mood just evaporates like sugar in the rain. this cd just oozes life. vocals are jusat stuunning and lyrics just kill. one of life\\'s hidden gems. this is a desert isle cd in my book. why she never made it big is just beyond me. everytime i play this, no matter black, white, young, old, male, female everybody says one thing \"who was that singing ?\"', \"one of the best game music soundtracks - for a game i didn't really play: despite the fact that i have only played a small portion of the game, the music i heard (plus the connection to chrono trigger which was great as well) led me to purchase the soundtrack, and it remains one of my favorite albums. there is an incredible mix of fun, epic, and emotional songs. those sad and beautiful tracks i especially like, as there's not too many of those kinds of songs in my other video game soundtracks. i must admit that one of the songs (life-a distant promise) has brought tears to my eyes on many occasions.my one complaint about this soundtrack is that they use guitar fretting effects in many of the songs, which i find distracting. but even if those weren't included i would still consider the collection worth it.\", 'batteries died within a year ...: i bought this charger in jul 0000 and it worked ok for a while. the design is nice and convenient. however, after about a year, the batteries would not hold a charge. might as well just get alkaline disposables, or look elsewhere for a charger that comes with batteries that have better staying power.', \"works fine, but maha energy is better: check out maha energy's website. their powerex mh-c000f charger works in 000 minutes for rapid charge, with option for slower charge (better for batteries). and they have 0000 mah batteries.\", \"great for the non-audiophile: reviewed quite a bit of the combo players and was hesitant due to unfavorable reviews and size of machines. i am weaning off my vhs collection, but don't want to replace them with dvd's. this unit is well built, easy to setup and resolution and special effects (no progressive scan for hdtv owners) suitable for many people looking for a versatile product.cons- no universal remote.\"]\n"
          ],
          "name": "stdout"
        }
      ]
    },
    {
      "cell_type": "markdown",
      "metadata": {
        "id": "vOeT9ivjJDnx",
        "colab_type": "text"
      },
      "source": [
        "## Tokenization"
      ]
    },
    {
      "cell_type": "code",
      "metadata": {
        "id": "rERXR9TdIJks",
        "colab_type": "code",
        "colab": {}
      },
      "source": [
        "vocab_size = 20000\n",
        "embedding_dim = 100\n",
        "max_length = 100\n",
        "trunc_type = 'post'\n",
        "oov_tok=\"<oov>\""
      ],
      "execution_count": 13,
      "outputs": []
    },
    {
      "cell_type": "code",
      "metadata": {
        "id": "0dC-2Oui8I8r",
        "colab_type": "code",
        "colab": {}
      },
      "source": [
        "tokenizer = text.Tokenizer(num_words=vocab_size, oov_token=oov_tok)\n",
        "tokenizer.fit_on_texts(train_sentences)\n",
        "word_index = tokenizer.word_index"
      ],
      "execution_count": 14,
      "outputs": []
    },
    {
      "cell_type": "code",
      "metadata": {
        "id": "WNi6knQ7ZA_c",
        "colab_type": "code",
        "colab": {}
      },
      "source": [
        "sequences = tokenizer.texts_to_sequences(train_sentences)\n",
        "training_padded = sequence.pad_sequences(sequences, maxlen=max_length, truncating=trunc_type)"
      ],
      "execution_count": 15,
      "outputs": []
    },
    {
      "cell_type": "code",
      "metadata": {
        "id": "L7fE2wuJ8Jl_",
        "colab_type": "code",
        "colab": {
          "base_uri": "https://localhost:8080/",
          "height": 221
        },
        "outputId": "4ec19f36-a223-4304-f57f-c35378c94cf0"
      },
      "source": [
        "training_padded[0]"
      ],
      "execution_count": 16,
      "outputs": [
        {
          "output_type": "execute_result",
          "data": {
            "text/plain": [
              "array([    0,     0,     0,     0,     0,     0,     0,     0,     0,\n",
              "           0,     0,     0,     0,     0,     0,     0,     0,     0,\n",
              "           0,     0,     1,    75,    12,     2,   611,  6396,     9,\n",
              "         177,   486,    14,   365,     7,  6072,     2,     1,    11,\n",
              "          61,   439,    28,    70,     4,    40,  1836,     7,    75,\n",
              "           6,   136,    73,   679, 16704,   146,   120,     4,    21,\n",
              "         525,     2,   146,     1,  1871,    17,    41,     8,    29,\n",
              "           8,     2,   598,     4,    21,   133,   525,     7,    45,\n",
              "           2,    89,   120,     7,  6683,   241,    38,  5110,     1,\n",
              "           3,   423,     5, 16762,   852,    18,  8996,  3029,     3,\n",
              "        4339, 19158,     7,    40,  5210,   208,    73,  2729,     6,\n",
              "         337], dtype=int32)"
            ]
          },
          "metadata": {
            "tags": []
          },
          "execution_count": 16
        }
      ]
    },
    {
      "cell_type": "code",
      "metadata": {
        "id": "D1lpbeHf8Jq4",
        "colab_type": "code",
        "colab": {
          "base_uri": "https://localhost:8080/",
          "height": 221
        },
        "outputId": "61abfb2d-5bd7-467e-f450-3f33c5fbc836"
      },
      "source": [
        "tokenized_test = tokenizer.texts_to_sequences(test_sentences)\n",
        "testing_padded = sequence.pad_sequences(tokenized_test, maxlen=max_length)\n",
        "testing_padded[0]"
      ],
      "execution_count": 15,
      "outputs": [
        {
          "output_type": "execute_result",
          "data": {
            "text/plain": [
              "array([   45,    25,     8,     2,    31,  1918,     8,    80,  1958,\n",
              "           4,    21,  1031,     6,     9,    96,    12,   139,     3,\n",
              "           4,   128,    82,     7,    52,   111,    11,     5,    33,\n",
              "        2063,     7,   210,    44,   230,    92,     5,   129,  2063,\n",
              "          37,     1,    34,  2305,    11,     2,  2275,     9,    96,\n",
              "          37,     1,   155,  1032,    24,     1,     1,     3,   647,\n",
              "          37,  1529,    25,     8,  6336,  2462,  4236,     9,    10,\n",
              "           5,  3889, 12034,    96,    11,    22,    20,   183,    98,\n",
              "         123,   130,     7,   221,    10,    37,   862,    44,  2694,\n",
              "           4,   236,     9,    55,   616,   430,   577,   460,   135,\n",
              "        1777,  1352,  2199,   499,    25,   163,    73,    14,    13,\n",
              "         911], dtype=int32)"
            ]
          },
          "metadata": {
            "tags": []
          },
          "execution_count": 15
        }
      ]
    },
    {
      "cell_type": "code",
      "metadata": {
        "id": "ZbT4IZg08Jxi",
        "colab_type": "code",
        "colab": {}
      },
      "source": [
        "reverse_word_index = dict([(value,key) for (key,value) in word_index.items()])"
      ],
      "execution_count": 18,
      "outputs": []
    },
    {
      "cell_type": "code",
      "metadata": {
        "id": "6qlSehgkZzNJ",
        "colab_type": "code",
        "colab": {
          "base_uri": "https://localhost:8080/",
          "height": 71
        },
        "outputId": "2ce41cbb-1714-448c-ec16-1ded78a4c92c"
      },
      "source": [
        "def decode_review(text):\n",
        "    return ' '.join([reverse_word_index.get(i,'') for i in text])\n",
        "print(decode_review(training_padded[1]))\n",
        "print(train_sentences[1])\n"
      ],
      "execution_count": 19,
      "outputs": [
        {
          "output_type": "stream",
          "text": [
            "  the best soundtrack ever to anything i'm reading a lot of reviews saying that this is the best <oov> <oov> and i figured that i'd write a review to disagree a bit this in my <oov> is <oov> <oov> ultimate masterpiece the music is timeless and i'm been listening to it for years now and its beauty simply refuses to fade the price tag on this is pretty staggering i must say but if you are going to buy any cd for this much money this is the only one that i feel would be worth every penny\n",
            "the best soundtrack ever to anything.: i'm reading a lot of reviews saying that this is the best 'game soundtrack' and i figured that i'd write a review to disagree a bit. this in my opinino is yasunori mitsuda's ultimate masterpiece. the music is timeless and i'm been listening to it for years now and its beauty simply refuses to fade.the price tag on this is pretty staggering i must say, but if you are going to buy any cd for this much money, this is the only one that i feel would be worth every penny.\n"
          ],
          "name": "stdout"
        }
      ]
    },
    {
      "cell_type": "markdown",
      "metadata": {
        "id": "huVNtxg4JIjj",
        "colab_type": "text"
      },
      "source": [
        "## Modeling"
      ]
    },
    {
      "cell_type": "code",
      "metadata": {
        "id": "mhR_7Ls_E77i",
        "colab_type": "code",
        "colab": {}
      },
      "source": [
        "from sklearn.model_selection import train_test_split\n",
        "X_train, X_test, y_train, y_test = train_test_split(training_padded, train_labels, test_size=0.20, shuffle = True)"
      ],
      "execution_count": 28,
      "outputs": []
    },
    {
      "cell_type": "code",
      "metadata": {
        "id": "vUcoTZbmGKnV",
        "colab_type": "code",
        "colab": {}
      },
      "source": [
        "X_train = np.array(X_train)\n",
        "X_test = np.array(X_test)\n",
        "y_train = np.array(y_train)\n",
        "y_test = np.array(y_test)"
      ],
      "execution_count": 29,
      "outputs": []
    },
    {
      "cell_type": "code",
      "metadata": {
        "id": "a5iBcAot8Jjw",
        "colab_type": "code",
        "colab": {}
      },
      "source": [
        "batch_size = 2048\n",
        "epochs = 10\n",
        "l2_factor = 0.0001\n",
        "learning_rate = 0.001"
      ],
      "execution_count": 16,
      "outputs": []
    },
    {
      "cell_type": "code",
      "metadata": {
        "id": "kzb4WRq4O6CR",
        "colab_type": "code",
        "colab": {
          "base_uri": "https://localhost:8080/",
          "height": 425
        },
        "outputId": "ca72dc1c-ebd7-40d0-8335-4a5b42175f03"
      },
      "source": [
        "model = tf.keras.Sequential([\n",
        "                             tf.keras.layers.Embedding(vocab_size, embedding_dim, input_length=max_length),\n",
        "                             tf.keras.layers.Bidirectional(tf.keras.layers.LSTM(256, kernel_regularizer=l2(l2_factor), bias_regularizer=l2(l2_factor), kernel_constraint=MaxNorm(10), bias_constraint=MaxNorm(10), return_sequences=True)),\n",
        "                             tf.keras.layers.Dropout(0.5),\n",
        "                             tf.keras.layers.Bidirectional(tf.keras.layers.LSTM(256, kernel_regularizer=l2(l2_factor), bias_regularizer=l2(l2_factor), kernel_constraint=MaxNorm(10), bias_constraint=MaxNorm(10))),\n",
        "                             tf.keras.layers.Dropout(0.5),\n",
        "                             tf.keras.layers.Dense(64, activation='relu'),\n",
        "                             tf.keras.layers.Dropout(0.3),\n",
        "                             tf.keras.layers.Dense(1, activation='sigmoid')\n",
        "])\n",
        "optimizer = tf.keras.optimizers.Adam(lr=0.001)\n",
        "model.compile(loss = 'binary_crossentropy', optimizer=optimizer, metrics=['acc'])\n",
        "model.summary()"
      ],
      "execution_count": 31,
      "outputs": [
        {
          "output_type": "stream",
          "text": [
            "Model: \"sequential\"\n",
            "_________________________________________________________________\n",
            "Layer (type)                 Output Shape              Param #   \n",
            "=================================================================\n",
            "embedding (Embedding)        (None, 100, 100)          2000000   \n",
            "_________________________________________________________________\n",
            "bidirectional (Bidirectional (None, 100, 512)          731136    \n",
            "_________________________________________________________________\n",
            "dropout (Dropout)            (None, 100, 512)          0         \n",
            "_________________________________________________________________\n",
            "bidirectional_1 (Bidirection (None, 512)               1574912   \n",
            "_________________________________________________________________\n",
            "dropout_1 (Dropout)          (None, 512)               0         \n",
            "_________________________________________________________________\n",
            "dense (Dense)                (None, 64)                32832     \n",
            "_________________________________________________________________\n",
            "dropout_2 (Dropout)          (None, 64)                0         \n",
            "_________________________________________________________________\n",
            "dense_1 (Dense)              (None, 1)                 65        \n",
            "=================================================================\n",
            "Total params: 4,338,945\n",
            "Trainable params: 4,338,945\n",
            "Non-trainable params: 0\n",
            "_________________________________________________________________\n"
          ],
          "name": "stdout"
        }
      ]
    },
    {
      "cell_type": "code",
      "metadata": {
        "id": "qYWkLPB7BlRX",
        "colab_type": "code",
        "colab": {}
      },
      "source": [
        "weight_path=\"/content/drive/My Drive/kaggle/amazon-reviews-sentiment-analysis/early_weights_08012020_1.hdf5\"\n",
        "checkpoint = ModelCheckpoint(weight_path, monitor='val_loss', verbose=1, save_best_only=True, mode='min')\n",
        "early_stopping = EarlyStopping(monitor=\"val_loss\", mode=\"min\", patience=5)\n",
        "callbacks = [checkpoint, early_stopping]"
      ],
      "execution_count": 32,
      "outputs": []
    },
    {
      "cell_type": "code",
      "metadata": {
        "id": "JkUQg1SsBlN4",
        "colab_type": "code",
        "colab": {
          "base_uri": "https://localhost:8080/",
          "height": 714
        },
        "outputId": "764bd27e-6948-42d4-8ad8-01c8625a7767"
      },
      "source": [
        "model.fit(X_train, y_train, batch_size=batch_size, epochs=epochs, validation_data=(X_test, y_test), callbacks=callbacks, workers=4)"
      ],
      "execution_count": 33,
      "outputs": [
        {
          "output_type": "stream",
          "text": [
            "Epoch 1/10\n",
            "1407/1407 [==============================] - ETA: 0s - loss: 0.2744 - acc: 0.9012\n",
            "Epoch 00001: val_loss improved from inf to 0.61230, saving model to /content/drive/My Drive/kaggle/amazon-reviews-sentiment-analysis/early_weights_08012020_1.hdf5\n",
            "1407/1407 [==============================] - 904s 643ms/step - loss: 0.2744 - acc: 0.9012 - val_loss: 0.6123 - val_acc: 0.7283\n",
            "Epoch 2/10\n",
            "1407/1407 [==============================] - ETA: 0s - loss: 0.1987 - acc: 0.9320\n",
            "Epoch 00002: val_loss improved from 0.61230 to 0.17395, saving model to /content/drive/My Drive/kaggle/amazon-reviews-sentiment-analysis/early_weights_08012020_1.hdf5\n",
            "1407/1407 [==============================] - 905s 643ms/step - loss: 0.1987 - acc: 0.9320 - val_loss: 0.1740 - val_acc: 0.9390\n",
            "Epoch 3/10\n",
            "1407/1407 [==============================] - ETA: 0s - loss: 0.1617 - acc: 0.9431\n",
            "Epoch 00003: val_loss improved from 0.17395 to 0.16218, saving model to /content/drive/My Drive/kaggle/amazon-reviews-sentiment-analysis/early_weights_08012020_1.hdf5\n",
            "1407/1407 [==============================] - 906s 644ms/step - loss: 0.1617 - acc: 0.9431 - val_loss: 0.1622 - val_acc: 0.9417\n",
            "Epoch 4/10\n",
            "1407/1407 [==============================] - ETA: 0s - loss: 0.1571 - acc: 0.9466\n",
            "Epoch 00004: val_loss did not improve from 0.16218\n",
            "1407/1407 [==============================] - 905s 643ms/step - loss: 0.1571 - acc: 0.9466 - val_loss: 0.1639 - val_acc: 0.9426\n",
            "Epoch 5/10\n",
            "1407/1407 [==============================] - ETA: 0s - loss: 0.1452 - acc: 0.9504\n",
            "Epoch 00005: val_loss improved from 0.16218 to 0.15657, saving model to /content/drive/My Drive/kaggle/amazon-reviews-sentiment-analysis/early_weights_08012020_1.hdf5\n",
            "1407/1407 [==============================] - 906s 644ms/step - loss: 0.1452 - acc: 0.9504 - val_loss: 0.1566 - val_acc: 0.9444\n",
            "Epoch 6/10\n",
            "1407/1407 [==============================] - ETA: 0s - loss: 0.1371 - acc: 0.9535\n",
            "Epoch 00006: val_loss did not improve from 0.15657\n",
            "1407/1407 [==============================] - 905s 643ms/step - loss: 0.1371 - acc: 0.9535 - val_loss: 0.1567 - val_acc: 0.9444\n",
            "Epoch 7/10\n",
            "1407/1407 [==============================] - ETA: 0s - loss: 0.1292 - acc: 0.9566\n",
            "Epoch 00007: val_loss improved from 0.15657 to 0.15609, saving model to /content/drive/My Drive/kaggle/amazon-reviews-sentiment-analysis/early_weights_08012020_1.hdf5\n",
            "1407/1407 [==============================] - 906s 644ms/step - loss: 0.1292 - acc: 0.9566 - val_loss: 0.1561 - val_acc: 0.9444\n",
            "Epoch 8/10\n",
            "1407/1407 [==============================] - ETA: 0s - loss: 0.1307 - acc: 0.9575\n",
            "Epoch 00008: val_loss did not improve from 0.15609\n",
            "1407/1407 [==============================] - 904s 642ms/step - loss: 0.1307 - acc: 0.9575 - val_loss: 0.1600 - val_acc: 0.9432\n",
            "Epoch 9/10\n",
            "1407/1407 [==============================] - ETA: 0s - loss: 0.1165 - acc: 0.9617\n",
            "Epoch 00009: val_loss did not improve from 0.15609\n",
            "1407/1407 [==============================] - 903s 642ms/step - loss: 0.1165 - acc: 0.9617 - val_loss: 0.1593 - val_acc: 0.9436\n",
            "Epoch 10/10\n",
            "1407/1407 [==============================] - ETA: 0s - loss: 0.1110 - acc: 0.9637\n",
            "Epoch 00010: val_loss did not improve from 0.15609\n",
            "1407/1407 [==============================] - 903s 642ms/step - loss: 0.1110 - acc: 0.9637 - val_loss: 0.1633 - val_acc: 0.9435\n"
          ],
          "name": "stdout"
        },
        {
          "output_type": "execute_result",
          "data": {
            "text/plain": [
              "<tensorflow.python.keras.callbacks.History at 0x7f20d0ab8a20>"
            ]
          },
          "metadata": {
            "tags": []
          },
          "execution_count": 33
        }
      ]
    },
    {
      "cell_type": "markdown",
      "metadata": {
        "id": "3LeoGtyiW_B7",
        "colab_type": "text"
      },
      "source": [
        "**Best Results**\n",
        "Epoch 1/10\n",
        "1407/1407 [==============================] - ETA: 0s - loss: 0.2518 - acc: 0.9101Epoch 2/10\n",
        "1407/1407 [==============================] - ETA: 0s - loss: 0.1692 - acc: 0.9399\n",
        "Epoch 00002: val_loss improved from 0.18967 to 0.16057, saving model to /content/drive/My Drive/kaggle/amazon-reviews-sentiment-analysis/early_weights_07232020_1.hdf5\n",
        "1407/1407 [==============================] - 888s 631ms/step - loss: 0.1692 - acc: 0.9399 - val_loss: 0.1606 - val_acc: 0.9421\n",
        "Epoch 3/10\n",
        "1407/1407 [==============================] - ETA: 0s - loss: 0.1525 - acc: 0.9460\n",
        "Epoch 00003: val_loss improved from 0.16057 to 0.15537, saving model to /content/drive/My Drive/kaggle/amazon-reviews-sentiment-analysis/early_weights_07232020_1.hdf5\n",
        "1407/1407 [==============================] - 888s 631ms/step - loss: 0.1525 - acc: 0.9460 - val_loss: 0.1554 - val_acc: 0.9433\n",
        "Epoch 4/10\n",
        "1407/1407 [==============================] - ETA: 0s - loss: 0.1422 - acc: 0.9502\n",
        "Epoch 00004: val_loss improved from 0.15537 to 0.15515, saving model to /content/drive/My Drive/kaggle/amazon-reviews-sentiment-analysis/early_weights_07232020_1.hdf5\n",
        "1407/1407 [==============================] - 887s 630ms/step - loss: 0.1422 - acc: 0.9502 - val_loss: 0.1552 - val_acc: 0.9442\n",
        "Epoch 5/10\n",
        "1407/1407 [==============================] - ETA: 0s - loss: 0.1341 - acc: 0.9535\n",
        "Epoch 00005: val_loss improved from 0.15515 to 0.15364, saving model to /content/drive/My Drive/kaggle/amazon-reviews-sentiment-analysis/early_weights_07232020_1.hdf5\n",
        "1407/1407 [==============================] - 886s 630ms/step - loss: 0.1341 - acc: 0.9535 - val_loss: 0.1536 - val_acc: 0.9439\n",
        "Epoch 6/10\n",
        "1407/1407 [==============================] - ETA: 0s - loss: 0.1271 - acc: 0.9565\n",
        "Epoch 00006: val_loss improved from 0.15364 to 0.15150, saving model to /content/drive/My Drive/kaggle/amazon-reviews-sentiment-analysis/early_weights_07232020_1.hdf5\n",
        "1407/1407 [==============================] - 887s 630ms/step - loss: 0.1271 - acc: 0.9565 - val_loss: 0.1515 - val_acc: 0.9447\n",
        "Epoch 7/10\n",
        "1407/1407 [==============================] - ETA: 0s - loss: 0.1205 - acc: 0.9593\n",
        "Epoch 00007: val_loss did not improve from 0.15150\n",
        "1407/1407 [==============================] - 883s 628ms/step - loss: 0.1205 - acc: 0.9593 - val_loss: 0.1529 - val_acc: 0.9448\n",
        "Epoch 8/10\n",
        "1407/1407 [==============================] - ETA: 0s - loss: 0.1141 - acc: 0.9619\n",
        "Epoch 00008: val_loss did not improve from 0.15150\n",
        "1407/1407 [==============================] - 883s 627ms/step - loss: 0.1141 - acc: 0.9619 - val_loss: 0.1631 - val_acc: 0.9416\n",
        "Epoch 9/10\n",
        "1407/1407 [==============================] - ETA: 0s - loss: 0.1085 - acc: 0.9644\n",
        "Epoch 00009: val_loss did not improve from 0.15150\n",
        "1407/1407 [==============================] - 883s 627ms/step - loss: 0.1085 - acc: 0.9644 - val_loss: 0.1601 - val_acc: 0.9434\n",
        "Epoch 10/10\n",
        "1407/1407 [==============================] - ETA: 0s - loss: 0.1029 - acc: 0.9667\n",
        "Epoch 00010: val_loss did not improve from 0.15150\n",
        "1407/1407 [==============================] - 883s 627ms/step - loss: 0.1029 - acc: 0.9667 - val_loss: 0.1679 - val_acc: 0.9422\n",
        "<tensorflow.python.keras.callbacks.History at 0x7f1ec2ea1128>"
      ]
    },
    {
      "cell_type": "markdown",
      "metadata": {
        "id": "FLMCBtytTkdv",
        "colab_type": "text"
      },
      "source": [
        "**RUN 2**\n",
        "Epoch 1/10\n",
        "1407/1407 [==============================] - ETA: 0s - loss: 0.2841 - acc: 0.8771\n",
        "Epoch 00001: val_loss improved from inf to 0.22664, saving model to early_weights.hdf5\n",
        "1407/1407 [==============================] - 250s 178ms/step - loss: 0.2841 - acc: 0.8771 - val_loss: 0.2266 - val_acc: 0.9107\n",
        "Epoch 2/10\n",
        "1407/1407 [==============================] - ETA: 0s - loss: 0.2206 - acc: 0.9143\n",
        "Epoch 00002: val_loss improved from 0.22664 to 0.21347, saving model to early_weights.hdf5\n",
        "1407/1407 [==============================] - 250s 177ms/step - loss: 0.2206 - acc: 0.9143 - val_loss: 0.2135 - val_acc: 0.9161\n",
        "Epoch 3/10\n",
        "1407/1407 [==============================] - ETA: 0s - loss: 0.2078 - acc: 0.9195\n",
        "Epoch 00003: val_loss improved from 0.21347 to 0.20356, saving model to early_weights.hdf5\n",
        "1407/1407 [==============================] - 250s 178ms/step - loss: 0.2078 - acc: 0.9195 - val_loss: 0.2036 - val_acc: 0.9197\n",
        "Epoch 4/10\n",
        "1407/1407 [==============================] - ETA: 0s - loss: 0.1965 - acc: 0.9244\n",
        "Epoch 00004: val_loss improved from 0.20356 to 0.19252, saving model to early_weights.hdf5\n",
        "1407/1407 [==============================] - 252s 179ms/step - loss: 0.1965 - acc: 0.9244 - val_loss: 0.1925 - val_acc: 0.9250\n",
        "Epoch 5/10\n",
        "1407/1407 [==============================] - ETA: 0s - loss: 0.1840 - acc: 0.9299\n",
        "Epoch 00005: val_loss improved from 0.19252 to 0.18486, saving model to early_weights.hdf5\n",
        "1407/1407 [==============================] - 253s 179ms/step - loss: 0.1840 - acc: 0.9299 - val_loss: 0.1849 - val_acc: 0.9288\n",
        "Epoch 6/10\n",
        "1407/1407 [==============================] - ETA: 0s - loss: 0.1743 - acc: 0.9343\n",
        "Epoch 00006: val_loss improved from 0.18486 to 0.17907, saving model to early_weights.hdf5\n",
        "1407/1407 [==============================] - 252s 179ms/step - loss: 0.1743 - acc: 0.9343 - val_loss: 0.1791 - val_acc: 0.9321\n",
        "Epoch 7/10\n",
        "1407/1407 [==============================] - ETA: 0s - loss: 0.1669 - acc: 0.9375\n",
        "Epoch 00007: val_loss improved from 0.17907 to 0.17276, saving model to early_weights.hdf5\n",
        "1407/1407 [==============================] - 250s 178ms/step - loss: 0.1669 - acc: 0.9375 - val_loss: 0.1728 - val_acc: 0.9343\n",
        "Epoch 8/10\n",
        "1407/1407 [==============================] - ETA: 0s - loss: 0.1614 - acc: 0.9400\n",
        "Epoch 00008: val_loss improved from 0.17276 to 0.17045, saving model to early_weights.hdf5\n",
        "1407/1407 [==============================] - 249s 177ms/step - loss: 0.1614 - acc: 0.9400 - val_loss: 0.1705 - val_acc: 0.9351\n",
        "Epoch 9/10\n",
        "1407/1407 [==============================] - ETA: 0s - loss: 0.1560 - acc: 0.9425\n",
        "Epoch 00009: val_loss improved from 0.17045 to 0.16651, saving model to early_weights.hdf5\n",
        "1407/1407 [==============================] - 250s 178ms/step - loss: 0.1560 - acc: 0.9425 - val_loss: 0.1665 - val_acc: 0.9368\n",
        "Epoch 10/10\n",
        "1407/1407 [==============================] - ETA: 0s - loss: 0.1516 - acc: 0.9443\n",
        "Epoch 00010: val_loss did not improve from 0.16651\n",
        "1407/1407 [==============================] - 249s 177ms/step - loss: 0.1516 - acc: 0.9443 - val_loss: 0.1752 - val_acc: 0.9345\n",
        "<tensorflow.python.keras.callbacks.History at 0x7fc2940259b0>"
      ]
    },
    {
      "cell_type": "markdown",
      "metadata": {
        "id": "uhpCW7s8jNDq",
        "colab_type": "text"
      },
      "source": [
        "**Run 1**\n",
        "Epoch 1/5\n",
        "1407/1407 [==============================] - ETA: 0s - loss: 0.2018 - acc: 0.9186\n",
        "Epoch 00001: val_loss improved from inf to 0.16100, saving model to early_weights.hdf5\n",
        "1407/1407 [==============================] - 244s 173ms/step - loss: 0.2018 - acc: 0.9186 - val_loss: 0.1610 - val_acc: 0.9382\n",
        "Epoch 2/5\n",
        "1407/1407 [==============================] - ETA: 0s - loss: 0.1471 - acc: 0.9442\n",
        "Epoch 00002: val_loss improved from 0.16100 to 0.14928, saving model to early_weights.hdf5\n",
        "1407/1407 [==============================] - 243s 173ms/step - loss: 0.1471 - acc: 0.9442 - val_loss: 0.1493 - val_acc: 0.9433\n",
        "Epoch 3/5\n",
        "1407/1407 [==============================] - ETA: 0s - loss: 0.1302 - acc: 0.9517\n",
        "Epoch 00003: val_loss improved from 0.14928 to 0.14451, saving model to early_weights.hdf5\n",
        "1407/1407 [==============================] - 243s 173ms/step - loss: 0.1302 - acc: 0.9517 - val_loss: 0.1445 - val_acc: 0.9455\n",
        "Epoch 4/5\n",
        "1407/1407 [==============================] - ETA: 0s - loss: 0.1172 - acc: 0.9572\n",
        "Epoch 00004: val_loss did not improve from 0.14451\n",
        "1407/1407 [==============================] - 243s 173ms/step - loss: 0.1172 - acc: 0.9572 - val_loss: 0.1486 - val_acc: 0.9462\n",
        "Epoch 5/5\n",
        "1407/1407 [==============================] - ETA: 0s - loss: 0.1051 - acc: 0.9625\n",
        "Epoch 00005: val_loss did not improve from 0.14451\n",
        "1407/1407 [==============================] - 243s 173ms/step - loss: 0.1051 - acc: 0.9625 - val_loss: 0.1479 - val_acc: 0.9463\n",
        "<tensorflow.python.keras.callbacks.History at 0x7fc1eb989550>"
      ]
    },
    {
      "cell_type": "code",
      "metadata": {
        "id": "TmVjFl19hsAU",
        "colab_type": "code",
        "colab": {}
      },
      "source": [
        "testing_padded = np.array(testing_padded)\n",
        "test_labels = np.array(test_labels)"
      ],
      "execution_count": null,
      "outputs": []
    },
    {
      "cell_type": "code",
      "metadata": {
        "id": "7pnzo8wxBlKQ",
        "colab_type": "code",
        "colab": {
          "base_uri": "https://localhost:8080/",
          "height": 68
        },
        "outputId": "90d8490d-cd1f-464b-b954-9c43f4adddde"
      },
      "source": [
        "model.load_weights(weight_path)\n",
        "score, acc = model.evaluate(testing_padded, test_labels, batch_size=batch_size)\n",
        "print('Test score:', score)\n",
        "print('Test accuracy:', acc)"
      ],
      "execution_count": null,
      "outputs": [
        {
          "output_type": "stream",
          "text": [
            "196/196 [==============================] - 11s 55ms/step - loss: 0.1906 - acc: 0.9261\n",
            "Test score: 0.1906423568725586\n",
            "Test accuracy: 0.9260824918746948\n"
          ],
          "name": "stdout"
        }
      ]
    },
    {
      "cell_type": "markdown",
      "metadata": {
        "id": "iv7_esGAHV2g",
        "colab_type": "text"
      },
      "source": [
        "## Predicting and Evaluating using Test Data"
      ]
    },
    {
      "cell_type": "code",
      "metadata": {
        "colab_type": "code",
        "id": "Y8JfoJz2HZxE",
        "colab": {}
      },
      "source": [
        "testing_padded = np.array(testing_padded)\n",
        "test_labels = np.array(test_labels)"
      ],
      "execution_count": 17,
      "outputs": []
    },
    {
      "cell_type": "code",
      "metadata": {
        "colab_type": "code",
        "id": "s-Ul8iq_HZxH",
        "colab": {}
      },
      "source": [
        "saved_model_path = '/content/drive/My Drive/kaggle/amazon-reviews-sentiment-analysis/early_weights_08012020_1.hdf5'\n",
        "loaded_model =  tf.keras.models.load_model(saved_model_path)"
      ],
      "execution_count": 18,
      "outputs": []
    },
    {
      "cell_type": "code",
      "metadata": {
        "id": "8MwFt-fb6xzt",
        "colab_type": "code",
        "colab": {
          "base_uri": "https://localhost:8080/",
          "height": 68
        },
        "outputId": "d85379c7-edc3-4c99-f375-a91a8ab3ce22"
      },
      "source": [
        "# Looks like weights file got over written somewhere by bad weights. Therefore, showing bad results below. \n",
        "score, acc = loaded_model.evaluate(testing_padded, test_labels, batch_size=batch_size)\n",
        "print('Test score:', score)\n",
        "print('Test accuracy:', acc)"
      ],
      "execution_count": 19,
      "outputs": [
        {
          "output_type": "stream",
          "text": [
            "196/196 [==============================] - 38s 193ms/step - loss: 0.1783 - acc: 0.9353\n",
            "Test score: 0.1782613843679428\n",
            "Test accuracy: 0.9353175163269043\n"
          ],
          "name": "stdout"
        }
      ]
    },
    {
      "cell_type": "code",
      "metadata": {
        "id": "tKjobKdX7eCq",
        "colab_type": "code",
        "colab": {
          "base_uri": "https://localhost:8080/",
          "height": 136
        },
        "outputId": "f3a13cd2-3f4e-41e1-db8d-cf068f1d7a09"
      },
      "source": [
        "y_pred = loaded_model.predict(testing_padded)\n",
        "print(y_pred)"
      ],
      "execution_count": 20,
      "outputs": [
        {
          "output_type": "stream",
          "text": [
            "[[0.89215   ]\n",
            " [0.99889225]\n",
            " [0.00380825]\n",
            " ...\n",
            " [0.5334302 ]\n",
            " [0.9966097 ]\n",
            " [0.32134476]]\n"
          ],
          "name": "stdout"
        }
      ]
    },
    {
      "cell_type": "code",
      "metadata": {
        "id": "1O0pcGFpESHS",
        "colab_type": "code",
        "colab": {
          "base_uri": "https://localhost:8080/",
          "height": 204
        },
        "outputId": "d15949be-57d9-44bd-f35e-4e3b453e87e3"
      },
      "source": [
        "print(\"\\nClassification Report : \\n{}\".format(classification_report(y_pred.round(), test_labels)))"
      ],
      "execution_count": 21,
      "outputs": [
        {
          "output_type": "stream",
          "text": [
            "\n",
            "Classification Report : \n",
            "              precision    recall  f1-score   support\n",
            "\n",
            "         0.0       0.94      0.93      0.94    200325\n",
            "         1.0       0.93      0.94      0.94    199675\n",
            "\n",
            "    accuracy                           0.94    400000\n",
            "   macro avg       0.94      0.94      0.94    400000\n",
            "weighted avg       0.94      0.94      0.94    400000\n",
            "\n"
          ],
          "name": "stdout"
        }
      ]
    },
    {
      "cell_type": "code",
      "metadata": {
        "id": "zfChI2lOEV0Y",
        "colab_type": "code",
        "colab": {
          "base_uri": "https://localhost:8080/",
          "height": 345
        },
        "outputId": "7e208c89-4efc-49d3-ada9-29673f58fb89"
      },
      "source": [
        "print(\"\\nConfusion matrix\")\n",
        "conf_matrix = confusion_matrix(y_pred.round(), test_labels)\n",
        "plt.imshow(conf_matrix, cmap=plt.cm.Blues, interpolation='nearest')\n",
        "tick_marks = np.arange(2)   \n",
        "classes = [\"0\",\"1\"]\n",
        "plt.xticks(tick_marks, classes)\n",
        "plt.yticks(tick_marks, classes)\n",
        "thresho = conf_matrix.max() / 2.\n",
        "# The below for loop helps to add numbers in the boxes\n",
        "for k, j in itertools.product(range(conf_matrix.shape[0]), range(conf_matrix.shape[1])):\n",
        "    plt.text(j, k, conf_matrix[k, j], horizontalalignment=\"center\", color=\"white\" if conf_matrix[k, j] > thresho else \"black\")\n",
        "\n",
        "plt.tight_layout()\n",
        "plt.ylabel('True label')\n",
        "plt.xlabel('Predicted label')\n",
        "plt.colorbar()\n",
        "plt.show()"
      ],
      "execution_count": 22,
      "outputs": [
        {
          "output_type": "stream",
          "text": [
            "\n",
            "Confusion matrix\n"
          ],
          "name": "stdout"
        },
        {
          "output_type": "display_data",
          "data": {
            "image/png": "[encoded data removed]",
            "text/plain": [
              "<Figure size 432x288 with 2 Axes>"
            ]
          },
          "metadata": {
            "tags": [],
            "needs_background": "light"
          }
        }
      ]
    },
    {
      "cell_type": "code",
      "metadata": {
        "id": "LGkMQ3-lEYLQ",
        "colab_type": "code",
        "colab": {
          "base_uri": "https://localhost:8080/",
          "height": 312
        },
        "outputId": "7f5a2a9e-8088-4f63-c7e8-9b032d4a944f"
      },
      "source": [
        "# Below is the ROC curve\n",
        "import sklearn.metrics as m\n",
        "print(\"ROC AUC Score : {}\".format(m.roc_auc_score(test_labels, y_pred.round())))\n",
        "\n",
        "fpr, tpr, threshold = m.roc_curve(test_labels, y_pred.round())\n",
        "plt.figure()\n",
        "plt.plot(fpr, tpr)\n",
        "plt.plot([0,1],[0,1],'--')\n",
        "plt.xlim([0.0, 1.0])\n",
        "plt.ylim([0.0, 1.05])\n",
        "plt.xlabel('False Positive Rate')\n",
        "plt.ylabel('True Positive Rate')\n",
        "plt.title('Receiver operating characteristic')\n",
        "plt.show()"
      ],
      "execution_count": 23,
      "outputs": [
        {
          "output_type": "stream",
          "text": [
            "ROC AUC Score : 0.9353175\n"
          ],
          "name": "stdout"
        },
        {
          "output_type": "display_data",
          "data": {
            "image/png": "[encoded data removed]",
            "text/plain": [
              "<Figure size 432x288 with 1 Axes>"
            ]
          },
          "metadata": {
            "tags": [],
            "needs_background": "light"
          }
        }
      ]
    },
    {
      "cell_type": "code",
      "metadata": {
        "id": "bW123uzaTjDe",
        "colab_type": "code",
        "colab": {}
      },
      "source": [
        ""
      ],
      "execution_count": null,
      "outputs": []
    }
  ]
}