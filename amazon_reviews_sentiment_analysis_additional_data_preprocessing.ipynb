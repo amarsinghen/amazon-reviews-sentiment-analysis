{
  "nbformat": 4,
  "nbformat_minor": 0,
  "metadata": {
    "colab": {
      "name": "amazon-reviews-sentiment-analysis-additional-data-preprocessing.ipynb",
      "provenance": [],
      "collapsed_sections": [],
      "machine_shape": "hm",
      "mount_file_id": "164lf4l9BbvMlETa94Nt_ToUFhtVZ1lZu",
      "authorship_tag": "ABX9TyOBvpuKZJhOcDAvoFAqrIo3",
      "include_colab_link": true
    },
    "kernelspec": {
      "name": "python3",
      "display_name": "Python 3"
    },
    "accelerator": "GPU"
  },
  "cells": [
    {
      "cell_type": "markdown",
      "metadata": {
        "id": "view-in-github",
        "colab_type": "text"
      },
      "source": [
        "<a href=\"https://colab.research.google.com/github/amarsinghen/amazon-reviews-sentiment-analysis/blob/master/amazon_reviews_sentiment_analysis_additional_data_preprocessing.ipynb\" target=\"_parent\"><img src=\"https://colab.research.google.com/assets/colab-badge.svg\" alt=\"Open In Colab\"/></a>"
      ]
    },
    {
      "cell_type": "code",
      "metadata": {
        "id": "h-lN9iEF7NtX",
        "colab_type": "code",
        "colab": {
          "base_uri": "https://localhost:8080/",
          "height": 35
        },
        "outputId": "9fd2db52-0974-480f-f358-8f56be691e12"
      },
      "source": [
        "import tensorflow as tf\n",
        "tf.__version__"
      ],
      "execution_count": 1,
      "outputs": [
        {
          "output_type": "execute_result",
          "data": {
            "application/vnd.google.colaboratory.intrinsic+json": {
              "type": "string"
            },
            "text/plain": [
              "'2.2.0'"
            ]
          },
          "metadata": {
            "tags": []
          },
          "execution_count": 1
        }
      ]
    },
    {
      "cell_type": "code",
      "metadata": {
        "id": "coIK88S5DTBF",
        "colab_type": "code",
        "colab": {
          "base_uri": "https://localhost:8080/",
          "height": 326
        },
        "outputId": "7aa90045-462b-472c-d666-d886cc74a3b2"
      },
      "source": [
        "!pip install contractions"
      ],
      "execution_count": 2,
      "outputs": [
        {
          "output_type": "stream",
          "text": [
            "Collecting contractions\n",
            "  Downloading https://files.pythonhosted.org/packages/00/92/a05b76a692ac08d470ae5c23873cf1c9a041532f1ee065e74b374f218306/contractions-0.0.25-py2.py3-none-any.whl\n",
            "Collecting textsearch\n",
            "  Downloading https://files.pythonhosted.org/packages/42/a8/03407021f9555043de5492a2bd7a35c56cc03c2510092b5ec018cae1bbf1/textsearch-0.0.17-py2.py3-none-any.whl\n",
            "Collecting pyahocorasick\n",
            "\u001b[?25l  Downloading https://files.pythonhosted.org/packages/f4/9f/f0d8e8850e12829eea2e778f1c90e3c53a9a799b7f412082a5d21cd19ae1/pyahocorasick-1.4.0.tar.gz (312kB)\n",
            "\u001b[K     |████████████████████████████████| 317kB 3.7MB/s \n",
            "\u001b[?25hCollecting Unidecode\n",
            "\u001b[?25l  Downloading https://files.pythonhosted.org/packages/d0/42/d9edfed04228bacea2d824904cae367ee9efd05e6cce7ceaaedd0b0ad964/Unidecode-1.1.1-py2.py3-none-any.whl (238kB)\n",
            "\u001b[K     |████████████████████████████████| 245kB 12.1MB/s \n",
            "\u001b[?25hBuilding wheels for collected packages: pyahocorasick\n",
            "  Building wheel for pyahocorasick (setup.py) ... \u001b[?25l\u001b[?25hdone\n",
            "  Created wheel for pyahocorasick: filename=pyahocorasick-1.4.0-cp36-cp36m-linux_x86_64.whl size=81700 sha256=5c6efad4f2ff5dd46863c9b60358207e25eaddb30d9adaedea3b652c6d1a507c\n",
            "  Stored in directory: /root/.cache/pip/wheels/0a/90/61/87a55f5b459792fbb2b7ba6b31721b06ff5cf6bde541b40994\n",
            "Successfully built pyahocorasick\n",
            "Installing collected packages: pyahocorasick, Unidecode, textsearch, contractions\n",
            "Successfully installed Unidecode-1.1.1 contractions-0.0.25 pyahocorasick-1.4.0 textsearch-0.0.17\n"
          ],
          "name": "stdout"
        }
      ]
    },
    {
      "cell_type": "code",
      "metadata": {
        "id": "BdcXpmoZBoGR",
        "colab_type": "code",
        "colab": {
          "base_uri": "https://localhost:8080/",
          "height": 51
        },
        "outputId": "e2bd8339-b657-457a-be05-59452dca14e3"
      },
      "source": [
        "import zipfile\n",
        "import pandas as pd\n",
        "import numpy as np\n",
        "import bz2\n",
        "import gc\n",
        "import re\n",
        "import os\n",
        "import nltk\n",
        "nltk.download('wordnet')\n",
        "from nltk.stem import WordNetLemmatizer\n",
        "from nltk.tokenize.toktok import ToktokTokenizer\n",
        "import unicodedata\n",
        "import spacy\n",
        "from bs4 import BeautifulSoup\n",
        "import unicodedata\n",
        "import contractions\n",
        "import pickle\n",
        "import gzip\n",
        "from sklearn.metrics import classification_report, confusion_matrix\n",
        "import itertools\n",
        "import seaborn as sns\n",
        "import matplotlib.pyplot as plt "
      ],
      "execution_count": 44,
      "outputs": [
        {
          "output_type": "stream",
          "text": [
            "[nltk_data] Downloading package wordnet to /root/nltk_data...\n",
            "[nltk_data]   Package wordnet is already up-to-date!\n"
          ],
          "name": "stdout"
        }
      ]
    },
    {
      "cell_type": "code",
      "metadata": {
        "id": "RsqK2CHl8ZQJ",
        "colab_type": "code",
        "colab": {}
      },
      "source": [
        "from tensorflow.keras.models import Model, Sequential\n",
        "from tensorflow.keras.layers import Dense, Embedding, Input, Conv1D, GlobalMaxPool1D, Dropout, concatenate, Layer, InputSpec, LSTM\n",
        "from tensorflow.keras.preprocessing import text, sequence\n",
        "from tensorflow.keras.callbacks import EarlyStopping, ModelCheckpoint\n",
        "from tensorflow.keras import backend as K\n",
        "from tensorflow.keras import activations, initializers, regularizers, constraints\n",
        "from tensorflow.keras.regularizers import l2\n",
        "from tensorflow.keras.constraints import MaxNorm"
      ],
      "execution_count": 4,
      "outputs": []
    },
    {
      "cell_type": "markdown",
      "metadata": {
        "id": "2LssZNfFFSJZ",
        "colab_type": "text"
      },
      "source": [
        "## Loading raw data from kaggle"
      ]
    },
    {
      "cell_type": "code",
      "metadata": {
        "id": "s3Hwne1H_tZH",
        "colab_type": "code",
        "colab": {
          "base_uri": "https://localhost:8080/",
          "height": 68
        },
        "outputId": "7ea320c9-b62a-4b97-8521-70ecdd3e4a8c"
      },
      "source": [
        "# Downloading the data from kaggle for first time, and \n",
        "# then saving to google drive for future uses. It is faster this way\n",
        "!pip install -q kaggle\n",
        "# The Kaggle API client expects this file to be in ~/.kaggle,\n",
        "# so move it there.\n",
        "!mkdir -p ~/.kaggle\n",
        "!cp '/content/drive/My Drive/kaggle.json' ~/.kaggle/\n",
        "# This permissions change avoids a warning on Kaggle tool startup.\n",
        "!chmod 600 ~/.kaggle/kaggle.json\n",
        "!kaggle datasets download -d bittlingmayer/amazonreviews"
      ],
      "execution_count": 5,
      "outputs": [
        {
          "output_type": "stream",
          "text": [
            "Downloading amazonreviews.zip to /content\n",
            " 99% 489M/493M [00:21<00:00, 32.9MB/s]\n",
            "100% 493M/493M [00:21<00:00, 23.6MB/s]\n"
          ],
          "name": "stdout"
        }
      ]
    },
    {
      "cell_type": "code",
      "metadata": {
        "id": "vvCK13JP_pBy",
        "colab_type": "code",
        "colab": {}
      },
      "source": [
        "import zipfile\n",
        "local_zip = ['amazonreviews.zip']\n",
        "for i in range(len(local_zip)):\n",
        "    zip_ref = zipfile.ZipFile(local_zip[i], 'r')\n",
        "    zip_ref.extractall('/tmp')\n",
        "    zip_ref.close()"
      ],
      "execution_count": 6,
      "outputs": []
    },
    {
      "cell_type": "code",
      "metadata": {
        "id": "D4kmysJWBe_9",
        "colab_type": "code",
        "colab": {}
      },
      "source": [
        "train_file = bz2.BZ2File('/tmp/train.ft.txt.bz2')\n",
        "test_file = bz2.BZ2File('/tmp/test.ft.txt.bz2')"
      ],
      "execution_count": 7,
      "outputs": []
    },
    {
      "cell_type": "code",
      "metadata": {
        "id": "j9qXJgnUDB8y",
        "colab_type": "code",
        "colab": {}
      },
      "source": [
        "train_file_lines = train_file.readlines()\n",
        "test_file_lines = test_file.readlines()"
      ],
      "execution_count": 8,
      "outputs": []
    },
    {
      "cell_type": "code",
      "metadata": {
        "id": "eSFYmYzhDC-Q",
        "colab_type": "code",
        "colab": {
          "base_uri": "https://localhost:8080/",
          "height": 105
        },
        "outputId": "6db6b744-375e-418e-d2f3-e57a916d3322"
      },
      "source": [
        "print(len(train_file_lines))\n",
        "print(train_file_lines[:5])\n",
        "print(len(test_file_lines))\n",
        "print(test_file_lines[:5])"
      ],
      "execution_count": 9,
      "outputs": [
        {
          "output_type": "stream",
          "text": [
            "3600000\n",
            "[b'__label__2 Stuning even for the non-gamer: This sound track was beautiful! It paints the senery in your mind so well I would recomend it even to people who hate vid. game music! I have played the game Chrono Cross but out of all of the games I have ever played it has the best music! It backs away from crude keyboarding and takes a fresher step with grate guitars and soulful orchestras. It would impress anyone who cares to listen! ^_^\\n', b\"__label__2 The best soundtrack ever to anything.: I'm reading a lot of reviews saying that this is the best 'game soundtrack' and I figured that I'd write a review to disagree a bit. This in my opinino is Yasunori Mitsuda's ultimate masterpiece. The music is timeless and I'm been listening to it for years now and its beauty simply refuses to fade.The price tag on this is pretty staggering I must say, but if you are going to buy any cd for this much money, this is the only one that I feel would be worth every penny.\\n\", b'__label__2 Amazing!: This soundtrack is my favorite music of all time, hands down. The intense sadness of \"Prisoners of Fate\" (which means all the more if you\\'ve played the game) and the hope in \"A Distant Promise\" and \"Girl who Stole the Star\" have been an important inspiration to me personally throughout my teen years. The higher energy tracks like \"Chrono Cross ~ Time\\'s Scar~\", \"Time of the Dreamwatch\", and \"Chronomantique\" (indefinably remeniscent of Chrono Trigger) are all absolutely superb as well.This soundtrack is amazing music, probably the best of this composer\\'s work (I haven\\'t heard the Xenogears soundtrack, so I can\\'t say for sure), and even if you\\'ve never played the game, it would be worth twice the price to buy it.I wish I could give it 6 stars.\\n', b\"__label__2 Excellent Soundtrack: I truly like this soundtrack and I enjoy video game music. I have played this game and most of the music on here I enjoy and it's truly relaxing and peaceful.On disk one. my favorites are Scars Of Time, Between Life and Death, Forest Of Illusion, Fortress of Ancient Dragons, Lost Fragment, and Drowned Valley.Disk Two: The Draggons, Galdorb - Home, Chronomantique, Prisoners of Fate, Gale, and my girlfriend likes ZelbessDisk Three: The best of the three. Garden Of God, Chronopolis, Fates, Jellyfish sea, Burning Orphange, Dragon's Prayer, Tower Of Stars, Dragon God, and Radical Dreamers - Unstealable Jewel.Overall, this is a excellent soundtrack and should be brought by those that like video game music.Xander Cross\\n\", b\"__label__2 Remember, Pull Your Jaw Off The Floor After Hearing it: If you've played the game, you know how divine the music is! Every single song tells a story of the game, it's that good! The greatest songs are without a doubt, Chrono Cross: Time's Scar, Magical Dreamers: The Wind, The Stars, and the Sea and Radical Dreamers: Unstolen Jewel. (Translation varies) This music is perfect if you ask me, the best it can be. Yasunori Mitsuda just poured his heart on and wrote it down on paper.\\n\"]\n",
            "400000\n",
            "[b'__label__2 Great CD: My lovely Pat has one of the GREAT voices of her generation. I have listened to this CD for YEARS and I still LOVE IT. When I\\'m in a good mood it makes me feel better. A bad mood just evaporates like sugar in the rain. This CD just oozes LIFE. Vocals are jusat STUUNNING and lyrics just kill. One of life\\'s hidden gems. This is a desert isle CD in my book. Why she never made it big is just beyond me. Everytime I play this, no matter black, white, young, old, male, female EVERYBODY says one thing \"Who was that singing ?\"\\n', b\"__label__2 One of the best game music soundtracks - for a game I didn't really play: Despite the fact that I have only played a small portion of the game, the music I heard (plus the connection to Chrono Trigger which was great as well) led me to purchase the soundtrack, and it remains one of my favorite albums. There is an incredible mix of fun, epic, and emotional songs. Those sad and beautiful tracks I especially like, as there's not too many of those kinds of songs in my other video game soundtracks. I must admit that one of the songs (Life-A Distant Promise) has brought tears to my eyes on many occasions.My one complaint about this soundtrack is that they use guitar fretting effects in many of the songs, which I find distracting. But even if those weren't included I would still consider the collection worth it.\\n\", b'__label__1 Batteries died within a year ...: I bought this charger in Jul 2003 and it worked OK for a while. The design is nice and convenient. However, after about a year, the batteries would not hold a charge. Might as well just get alkaline disposables, or look elsewhere for a charger that comes with batteries that have better staying power.\\n', b\"__label__2 works fine, but Maha Energy is better: Check out Maha Energy's website. Their Powerex MH-C204F charger works in 100 minutes for rapid charge, with option for slower charge (better for batteries). And they have 2200 mAh batteries.\\n\", b\"__label__2 Great for the non-audiophile: Reviewed quite a bit of the combo players and was hesitant due to unfavorable reviews and size of machines. I am weaning off my VHS collection, but don't want to replace them with DVD's. This unit is well built, easy to setup and resolution and special effects (no progressive scan for HDTV owners) suitable for many people looking for a versatile product.Cons- No universal remote.\\n\"]\n"
          ],
          "name": "stdout"
        }
      ]
    },
    {
      "cell_type": "code",
      "metadata": {
        "id": "zVlpd1rNE7E0",
        "colab_type": "code",
        "colab": {}
      },
      "source": [
        "# Convert from raw binary strings to strings that can be parsed\n",
        "train_file_lines = [x.decode('utf-8') for x in train_file_lines]\n",
        "test_file_lines = [x.decode('utf-8') for x in test_file_lines]"
      ],
      "execution_count": 10,
      "outputs": []
    },
    {
      "cell_type": "code",
      "metadata": {
        "id": "uCX0jVrYFFyL",
        "colab_type": "code",
        "colab": {
          "base_uri": "https://localhost:8080/",
          "height": 105
        },
        "outputId": "d9a7ae84-1c53-448f-cbb3-23d296975e2a"
      },
      "source": [
        "print(len(train_file_lines))\n",
        "print(train_file_lines[:5])\n",
        "print(len(test_file_lines))\n",
        "print(test_file_lines[:5])"
      ],
      "execution_count": 11,
      "outputs": [
        {
          "output_type": "stream",
          "text": [
            "3600000\n",
            "['__label__2 Stuning even for the non-gamer: This sound track was beautiful! It paints the senery in your mind so well I would recomend it even to people who hate vid. game music! I have played the game Chrono Cross but out of all of the games I have ever played it has the best music! It backs away from crude keyboarding and takes a fresher step with grate guitars and soulful orchestras. It would impress anyone who cares to listen! ^_^\\n', \"__label__2 The best soundtrack ever to anything.: I'm reading a lot of reviews saying that this is the best 'game soundtrack' and I figured that I'd write a review to disagree a bit. This in my opinino is Yasunori Mitsuda's ultimate masterpiece. The music is timeless and I'm been listening to it for years now and its beauty simply refuses to fade.The price tag on this is pretty staggering I must say, but if you are going to buy any cd for this much money, this is the only one that I feel would be worth every penny.\\n\", '__label__2 Amazing!: This soundtrack is my favorite music of all time, hands down. The intense sadness of \"Prisoners of Fate\" (which means all the more if you\\'ve played the game) and the hope in \"A Distant Promise\" and \"Girl who Stole the Star\" have been an important inspiration to me personally throughout my teen years. The higher energy tracks like \"Chrono Cross ~ Time\\'s Scar~\", \"Time of the Dreamwatch\", and \"Chronomantique\" (indefinably remeniscent of Chrono Trigger) are all absolutely superb as well.This soundtrack is amazing music, probably the best of this composer\\'s work (I haven\\'t heard the Xenogears soundtrack, so I can\\'t say for sure), and even if you\\'ve never played the game, it would be worth twice the price to buy it.I wish I could give it 6 stars.\\n', \"__label__2 Excellent Soundtrack: I truly like this soundtrack and I enjoy video game music. I have played this game and most of the music on here I enjoy and it's truly relaxing and peaceful.On disk one. my favorites are Scars Of Time, Between Life and Death, Forest Of Illusion, Fortress of Ancient Dragons, Lost Fragment, and Drowned Valley.Disk Two: The Draggons, Galdorb - Home, Chronomantique, Prisoners of Fate, Gale, and my girlfriend likes ZelbessDisk Three: The best of the three. Garden Of God, Chronopolis, Fates, Jellyfish sea, Burning Orphange, Dragon's Prayer, Tower Of Stars, Dragon God, and Radical Dreamers - Unstealable Jewel.Overall, this is a excellent soundtrack and should be brought by those that like video game music.Xander Cross\\n\", \"__label__2 Remember, Pull Your Jaw Off The Floor After Hearing it: If you've played the game, you know how divine the music is! Every single song tells a story of the game, it's that good! The greatest songs are without a doubt, Chrono Cross: Time's Scar, Magical Dreamers: The Wind, The Stars, and the Sea and Radical Dreamers: Unstolen Jewel. (Translation varies) This music is perfect if you ask me, the best it can be. Yasunori Mitsuda just poured his heart on and wrote it down on paper.\\n\"]\n",
            "400000\n",
            "['__label__2 Great CD: My lovely Pat has one of the GREAT voices of her generation. I have listened to this CD for YEARS and I still LOVE IT. When I\\'m in a good mood it makes me feel better. A bad mood just evaporates like sugar in the rain. This CD just oozes LIFE. Vocals are jusat STUUNNING and lyrics just kill. One of life\\'s hidden gems. This is a desert isle CD in my book. Why she never made it big is just beyond me. Everytime I play this, no matter black, white, young, old, male, female EVERYBODY says one thing \"Who was that singing ?\"\\n', \"__label__2 One of the best game music soundtracks - for a game I didn't really play: Despite the fact that I have only played a small portion of the game, the music I heard (plus the connection to Chrono Trigger which was great as well) led me to purchase the soundtrack, and it remains one of my favorite albums. There is an incredible mix of fun, epic, and emotional songs. Those sad and beautiful tracks I especially like, as there's not too many of those kinds of songs in my other video game soundtracks. I must admit that one of the songs (Life-A Distant Promise) has brought tears to my eyes on many occasions.My one complaint about this soundtrack is that they use guitar fretting effects in many of the songs, which I find distracting. But even if those weren't included I would still consider the collection worth it.\\n\", '__label__1 Batteries died within a year ...: I bought this charger in Jul 2003 and it worked OK for a while. The design is nice and convenient. However, after about a year, the batteries would not hold a charge. Might as well just get alkaline disposables, or look elsewhere for a charger that comes with batteries that have better staying power.\\n', \"__label__2 works fine, but Maha Energy is better: Check out Maha Energy's website. Their Powerex MH-C204F charger works in 100 minutes for rapid charge, with option for slower charge (better for batteries). And they have 2200 mAh batteries.\\n\", \"__label__2 Great for the non-audiophile: Reviewed quite a bit of the combo players and was hesitant due to unfavorable reviews and size of machines. I am weaning off my VHS collection, but don't want to replace them with DVD's. This unit is well built, easy to setup and resolution and special effects (no progressive scan for HDTV owners) suitable for many people looking for a versatile product.Cons- No universal remote.\\n\"]\n"
          ],
          "name": "stdout"
        }
      ]
    },
    {
      "cell_type": "markdown",
      "metadata": {
        "id": "jcMDk6RYl-at",
        "colab_type": "text"
      },
      "source": [
        "## Create Y-labels for both Train and Test"
      ]
    },
    {
      "cell_type": "code",
      "metadata": {
        "id": "MzE8X0garoja",
        "colab_type": "code",
        "colab": {}
      },
      "source": [
        "one_line = '__label__1 Stuning even for the non-gamer: This sound track was beautiful! It paints the senery in your mind so well I would recomend it even to people who hate vid. game music! I have played the game Chrono Cross but out of all of the games I have ever played it has the best music! It backs away from crude keyboarding and takes a fresher step with grate guitars and soulful orchestras. It would impress anyone who cares to listen! ^_^\\n'\n",
        "lines = ['__label__1 Stuning even for the non-gamer: This sound track was beautiful! It paints the senery in your mind so well I would recomend it even to people who hate vid. game music! I have played the game Chrono Cross but out of all of the games I have ever played it has the best music! It backs away from crude keyboarding and takes a fresher step with grate guitars and soulful orchestras. It would impress anyone who cares to listen! ^_^\\n', \"__label__2 The best soundtrack ever to anything.: I'm reading a lot of reviews saying that this is the best 'game soundtrack' and I figured that I'd write a review to disagree a bit. This in my opinino is Yasunori Mitsuda's ultimate masterpiece. The music is timeless and I'm been listening to it for years now and its beauty simply refuses to fade.The price tag on this is pretty staggering I must say, but if you are going to buy any cd for this much money, this is the only one that I feel would be worth every penny.\\n\", '__label__2 Amazing!: This soundtrack is my favorite music of all time, hands down. The intense sadness of \"Prisoners of Fate\" (which means all the more if you\\'ve played the game) and the hope in \"A Distant Promise\" and \"Girl who Stole the Star\" have been an important inspiration to me personally throughout my teen years. The higher energy tracks like \"Chrono Cross ~ Time\\'s Scar~\", \"Time of the Dreamwatch\", and \"Chronomantique\" (indefinably remeniscent of Chrono Trigger) are all absolutely superb as well.This soundtrack is amazing music, probably the best of this composer\\'s work (I haven\\'t heard the Xenogears soundtrack, so I can\\'t say for sure), and even if you\\'ve never played the game, it would be worth twice the price to buy it.I wish I could give it 6 stars.\\n', \"__label__2 Excellent Soundtrack: I truly like this soundtrack and I enjoy video game music. I have played this game and most of the music on here I enjoy and it's truly relaxing and peaceful.On disk one. my favorites are Scars Of Time, Between Life and Death, Forest Of Illusion, Fortress of Ancient Dragons, Lost Fragment, and Drowned Valley.Disk Two: The Draggons, Galdorb - Home, Chronomantique, Prisoners of Fate, Gale, and my girlfriend likes ZelbessDisk Three: The best of the three. Garden Of God, Chronopolis, Fates, Jellyfish sea, Burning Orphange, Dragon's Prayer, Tower Of Stars, Dragon God, and Radical Dreamers - Unstealable Jewel.Overall, this is a excellent soundtrack and should be brought by those that like video game music.Xander Cross\\n\", \"__label__2 Remember, Pull Your Jaw Off The Floor After Hearing it: If you've played the game, you know how divine the music is! Every single song tells a story of the game, it's that good! The greatest songs are without a doubt, Chrono Cross: Time's Scar, Magical Dreamers: The Wind, The Stars, and the Sea and Radical Dreamers: Unstolen Jewel. (Translation varies) This music is perfect if you ask me, the best it can be. Yasunori Mitsuda just poured his heart on and wrote it down on paper.\\n\"]"
      ],
      "execution_count": 12,
      "outputs": []
    },
    {
      "cell_type": "code",
      "metadata": {
        "id": "ZnpIPyOTkv-H",
        "colab_type": "code",
        "colab": {
          "base_uri": "https://localhost:8080/",
          "height": 34
        },
        "outputId": "d5d0ac03-ef2e-48c0-fb9b-835ae896c903"
      },
      "source": [
        "def create_labels(line):\n",
        "    labels = 0 if line.split(' ')[0] == '__label__1' else 1\n",
        "    return labels\n",
        "print(create_labels('__label__1 Stuning even for the non-game'))"
      ],
      "execution_count": 13,
      "outputs": [
        {
          "output_type": "stream",
          "text": [
            "0\n"
          ],
          "name": "stdout"
        }
      ]
    },
    {
      "cell_type": "code",
      "metadata": {
        "id": "QOHGgv5_ngww",
        "colab_type": "code",
        "colab": {
          "base_uri": "https://localhost:8080/",
          "height": 34
        },
        "outputId": "821aa2b6-1063-42c9-8ca7-5ae667412e37"
      },
      "source": [
        "labels = [create_labels(line) for line in lines]\n",
        "print(labels)"
      ],
      "execution_count": 14,
      "outputs": [
        {
          "output_type": "stream",
          "text": [
            "[0, 1, 1, 1, 1]\n"
          ],
          "name": "stdout"
        }
      ]
    },
    {
      "cell_type": "code",
      "metadata": {
        "id": "qtOg43XCUZ1f",
        "colab_type": "code",
        "colab": {
          "base_uri": "https://localhost:8080/",
          "height": 51
        },
        "outputId": "8de023de-d314-49f4-fea5-772c5aeff5b7"
      },
      "source": [
        "train_labels = [create_labels(line) for line in train_file_lines]\n",
        "test_labels = [create_labels(line) for line in test_file_lines]\n",
        "print(train_labels[:5])\n",
        "print(test_labels[:5])\n"
      ],
      "execution_count": 15,
      "outputs": [
        {
          "output_type": "stream",
          "text": [
            "[1, 1, 1, 1, 1]\n",
            "[1, 1, 0, 1, 1]\n"
          ],
          "name": "stdout"
        }
      ]
    },
    {
      "cell_type": "markdown",
      "metadata": {
        "id": "KYmKi_7NqfJg",
        "colab_type": "text"
      },
      "source": [
        "## Text Data Pre-Processing"
      ]
    },
    {
      "cell_type": "markdown",
      "metadata": {
        "id": "lpeavK9pon7q",
        "colab_type": "text"
      },
      "source": [
        "### Remove labels from sentences and lowercase"
      ]
    },
    {
      "cell_type": "code",
      "metadata": {
        "id": "8cqyo5m1ozKe",
        "colab_type": "code",
        "colab": {}
      },
      "source": [
        "def remove_labels_and_lowercase(line):\n",
        "    new_line = line.split(' ', 1)[1].lower()\n",
        "    return new_line"
      ],
      "execution_count": 16,
      "outputs": []
    },
    {
      "cell_type": "code",
      "metadata": {
        "id": "jWbpLmEhqH11",
        "colab_type": "code",
        "colab": {
          "base_uri": "https://localhost:8080/",
          "height": 88
        },
        "outputId": "c48c828b-5e3f-4c72-df30-906d2fb19a79"
      },
      "source": [
        "print(remove_labels_and_lowercase(one_line))\n",
        "new_lines = [remove_labels_and_lowercase(line) for line in lines]\n",
        "print(new_lines)"
      ],
      "execution_count": 17,
      "outputs": [
        {
          "output_type": "stream",
          "text": [
            "stuning even for the non-gamer: this sound track was beautiful! it paints the senery in your mind so well i would recomend it even to people who hate vid. game music! i have played the game chrono cross but out of all of the games i have ever played it has the best music! it backs away from crude keyboarding and takes a fresher step with grate guitars and soulful orchestras. it would impress anyone who cares to listen! ^_^\n",
            "\n",
            "['stuning even for the non-gamer: this sound track was beautiful! it paints the senery in your mind so well i would recomend it even to people who hate vid. game music! i have played the game chrono cross but out of all of the games i have ever played it has the best music! it backs away from crude keyboarding and takes a fresher step with grate guitars and soulful orchestras. it would impress anyone who cares to listen! ^_^\\n', \"the best soundtrack ever to anything.: i'm reading a lot of reviews saying that this is the best 'game soundtrack' and i figured that i'd write a review to disagree a bit. this in my opinino is yasunori mitsuda's ultimate masterpiece. the music is timeless and i'm been listening to it for years now and its beauty simply refuses to fade.the price tag on this is pretty staggering i must say, but if you are going to buy any cd for this much money, this is the only one that i feel would be worth every penny.\\n\", 'amazing!: this soundtrack is my favorite music of all time, hands down. the intense sadness of \"prisoners of fate\" (which means all the more if you\\'ve played the game) and the hope in \"a distant promise\" and \"girl who stole the star\" have been an important inspiration to me personally throughout my teen years. the higher energy tracks like \"chrono cross ~ time\\'s scar~\", \"time of the dreamwatch\", and \"chronomantique\" (indefinably remeniscent of chrono trigger) are all absolutely superb as well.this soundtrack is amazing music, probably the best of this composer\\'s work (i haven\\'t heard the xenogears soundtrack, so i can\\'t say for sure), and even if you\\'ve never played the game, it would be worth twice the price to buy it.i wish i could give it 6 stars.\\n', \"excellent soundtrack: i truly like this soundtrack and i enjoy video game music. i have played this game and most of the music on here i enjoy and it's truly relaxing and peaceful.on disk one. my favorites are scars of time, between life and death, forest of illusion, fortress of ancient dragons, lost fragment, and drowned valley.disk two: the draggons, galdorb - home, chronomantique, prisoners of fate, gale, and my girlfriend likes zelbessdisk three: the best of the three. garden of god, chronopolis, fates, jellyfish sea, burning orphange, dragon's prayer, tower of stars, dragon god, and radical dreamers - unstealable jewel.overall, this is a excellent soundtrack and should be brought by those that like video game music.xander cross\\n\", \"remember, pull your jaw off the floor after hearing it: if you've played the game, you know how divine the music is! every single song tells a story of the game, it's that good! the greatest songs are without a doubt, chrono cross: time's scar, magical dreamers: the wind, the stars, and the sea and radical dreamers: unstolen jewel. (translation varies) this music is perfect if you ask me, the best it can be. yasunori mitsuda just poured his heart on and wrote it down on paper.\\n\"]\n"
          ],
          "name": "stdout"
        }
      ]
    },
    {
      "cell_type": "markdown",
      "metadata": {
        "id": "2p7HTy99tFd-",
        "colab_type": "text"
      },
      "source": [
        "### Replacing urls with the keyword \\\"url\\\""
      ]
    },
    {
      "cell_type": "code",
      "metadata": {
        "id": "cBhnDEJOtEE7",
        "colab_type": "code",
        "colab": {}
      },
      "source": [
        "def replace_urls(line):\n",
        "    if 'www.' in line or 'http:' in line or 'https:' in line or '.com' in line:\n",
        "       line = re.sub(r\"([^ ]+(?<=\\.[a-z]{3}))\", \"url\", line)\n",
        "    return line"
      ],
      "execution_count": 18,
      "outputs": []
    },
    {
      "cell_type": "code",
      "metadata": {
        "id": "lTkUWhHwu4HH",
        "colab_type": "code",
        "colab": {
          "base_uri": "https://localhost:8080/",
          "height": 34
        },
        "outputId": "7fa560e9-1161-4704-cd11-0156a25d5a48"
      },
      "source": [
        "test_line = 'asjhdgsajhdghttphttps://www.kaggle.com/anshulra'\n",
        "print(replace_urls(test_line))"
      ],
      "execution_count": 19,
      "outputs": [
        {
          "output_type": "stream",
          "text": [
            "url/anshulra\n"
          ],
          "name": "stdout"
        }
      ]
    },
    {
      "cell_type": "markdown",
      "metadata": {
        "id": "Y5JjWJUGw0qo",
        "colab_type": "text"
      },
      "source": [
        "### Removing Html tags"
      ]
    },
    {
      "cell_type": "code",
      "metadata": {
        "id": "u4dY7Abcw37H",
        "colab_type": "code",
        "colab": {
          "base_uri": "https://localhost:8080/",
          "height": 34
        },
        "outputId": "2b3a676d-85da-4561-febb-1d5b1b293d4d"
      },
      "source": [
        "def strip_html_tags(text):\n",
        "    soup = BeautifulSoup(text, \"html.parser\")\n",
        "    stripped_text = soup.get_text()\n",
        "    return stripped_text\n",
        "\n",
        "print(strip_html_tags('<html><h2>Some important text</h2></html>'))"
      ],
      "execution_count": 20,
      "outputs": [
        {
          "output_type": "stream",
          "text": [
            "Some important text\n"
          ],
          "name": "stdout"
        }
      ]
    },
    {
      "cell_type": "markdown",
      "metadata": {
        "id": "9SY0675LxTqY",
        "colab_type": "text"
      },
      "source": [
        "### Expanding Contractions"
      ]
    },
    {
      "cell_type": "code",
      "metadata": {
        "id": "uUpbgGV0B3Yq",
        "colab_type": "code",
        "colab": {
          "base_uri": "https://localhost:8080/",
          "height": 34
        },
        "outputId": "b9055c67-27d6-4622-a462-2ad22d1b5be5"
      },
      "source": [
        "def expand_contractions(text):\n",
        "    try:\n",
        "        return contractions.fix(text)\n",
        "    except:\n",
        "        print(text)\n",
        "        pass\n",
        "print(expand_contractions(\"Y'all can't expand contractions I'd think\"))"
      ],
      "execution_count": 21,
      "outputs": [
        {
          "output_type": "stream",
          "text": [
            "you all can not expand contractions I would think\n"
          ],
          "name": "stdout"
        }
      ]
    },
    {
      "cell_type": "markdown",
      "metadata": {
        "id": "T_25q0wJxLSo",
        "colab_type": "text"
      },
      "source": [
        "### Remove Accented characters"
      ]
    },
    {
      "cell_type": "code",
      "metadata": {
        "id": "Ca14o9yL0zSu",
        "colab_type": "code",
        "colab": {
          "base_uri": "https://localhost:8080/",
          "height": 34
        },
        "outputId": "abf24c10-ee28-4ca0-9346-0478a396ee29"
      },
      "source": [
        "def remove_accented_chars(text):\n",
        "    try:\n",
        "        text = unicodedata.normalize('NFKD', text).encode('ascii', 'ignore').decode('utf-8', 'ignore')\n",
        "        return text\n",
        "    except:\n",
        "        print(text)\n",
        "        pass\n",
        "\n",
        "print(remove_accented_chars('Sómě Áccěntěd těxt'))"
      ],
      "execution_count": 22,
      "outputs": [
        {
          "output_type": "stream",
          "text": [
            "Some Accented text\n"
          ],
          "name": "stdout"
        }
      ]
    },
    {
      "cell_type": "markdown",
      "metadata": {
        "id": "QJjYVGOKxc9Z",
        "colab_type": "text"
      },
      "source": [
        "### Removing Special Characters"
      ]
    },
    {
      "cell_type": "code",
      "metadata": {
        "id": "ndhp_tG11FGJ",
        "colab_type": "code",
        "colab": {
          "base_uri": "https://localhost:8080/",
          "height": 35
        },
        "outputId": "2db82ea2-8ca8-46ee-eb52-f3f6376f2903"
      },
      "source": [
        "def remove_special_characters(text, remove_digits=False):\n",
        "    try:\n",
        "        pattern = r'[^a-zA-z0-9\\s]' if not remove_digits else r'[^a-zA-z\\s]'\n",
        "        text = re.sub(pattern, '', text)\n",
        "        return text\n",
        "    except:\n",
        "        print(text)\n",
        "        pass\n",
        "\n",
        "remove_special_characters(\"Well this was fun! What do you think? 123#@!^_.\", \n",
        "                          remove_digits=True)"
      ],
      "execution_count": 23,
      "outputs": [
        {
          "output_type": "execute_result",
          "data": {
            "application/vnd.google.colaboratory.intrinsic+json": {
              "type": "string"
            },
            "text/plain": [
              "'Well this was fun What do you think ^_'"
            ]
          },
          "metadata": {
            "tags": []
          },
          "execution_count": 23
        }
      ]
    },
    {
      "cell_type": "markdown",
      "metadata": {
        "id": "73LxpfjPxgEk",
        "colab_type": "text"
      },
      "source": [
        "### Stemming"
      ]
    },
    {
      "cell_type": "code",
      "metadata": {
        "id": "wOSLVaen1TiY",
        "colab_type": "code",
        "colab": {
          "base_uri": "https://localhost:8080/",
          "height": 35
        },
        "outputId": "9752d92d-52f3-42f7-86aa-fdeb1adb4c11"
      },
      "source": [
        "def simple_stemmer(text):\n",
        "    try:\n",
        "        ps = nltk.porter.PorterStemmer()\n",
        "        text = ' '.join([ps.stem(word) for word in text.split()])\n",
        "        return text\n",
        "    except:\n",
        "        print(text)\n",
        "        pass\n",
        "\n",
        "simple_stemmer(\"My system keeps crashing his crashed yesterday, ours crashes daily\")"
      ],
      "execution_count": 24,
      "outputs": [
        {
          "output_type": "execute_result",
          "data": {
            "application/vnd.google.colaboratory.intrinsic+json": {
              "type": "string"
            },
            "text/plain": [
              "'My system keep crash hi crash yesterday, our crash daili'"
            ]
          },
          "metadata": {
            "tags": []
          },
          "execution_count": 24
        }
      ]
    },
    {
      "cell_type": "markdown",
      "metadata": {
        "id": "2qk055mgxj_z",
        "colab_type": "text"
      },
      "source": [
        "### Lemmatization"
      ]
    },
    {
      "cell_type": "code",
      "metadata": {
        "id": "LmnQHTVm7fkv",
        "colab_type": "code",
        "colab": {
          "base_uri": "https://localhost:8080/",
          "height": 35
        },
        "outputId": "95f98414-1c8d-49da-cb5a-86fce0457a4d"
      },
      "source": [
        "wordnet_lemmatizer = WordNetLemmatizer()\n",
        "def lemmatize_text(text):\n",
        "    try:\n",
        "        text = ' '.join([wordnet_lemmatizer.lemmatize(word, pos=\"v\") for word in text.split()])\n",
        "        return text\n",
        "    except:\n",
        "        print(text)\n",
        "        pass\n",
        "lemmatize_text(\"My system keeps crashing ! his crashed yesterday, ours crashes daily\")"
      ],
      "execution_count": 25,
      "outputs": [
        {
          "output_type": "execute_result",
          "data": {
            "application/vnd.google.colaboratory.intrinsic+json": {
              "type": "string"
            },
            "text/plain": [
              "'My system keep crash ! his crash yesterday, ours crash daily'"
            ]
          },
          "metadata": {
            "tags": []
          },
          "execution_count": 25
        }
      ]
    },
    {
      "cell_type": "markdown",
      "metadata": {
        "id": "V0zRzpqOw7e5",
        "colab_type": "text"
      },
      "source": [
        "### Remove Stopwords"
      ]
    },
    {
      "cell_type": "code",
      "metadata": {
        "id": "GZWmmtQOAAFz",
        "colab_type": "code",
        "colab": {
          "base_uri": "https://localhost:8080/",
          "height": 68
        },
        "outputId": "0fcb2079-ebbc-425a-b6a8-9470551fdc14"
      },
      "source": [
        "nltk.download('stopwords')"
      ],
      "execution_count": 26,
      "outputs": [
        {
          "output_type": "stream",
          "text": [
            "[nltk_data] Downloading package stopwords to /root/nltk_data...\n",
            "[nltk_data]   Unzipping corpora/stopwords.zip.\n"
          ],
          "name": "stdout"
        },
        {
          "output_type": "execute_result",
          "data": {
            "text/plain": [
              "True"
            ]
          },
          "metadata": {
            "tags": []
          },
          "execution_count": 26
        }
      ]
    },
    {
      "cell_type": "code",
      "metadata": {
        "id": "FOOKQqJu_pLd",
        "colab_type": "code",
        "colab": {}
      },
      "source": [
        "toktoktokenizer = ToktokTokenizer()\n",
        "stopword_list = nltk.corpus.stopwords.words('english')\n",
        "stopword_list.remove('no')\n",
        "stopword_list.remove('not')"
      ],
      "execution_count": 27,
      "outputs": []
    },
    {
      "cell_type": "code",
      "metadata": {
        "id": "SiRGcSQMxGVG",
        "colab_type": "code",
        "colab": {
          "base_uri": "https://localhost:8080/",
          "height": 35
        },
        "outputId": "d380f58e-b305-4dfc-e8d9-8370709f0635"
      },
      "source": [
        "def remove_stopwords(text):\n",
        "    try:\n",
        "        tokens = toktoktokenizer.tokenize(text)\n",
        "        tokens = [token.strip() for token in tokens]\n",
        "        filtered_tokens = [token for token in tokens if token not in stopword_list]\n",
        "        filtered_text = ' '.join(filtered_tokens)    \n",
        "        return filtered_text\n",
        "    except:\n",
        "        print(text)\n",
        "        pass\n",
        "\n",
        "remove_stopwords(\"the, and, if are stopwords, computer is not\")"
      ],
      "execution_count": 28,
      "outputs": [
        {
          "output_type": "execute_result",
          "data": {
            "application/vnd.google.colaboratory.intrinsic+json": {
              "type": "string"
            },
            "text/plain": [
              "', , stopwords , computer not'"
            ]
          },
          "metadata": {
            "tags": []
          },
          "execution_count": 28
        }
      ]
    },
    {
      "cell_type": "markdown",
      "metadata": {
        "id": "5ig4BtE_D7K1",
        "colab_type": "text"
      },
      "source": [
        "### Pre-processing now selectively"
      ]
    },
    {
      "cell_type": "code",
      "metadata": {
        "id": "Sd_PPL8oD6YG",
        "colab_type": "code",
        "colab": {}
      },
      "source": [
        "def normalize_corpus(corpus, remove_labels=True, remove_url=True, html_stripping=True, contraction_expansion=True,\n",
        "                     accented_char_removal=True, special_char_removal=True, text_stemming=False,\n",
        "                     text_lemmatization=False, stopword_removal=True):\n",
        "    \n",
        "    normalized_corpus = []\n",
        "    # normalize each document in the corpus\n",
        "    for doc in corpus:\n",
        "        if remove_labels:\n",
        "            doc = remove_labels_and_lowercase(doc)\n",
        "\n",
        "        if remove_url:\n",
        "            doc = replace_urls(doc)\n",
        "\n",
        "        if html_stripping:\n",
        "            doc = strip_html_tags(doc)\n",
        "\n",
        "        if contraction_expansion:\n",
        "            doc = expand_contractions(doc)\n",
        "\n",
        "        if accented_char_removal:\n",
        "            doc = remove_accented_chars(doc)\n",
        "            \n",
        "        if special_char_removal:\n",
        "            doc = remove_special_characters(doc, remove_digits=False)      \n",
        "\n",
        "        # remove extra newlines\n",
        "        try:\n",
        "            doc = re.sub(r'[\\r|\\n|\\r\\n]+', ' ',doc)\n",
        "        except:\n",
        "            print(doc)\n",
        "\n",
        "        if text_stemming:\n",
        "            doc = simple_stemmer(doc)\n",
        "\n",
        "        if text_lemmatization:\n",
        "            doc = lemmatize_text(doc)\n",
        "\n",
        "        # remove extra whitespace\n",
        "        try:\n",
        "            doc = re.sub(' +', ' ', doc)\n",
        "        except:\n",
        "            print(doc)\n",
        "\n",
        "        if stopword_removal:\n",
        "            doc = remove_stopwords(doc)\n",
        "            \n",
        "        normalized_corpus.append(doc)\n",
        "        \n",
        "    return normalized_corpus"
      ],
      "execution_count": 29,
      "outputs": []
    },
    {
      "cell_type": "code",
      "metadata": {
        "id": "KTmOYOv2G-jB",
        "colab_type": "code",
        "colab": {
          "base_uri": "https://localhost:8080/",
          "height": 54
        },
        "outputId": "5df0a02d-45dc-4d62-add7-74327352ce1e"
      },
      "source": [
        "new_lines = normalize_corpus(lines)\n",
        "print(new_lines)"
      ],
      "execution_count": 30,
      "outputs": [
        {
          "output_type": "stream",
          "text": [
            "['stuning even nongamer sound track beautiful paints senery mind well would recomend even people hate vid game music played game chrono cross games ever played best music backs away crude keyboarding takes fresher step grate guitars soulful orchestras would impress anyone cares listen ^_^', 'best soundtrack ever anything I reading lot reviews saying best game soundtrack figured I would write review disagree bit opinino yasunori mitsudas ultimate masterpiece music timeless I listening years beauty simply refuses fadethe price tag pretty staggering must say going buy cd much money one feel would worth every penny', 'amazing soundtrack favorite music time hands intense sadness prisoners fate means played game hope distant promise girl stole star important inspiration personally throughout teen years higher energy tracks like chrono cross times scar time dreamwatch chronomantique indefinably remeniscent chrono trigger absolutely superb wellthis soundtrack amazing music probably best composers work not heard xenogears soundtrack not say sure even never played game would worth twice price buy iti wish could give 6 stars', 'excellent soundtrack truly like soundtrack enjoy video game music played game music enjoy truly relaxing peacefulon disk one favorites scars time life death forest illusion fortress ancient dragons lost fragment drowned valleydisk two draggons galdorb home chronomantique prisoners fate gale girlfriend likes zelbessdisk three best three garden god chronopolis fates jellyfish sea burning orphange dragons prayer tower stars dragon god radical dreamers unstealable jeweloverall excellent soundtrack brought like video game musicxander cross', 'remember pull jaw floor hearing played game know divine music every single song tells story game good greatest songs without doubt chrono cross times scar magical dreamers wind stars sea radical dreamers unstolen jewel translation varies music perfect ask best yasunori mitsuda poured heart wrote paper']\n"
          ],
          "name": "stdout"
        }
      ]
    },
    {
      "cell_type": "code",
      "metadata": {
        "id": "unBhUgJ8T2Rn",
        "colab_type": "code",
        "colab": {
          "base_uri": "https://localhost:8080/",
          "height": 139
        },
        "outputId": "bebe3e3f-cd3a-4019-9fa6-810cb380d0cf"
      },
      "source": [
        "train_sentences = normalize_corpus(train_file_lines)\n",
        "test_sentences = normalize_corpus(test_file_lines)"
      ],
      "execution_count": 31,
      "outputs": [
        {
          "output_type": "stream",
          "text": [
            "saparİŞİm gelmedİ: sparİŞİmİn neden gelmedİĞİnİ anlayamadim daha öncede sparİŞlerİm vardi ama bu sparİŞİm bana dönün lütfen bu sirunun aiklamasini beklİyorum sebebİ. bana hala ulaŞmadi\n",
            "\n",
            "None\n",
            "None\n",
            "None\n",
            "None\n"
          ],
          "name": "stdout"
        }
      ]
    },
    {
      "cell_type": "code",
      "metadata": {
        "id": "DtmWU4NAHvIU",
        "colab_type": "code",
        "colab": {
          "base_uri": "https://localhost:8080/",
          "height": 105
        },
        "outputId": "1ab0cd4f-e399-4694-e618-81d055b8279a"
      },
      "source": [
        "print(len(train_sentences))\n",
        "print(train_sentences[:5])\n",
        "print(len(test_sentences))\n",
        "print(test_sentences[:5])"
      ],
      "execution_count": 32,
      "outputs": [
        {
          "output_type": "stream",
          "text": [
            "3600000\n",
            "['stuning even nongamer sound track beautiful paints senery mind well would recomend even people hate vid game music played game chrono cross games ever played best music backs away crude keyboarding takes fresher step grate guitars soulful orchestras would impress anyone cares listen ^_^', 'best soundtrack ever anything I reading lot reviews saying best game soundtrack figured I would write review disagree bit opinino yasunori mitsudas ultimate masterpiece music timeless I listening years beauty simply refuses fadethe price tag pretty staggering must say going buy cd much money one feel would worth every penny', 'amazing soundtrack favorite music time hands intense sadness prisoners fate means played game hope distant promise girl stole star important inspiration personally throughout teen years higher energy tracks like chrono cross times scar time dreamwatch chronomantique indefinably remeniscent chrono trigger absolutely superb wellthis soundtrack amazing music probably best composers work not heard xenogears soundtrack not say sure even never played game would worth twice price buy iti wish could give 6 stars', 'excellent soundtrack truly like soundtrack enjoy video game music played game music enjoy truly relaxing peacefulon disk one favorites scars time life death forest illusion fortress ancient dragons lost fragment drowned valleydisk two draggons galdorb home chronomantique prisoners fate gale girlfriend likes zelbessdisk three best three garden god chronopolis fates jellyfish sea burning orphange dragons prayer tower stars dragon god radical dreamers unstealable jeweloverall excellent soundtrack brought like video game musicxander cross', 'remember pull jaw floor hearing played game know divine music every single song tells story game good greatest songs without doubt chrono cross times scar magical dreamers wind stars sea radical dreamers unstolen jewel translation varies music perfect ask best yasunori mitsuda poured heart wrote paper']\n",
            "400000\n",
            "['great cd lovely pat one great voices generation listened cd years still love I good mood makes feel better bad mood evaporates like sugar rain cd oozes life vocals jusat stuunning lyrics kill one lifes hidden gems desert isle cd book never made big beyond everytime play no matter black white young old male female everybody says one thing singing', 'one best game music soundtracks game not really play despite fact played small portion game music heard plus connection chrono trigger great well led purchase soundtrack remains one favorite albums incredible mix fun epic emotional songs sad beautiful tracks especially like not many kinds songs video game soundtracks must admit one songs lifea distant promise brought tears eyes many occasionsmy one complaint soundtrack use guitar fretting effects many songs find distracting even not included would still consider collection worth', 'batteries died within year bought charger jul 2003 worked ok design nice convenient however year batteries would not hold charge might well get alkaline disposables look elsewhere charger comes batteries better staying power', 'works fine maha energy better check maha energys website powerex mhc204f charger works 100 minutes rapid charge option slower charge better batteries 2200 mah batteries', 'great nonaudiophile reviewed quite bit combo players hesitant due unfavorable reviews size machines weaning vhs collection not want replace dvds unit well built easy setup resolution special effects no progressive scan hdtv owners suitable many people looking versatile productcons no universal remote']\n"
          ],
          "name": "stdout"
        }
      ]
    },
    {
      "cell_type": "markdown",
      "metadata": {
        "id": "p3UM0BWVFHwy",
        "colab_type": "text"
      },
      "source": [
        "## Modeling"
      ]
    },
    {
      "cell_type": "code",
      "metadata": {
        "id": "rERXR9TdIJks",
        "colab_type": "code",
        "colab": {}
      },
      "source": [
        "vocab_size = 20000\n",
        "embedding_dim = 100\n",
        "max_length = 100\n",
        "trunc_type = 'post'\n",
        "oov_tok=\"<oov>\""
      ],
      "execution_count": 33,
      "outputs": []
    },
    {
      "cell_type": "code",
      "metadata": {
        "id": "0dC-2Oui8I8r",
        "colab_type": "code",
        "colab": {}
      },
      "source": [
        "tokenizer = text.Tokenizer(num_words=vocab_size, oov_token=oov_tok)\n",
        "tokenizer.fit_on_texts(train_sentences)\n",
        "word_index = tokenizer.word_index"
      ],
      "execution_count": 34,
      "outputs": []
    },
    {
      "cell_type": "code",
      "metadata": {
        "id": "WNi6knQ7ZA_c",
        "colab_type": "code",
        "colab": {}
      },
      "source": [
        "sequences = tokenizer.texts_to_sequences(train_sentences)\n",
        "training_padded = sequence.pad_sequences(sequences, maxlen=max_length, truncating=trunc_type)"
      ],
      "execution_count": null,
      "outputs": []
    },
    {
      "cell_type": "code",
      "metadata": {
        "id": "L7fE2wuJ8Jl_",
        "colab_type": "code",
        "colab": {
          "base_uri": "https://localhost:8080/",
          "height": 221
        },
        "outputId": "2bdef212-438c-443a-f869-5cec7cb13838"
      },
      "source": [
        "training_padded[0]"
      ],
      "execution_count": null,
      "outputs": [
        {
          "output_type": "execute_result",
          "data": {
            "text/plain": [
              "array([    0,     0,     0,     0,     0,     0,     0,     0,     0,\n",
              "           0,     0,     0,     0,     0,     0,     0,     0,     0,\n",
              "           0,     0,     0,     0,     0,     0,     0,     0,     0,\n",
              "           0,     0,     0,     0,     0,     0,     0,     0,     0,\n",
              "           0,     0,     0,     0,     0,     0,     0,     0,     0,\n",
              "           0,     0,     0,     0,     0,     0,     0,     0,     0,\n",
              "           0,     0,     0,     1,    18,     1,    83,   375,   254,\n",
              "        5829,     1,   343,    16,     6,  1624,    18,    53,   548,\n",
              "       17974,    61,    43,   399,    61,     1,  2004,   469,    52,\n",
              "         399,    24,    43,  6666,   140,  4943,     1,   302, 16935,\n",
              "         864,  8926,  2855,  4194, 17127,     6,  4997,   105,  2586,\n",
              "         226], dtype=int32)"
            ]
          },
          "metadata": {
            "tags": []
          },
          "execution_count": 65
        }
      ]
    },
    {
      "cell_type": "code",
      "metadata": {
        "id": "D1lpbeHf8Jq4",
        "colab_type": "code",
        "colab": {
          "base_uri": "https://localhost:8080/",
          "height": 221
        },
        "outputId": "d735879e-02fc-44dd-a32a-ad5967368574"
      },
      "source": [
        "tokenized_test = tokenizer.texts_to_sequences(test_sentences)\n",
        "testing_padded = sequence.pad_sequences(tokenized_test, maxlen=max_length)\n",
        "testing_padded[0]"
      ],
      "execution_count": 35,
      "outputs": [
        {
          "output_type": "execute_result",
          "data": {
            "text/plain": [
              "array([    0,     0,     0,     0,     0,     0,     0,     0,     0,\n",
              "           0,     0,     0,     0,     0,     0,     0,     0,     0,\n",
              "           0,     0,     0,     0,     0,     0,     0,     0,     0,\n",
              "           0,     0,     0,     0,     0,     0,     0,     0,     0,\n",
              "           0,     0,     0,     0,     5,    28,  1358,  4501,     4,\n",
              "           5,  1739,  1816,   867,    28,    55,    45,    21,     9,\n",
              "           7,  1916,   106,   127,    26,    48,  1916,     1,     8,\n",
              "        2269,  2148,    28,     1,    72,   915,     1,     1,   521,\n",
              "        1359,     4,  5344,  2258,  4072,  3734, 12042,    28,     3,\n",
              "          42,    50,   116,   727,  2520,   133,    12,   487,   322,\n",
              "         470,   344,    57,  1673,  1208,  2040,   374,     4,    73,\n",
              "         777], dtype=int32)"
            ]
          },
          "metadata": {
            "tags": []
          },
          "execution_count": 35
        }
      ]
    },
    {
      "cell_type": "code",
      "metadata": {
        "id": "ZbT4IZg08Jxi",
        "colab_type": "code",
        "colab": {}
      },
      "source": [
        "reverse_word_index = dict([(value,key) for (key,value) in word_index.items()])"
      ],
      "execution_count": null,
      "outputs": []
    },
    {
      "cell_type": "code",
      "metadata": {
        "id": "6qlSehgkZzNJ",
        "colab_type": "code",
        "colab": {
          "base_uri": "https://localhost:8080/",
          "height": 71
        },
        "outputId": "6b4ff01f-215c-4823-bee7-50044dfe512d"
      },
      "source": [
        "def decode_review(text):\n",
        "    return ''.join([reverse_word_index.get(i,' ') for i in text])\n",
        "print(decode_review(training_padded[1]))\n",
        "print(train_sentences[1])"
      ],
      "execution_count": null,
      "outputs": [
        {
          "output_type": "stream",
          "text": [
            "                                                  bestsoundtrackeveranythingireadinglotreviewssayingbestgamesoundtrackfigurediwouldwritereviewdisagreebit<oov><oov><oov>ultimatemasterpiecemusictimelessilisteningyearsbeautysimplyrefuses<oov>pricetagprettystaggeringmustsaygoingbuycdmuchmoneyonefeelwouldwortheverypenny\n",
            "best soundtrack ever anything I reading lot reviews saying best game soundtrack figured I would write review disagree bit opinino yasunori mitsudas ultimate masterpiece music timeless I listening years beauty simply refuses fadethe price tag pretty staggering must say going buy cd much money one feel would worth every penny\n"
          ],
          "name": "stdout"
        }
      ]
    },
    {
      "cell_type": "code",
      "metadata": {
        "id": "mhR_7Ls_E77i",
        "colab_type": "code",
        "colab": {}
      },
      "source": [
        "from sklearn.model_selection import train_test_split\n",
        "X_train, X_test, y_train, y_test = train_test_split(training_padded, train_labels, test_size=0.20, shuffle = True)"
      ],
      "execution_count": null,
      "outputs": []
    },
    {
      "cell_type": "code",
      "metadata": {
        "id": "vUcoTZbmGKnV",
        "colab_type": "code",
        "colab": {}
      },
      "source": [
        "X_train = np.array(X_train)\n",
        "X_test = np.array(X_test)\n",
        "y_train = np.array(y_train)\n",
        "y_test = np.array(y_test)"
      ],
      "execution_count": null,
      "outputs": []
    },
    {
      "cell_type": "code",
      "metadata": {
        "id": "a5iBcAot8Jjw",
        "colab_type": "code",
        "colab": {}
      },
      "source": [
        "batch_size = 2048\n",
        "epochs = 20\n",
        "l2_factor = 0.0001\n",
        "learning_rate = 0.001"
      ],
      "execution_count": 39,
      "outputs": []
    },
    {
      "cell_type": "code",
      "metadata": {
        "id": "kzb4WRq4O6CR",
        "colab_type": "code",
        "colab": {
          "base_uri": "https://localhost:8080/",
          "height": 425
        },
        "outputId": "9894a401-b953-4b5d-c01b-6db3014b2143"
      },
      "source": [
        "model = tf.keras.Sequential([\n",
        "                             tf.keras.layers.Embedding(vocab_size, embedding_dim, input_length=max_length),\n",
        "                             tf.keras.layers.Bidirectional(tf.keras.layers.LSTM(256, kernel_regularizer=l2(l2_factor), bias_regularizer=l2(l2_factor), kernel_constraint=MaxNorm(10), bias_constraint=MaxNorm(10), return_sequences=True)),\n",
        "                             tf.keras.layers.Dropout(0.5),\n",
        "                             tf.keras.layers.Bidirectional(tf.keras.layers.LSTM(256, kernel_regularizer=l2(l2_factor), bias_regularizer=l2(l2_factor), kernel_constraint=MaxNorm(10), bias_constraint=MaxNorm(10))),\n",
        "                             tf.keras.layers.Dropout(0.5),\n",
        "                             tf.keras.layers.Dense(64, activation='relu'),\n",
        "                             tf.keras.layers.Dropout(0.3),\n",
        "                             tf.keras.layers.Dense(1, activation='sigmoid')\n",
        "])\n",
        "optimizer = tf.keras.optimizers.Adam(lr=0.001)\n",
        "model.compile(loss = 'binary_crossentropy', optimizer=optimizer, metrics=['acc'])\n",
        "model.summary()"
      ],
      "execution_count": null,
      "outputs": [
        {
          "output_type": "stream",
          "text": [
            "Model: \"sequential\"\n",
            "_________________________________________________________________\n",
            "Layer (type)                 Output Shape              Param #   \n",
            "=================================================================\n",
            "embedding (Embedding)        (None, 100, 100)          2000000   \n",
            "_________________________________________________________________\n",
            "bidirectional (Bidirectional (None, 100, 512)          731136    \n",
            "_________________________________________________________________\n",
            "dropout (Dropout)            (None, 100, 512)          0         \n",
            "_________________________________________________________________\n",
            "bidirectional_1 (Bidirection (None, 512)               1574912   \n",
            "_________________________________________________________________\n",
            "dropout_1 (Dropout)          (None, 512)               0         \n",
            "_________________________________________________________________\n",
            "dense (Dense)                (None, 64)                32832     \n",
            "_________________________________________________________________\n",
            "dropout_2 (Dropout)          (None, 64)                0         \n",
            "_________________________________________________________________\n",
            "dense_1 (Dense)              (None, 1)                 65        \n",
            "=================================================================\n",
            "Total params: 4,338,945\n",
            "Trainable params: 4,338,945\n",
            "Non-trainable params: 0\n",
            "_________________________________________________________________\n"
          ],
          "name": "stdout"
        }
      ]
    },
    {
      "cell_type": "code",
      "metadata": {
        "id": "qYWkLPB7BlRX",
        "colab_type": "code",
        "colab": {}
      },
      "source": [
        "weight_path=\"/content/drive/My Drive/kaggle/amazon-reviews-sentiment-analysis/early_weights_07232020_1.hdf5\"\n",
        "checkpoint = ModelCheckpoint(weight_path, monitor='val_loss', verbose=1, save_best_only=True, mode='min')\n",
        "early_stopping = EarlyStopping(monitor=\"val_loss\", mode=\"min\", patience=5)\n",
        "callbacks = [checkpoint, early_stopping]"
      ],
      "execution_count": null,
      "outputs": []
    },
    {
      "cell_type": "code",
      "metadata": {
        "id": "JkUQg1SsBlN4",
        "colab_type": "code",
        "colab": {
          "base_uri": "https://localhost:8080/",
          "height": 578
        },
        "outputId": "55dfb84b-c50a-4b19-e737-a1af24422ac8"
      },
      "source": [
        "model.fit(X_train, y_train, batch_size=batch_size, epochs=epochs, validation_data=(X_test, y_test), callbacks=callbacks, workers=4)"
      ],
      "execution_count": null,
      "outputs": [
        {
          "output_type": "stream",
          "text": [
            "Epoch 1/20\n",
            "1407/1407 [==============================] - ETA: 0s - loss: 0.1625 - acc: 0.9410\n",
            "Epoch 00001: val_loss improved from 0.17766 to 0.17604, saving model to /content/drive/My Drive/kaggle/amazon-reviews-sentiment-analysis/early_weights_07232020_1.hdf5\n",
            "1407/1407 [==============================] - 909s 646ms/step - loss: 0.1625 - acc: 0.9410 - val_loss: 0.1760 - val_acc: 0.9333\n",
            "Epoch 2/20\n",
            "1407/1407 [==============================] - ETA: 0s - loss: 0.1532 - acc: 0.9446\n",
            "Epoch 00002: val_loss improved from 0.17604 to 0.17052, saving model to /content/drive/My Drive/kaggle/amazon-reviews-sentiment-analysis/early_weights_07232020_1.hdf5\n",
            "1407/1407 [==============================] - 910s 647ms/step - loss: 0.1532 - acc: 0.9446 - val_loss: 0.1705 - val_acc: 0.9358\n",
            "Epoch 3/20\n",
            "1407/1407 [==============================] - ETA: 0s - loss: 0.1454 - acc: 0.9479\n",
            "Epoch 00003: val_loss improved from 0.17052 to 0.16852, saving model to /content/drive/My Drive/kaggle/amazon-reviews-sentiment-analysis/early_weights_07232020_1.hdf5\n",
            "1407/1407 [==============================] - 911s 647ms/step - loss: 0.1454 - acc: 0.9479 - val_loss: 0.1685 - val_acc: 0.9366\n",
            "Epoch 4/20\n",
            "1407/1407 [==============================] - ETA: 0s - loss: 0.1380 - acc: 0.9512\n",
            "Epoch 00004: val_loss did not improve from 0.16852\n",
            "1407/1407 [==============================] - 908s 645ms/step - loss: 0.1380 - acc: 0.9512 - val_loss: 0.1716 - val_acc: 0.9364\n",
            "Epoch 5/20\n",
            "1407/1407 [==============================] - ETA: 0s - loss: 0.1310 - acc: 0.9543\n",
            "Epoch 00005: val_loss did not improve from 0.16852\n",
            "1407/1407 [==============================] - 906s 644ms/step - loss: 0.1310 - acc: 0.9543 - val_loss: 0.1771 - val_acc: 0.9353\n",
            "Epoch 6/20\n",
            "1407/1407 [==============================] - ETA: 0s - loss: 0.1246 - acc: 0.9570\n",
            "Epoch 00006: val_loss did not improve from 0.16852\n",
            "1407/1407 [==============================] - 905s 643ms/step - loss: 0.1246 - acc: 0.9570 - val_loss: 0.1813 - val_acc: 0.9352\n",
            "Epoch 7/20\n",
            "1407/1407 [==============================] - ETA: 0s - loss: 0.1181 - acc: 0.9599\n",
            "Epoch 00007: val_loss did not improve from 0.16852\n",
            "1407/1407 [==============================] - 905s 644ms/step - loss: 0.1181 - acc: 0.9599 - val_loss: 0.1901 - val_acc: 0.9330\n",
            "Epoch 8/20\n",
            "1407/1407 [==============================] - ETA: 0s - loss: 0.1124 - acc: 0.9624\n",
            "Epoch 00008: val_loss did not improve from 0.16852\n",
            "1407/1407 [==============================] - 906s 644ms/step - loss: 0.1124 - acc: 0.9624 - val_loss: 0.2074 - val_acc: 0.9321\n"
          ],
          "name": "stdout"
        },
        {
          "output_type": "execute_result",
          "data": {
            "text/plain": [
              "<tensorflow.python.keras.callbacks.History at 0x7fdf9c63df28>"
            ]
          },
          "metadata": {
            "tags": []
          },
          "execution_count": 76
        }
      ]
    },
    {
      "cell_type": "markdown",
      "metadata": {
        "id": "85R8WF3xDfwP",
        "colab_type": "text"
      },
      "source": [
        "Epoch 1/10\n",
        "1407/1407 [==============================] - ETA: 0s - loss: 0.2512 - acc: 0.9098\n",
        "Epoch 00001: val_loss improved from inf to 0.18984, saving model to /content/drive/My Drive/kaggle/amazon-reviews-sentiment-analysis/early_weights_07232020_1.hdf5\n",
        "1407/1407 [==============================] - 909s 646ms/step - loss: 0.2512 - acc: 0.9098 - val_loss: 0.1898 - val_acc: 0.9294\n",
        "Epoch 2/10\n",
        "1407/1407 [==============================] - ETA: 0s - loss: 0.1781 - acc: 0.9355\n",
        "Epoch 00002: val_loss improved from 0.18984 to 0.17766, saving model to /content/drive/My Drive/kaggle/amazon-reviews-sentiment-analysis/early_weights_07232020_1.hdf5\n",
        "1407/1407 [==============================] - 909s 646ms/step - loss: 0.1781 - acc: 0.9355 - val_loss: 0.1777 - val_acc: 0.9329\n",
        "Epoch 3/10\n",
        " 150/1407 [==>...........................] - ETA: 12:23 - loss: 0.1605 - acc: 0.9423"
      ]
    },
    {
      "cell_type": "markdown",
      "metadata": {
        "id": "FLMCBtytTkdv",
        "colab_type": "text"
      },
      "source": [
        "**RUN 2**\n",
        "Epoch 1/10\n",
        "1407/1407 [==============================] - ETA: 0s - loss: 0.2841 - acc: 0.8771\n",
        "Epoch 00001: val_loss improved from inf to 0.22664, saving model to early_weights.hdf5\n",
        "1407/1407 [==============================] - 250s 178ms/step - loss: 0.2841 - acc: 0.8771 - val_loss: 0.2266 - val_acc: 0.9107\n",
        "Epoch 2/10\n",
        "1407/1407 [==============================] - ETA: 0s - loss: 0.2206 - acc: 0.9143\n",
        "Epoch 00002: val_loss improved from 0.22664 to 0.21347, saving model to early_weights.hdf5\n",
        "1407/1407 [==============================] - 250s 177ms/step - loss: 0.2206 - acc: 0.9143 - val_loss: 0.2135 - val_acc: 0.9161\n",
        "Epoch 3/10\n",
        "1407/1407 [==============================] - ETA: 0s - loss: 0.2078 - acc: 0.9195\n",
        "Epoch 00003: val_loss improved from 0.21347 to 0.20356, saving model to early_weights.hdf5\n",
        "1407/1407 [==============================] - 250s 178ms/step - loss: 0.2078 - acc: 0.9195 - val_loss: 0.2036 - val_acc: 0.9197\n",
        "Epoch 4/10\n",
        "1407/1407 [==============================] - ETA: 0s - loss: 0.1965 - acc: 0.9244\n",
        "Epoch 00004: val_loss improved from 0.20356 to 0.19252, saving model to early_weights.hdf5\n",
        "1407/1407 [==============================] - 252s 179ms/step - loss: 0.1965 - acc: 0.9244 - val_loss: 0.1925 - val_acc: 0.9250\n",
        "Epoch 5/10\n",
        "1407/1407 [==============================] - ETA: 0s - loss: 0.1840 - acc: 0.9299\n",
        "Epoch 00005: val_loss improved from 0.19252 to 0.18486, saving model to early_weights.hdf5\n",
        "1407/1407 [==============================] - 253s 179ms/step - loss: 0.1840 - acc: 0.9299 - val_loss: 0.1849 - val_acc: 0.9288\n",
        "Epoch 6/10\n",
        "1407/1407 [==============================] - ETA: 0s - loss: 0.1743 - acc: 0.9343\n",
        "Epoch 00006: val_loss improved from 0.18486 to 0.17907, saving model to early_weights.hdf5\n",
        "1407/1407 [==============================] - 252s 179ms/step - loss: 0.1743 - acc: 0.9343 - val_loss: 0.1791 - val_acc: 0.9321\n",
        "Epoch 7/10\n",
        "1407/1407 [==============================] - ETA: 0s - loss: 0.1669 - acc: 0.9375\n",
        "Epoch 00007: val_loss improved from 0.17907 to 0.17276, saving model to early_weights.hdf5\n",
        "1407/1407 [==============================] - 250s 178ms/step - loss: 0.1669 - acc: 0.9375 - val_loss: 0.1728 - val_acc: 0.9343\n",
        "Epoch 8/10\n",
        "1407/1407 [==============================] - ETA: 0s - loss: 0.1614 - acc: 0.9400\n",
        "Epoch 00008: val_loss improved from 0.17276 to 0.17045, saving model to early_weights.hdf5\n",
        "1407/1407 [==============================] - 249s 177ms/step - loss: 0.1614 - acc: 0.9400 - val_loss: 0.1705 - val_acc: 0.9351\n",
        "Epoch 9/10\n",
        "1407/1407 [==============================] - ETA: 0s - loss: 0.1560 - acc: 0.9425\n",
        "Epoch 00009: val_loss improved from 0.17045 to 0.16651, saving model to early_weights.hdf5\n",
        "1407/1407 [==============================] - 250s 178ms/step - loss: 0.1560 - acc: 0.9425 - val_loss: 0.1665 - val_acc: 0.9368\n",
        "Epoch 10/10\n",
        "1407/1407 [==============================] - ETA: 0s - loss: 0.1516 - acc: 0.9443\n",
        "Epoch 00010: val_loss did not improve from 0.16651\n",
        "1407/1407 [==============================] - 249s 177ms/step - loss: 0.1516 - acc: 0.9443 - val_loss: 0.1752 - val_acc: 0.9345\n",
        "<tensorflow.python.keras.callbacks.History at 0x7fc2940259b0>"
      ]
    },
    {
      "cell_type": "markdown",
      "metadata": {
        "id": "uhpCW7s8jNDq",
        "colab_type": "text"
      },
      "source": [
        "**Run 1**\n",
        "Epoch 1/5\n",
        "1407/1407 [==============================] - ETA: 0s - loss: 0.2018 - acc: 0.9186\n",
        "Epoch 00001: val_loss improved from inf to 0.16100, saving model to early_weights.hdf5\n",
        "1407/1407 [==============================] - 244s 173ms/step - loss: 0.2018 - acc: 0.9186 - val_loss: 0.1610 - val_acc: 0.9382\n",
        "Epoch 2/5\n",
        "1407/1407 [==============================] - ETA: 0s - loss: 0.1471 - acc: 0.9442\n",
        "Epoch 00002: val_loss improved from 0.16100 to 0.14928, saving model to early_weights.hdf5\n",
        "1407/1407 [==============================] - 243s 173ms/step - loss: 0.1471 - acc: 0.9442 - val_loss: 0.1493 - val_acc: 0.9433\n",
        "Epoch 3/5\n",
        "1407/1407 [==============================] - ETA: 0s - loss: 0.1302 - acc: 0.9517\n",
        "Epoch 00003: val_loss improved from 0.14928 to 0.14451, saving model to early_weights.hdf5\n",
        "1407/1407 [==============================] - 243s 173ms/step - loss: 0.1302 - acc: 0.9517 - val_loss: 0.1445 - val_acc: 0.9455\n",
        "Epoch 4/5\n",
        "1407/1407 [==============================] - ETA: 0s - loss: 0.1172 - acc: 0.9572\n",
        "Epoch 00004: val_loss did not improve from 0.14451\n",
        "1407/1407 [==============================] - 243s 173ms/step - loss: 0.1172 - acc: 0.9572 - val_loss: 0.1486 - val_acc: 0.9462\n",
        "Epoch 5/5\n",
        "1407/1407 [==============================] - ETA: 0s - loss: 0.1051 - acc: 0.9625\n",
        "Epoch 00005: val_loss did not improve from 0.14451\n",
        "1407/1407 [==============================] - 243s 173ms/step - loss: 0.1051 - acc: 0.9625 - val_loss: 0.1479 - val_acc: 0.9463\n",
        "<tensorflow.python.keras.callbacks.History at 0x7fc1eb989550>"
      ]
    },
    {
      "cell_type": "code",
      "metadata": {
        "id": "TmVjFl19hsAU",
        "colab_type": "code",
        "colab": {}
      },
      "source": [
        "testing_padded = np.array(testing_padded)\n",
        "test_labels = np.array(test_labels)"
      ],
      "execution_count": null,
      "outputs": []
    },
    {
      "cell_type": "code",
      "metadata": {
        "id": "7pnzo8wxBlKQ",
        "colab_type": "code",
        "colab": {
          "base_uri": "https://localhost:8080/",
          "height": 68
        },
        "outputId": "90d8490d-cd1f-464b-b954-9c43f4adddde"
      },
      "source": [
        "model.load_weights(weight_path)\n",
        "score, acc = model.evaluate(testing_padded, test_labels, batch_size=batch_size)\n",
        "print('Test score:', score)\n",
        "print('Test accuracy:', acc)"
      ],
      "execution_count": null,
      "outputs": [
        {
          "output_type": "stream",
          "text": [
            "196/196 [==============================] - 11s 55ms/step - loss: 0.1906 - acc: 0.9261\n",
            "Test score: 0.1906423568725586\n",
            "Test accuracy: 0.9260824918746948\n"
          ],
          "name": "stdout"
        }
      ]
    },
    {
      "cell_type": "markdown",
      "metadata": {
        "id": "G_lfopGojutu",
        "colab_type": "text"
      },
      "source": [
        "196/196 [==============================] - 11s 55ms/step - loss: 0.1691 - acc: 0.9349\n",
        "Test score: 0.16910406947135925\n",
        "Test accuracy: 0.9348949790000916"
      ]
    },
    {
      "cell_type": "markdown",
      "metadata": {
        "id": "MoqjlJumFmdk",
        "colab_type": "text"
      },
      "source": [
        "# Predicting and Evaluating using Test Data"
      ]
    },
    {
      "cell_type": "code",
      "metadata": {
        "colab_type": "code",
        "id": "uiuT-PdWFxrt",
        "colab": {}
      },
      "source": [
        "testing_padded = np.array(testing_padded)\n",
        "test_labels = np.array(test_labels)"
      ],
      "execution_count": 36,
      "outputs": []
    },
    {
      "cell_type": "code",
      "metadata": {
        "colab_type": "code",
        "id": "3OPuQlVEFxrw",
        "colab": {}
      },
      "source": [
        "saved_model_path = '/content/drive/My Drive/kaggle/amazon-reviews-sentiment-analysis/early_weights_07232020_1.hdf5'\n",
        "loaded_model =  tf.keras.models.load_model(saved_model_path)"
      ],
      "execution_count": 37,
      "outputs": []
    },
    {
      "cell_type": "code",
      "metadata": {
        "id": "8MwFt-fb6xzt",
        "colab_type": "code",
        "colab": {
          "base_uri": "https://localhost:8080/",
          "height": 68
        },
        "outputId": "1ceaa098-983b-4645-a0c6-e063eadcba16"
      },
      "source": [
        "score, acc = loaded_model.evaluate(testing_padded, test_labels, batch_size=batch_size)\n",
        "print('Test score:', score)\n",
        "print('Test accuracy:', acc)"
      ],
      "execution_count": 40,
      "outputs": [
        {
          "output_type": "stream",
          "text": [
            "196/196 [==============================] - 37s 191ms/step - loss: 0.1693 - acc: 0.9363\n",
            "Test score: 0.16930851340293884\n",
            "Test accuracy: 0.9363399744033813\n"
          ],
          "name": "stdout"
        }
      ]
    },
    {
      "cell_type": "code",
      "metadata": {
        "id": "tKjobKdX7eCq",
        "colab_type": "code",
        "colab": {
          "base_uri": "https://localhost:8080/",
          "height": 136
        },
        "outputId": "eef0551c-3200-44f3-eaea-a4f2e9a47ae3"
      },
      "source": [
        "y_pred = loaded_model.predict(testing_padded)\n",
        "print(y_pred)"
      ],
      "execution_count": 41,
      "outputs": [
        {
          "output_type": "stream",
          "text": [
            "[[0.9922805 ]\n",
            " [0.99392587]\n",
            " [0.00261025]\n",
            " ...\n",
            " [0.00619614]\n",
            " [0.9937564 ]\n",
            " [0.01817005]]\n"
          ],
          "name": "stdout"
        }
      ]
    },
    {
      "cell_type": "code",
      "metadata": {
        "id": "1O0pcGFpESHS",
        "colab_type": "code",
        "colab": {
          "base_uri": "https://localhost:8080/",
          "height": 204
        },
        "outputId": "8e635dc6-b718-4dce-fc0c-4993fadc7edf"
      },
      "source": [
        "print(\"\\nClassification Report : \\n{}\".format(classification_report(y_pred.round(), test_labels)))"
      ],
      "execution_count": 42,
      "outputs": [
        {
          "output_type": "stream",
          "text": [
            "\n",
            "Classification Report : \n",
            "              precision    recall  f1-score   support\n",
            "\n",
            "         0.0       0.94      0.93      0.94    201014\n",
            "         1.0       0.93      0.94      0.94    198986\n",
            "\n",
            "    accuracy                           0.94    400000\n",
            "   macro avg       0.94      0.94      0.94    400000\n",
            "weighted avg       0.94      0.94      0.94    400000\n",
            "\n"
          ],
          "name": "stdout"
        }
      ]
    },
    {
      "cell_type": "code",
      "metadata": {
        "id": "zfChI2lOEV0Y",
        "colab_type": "code",
        "colab": {
          "base_uri": "https://localhost:8080/",
          "height": 345
        },
        "outputId": "8de9495e-0af7-4801-b7a0-87edd224cd86"
      },
      "source": [
        "print(\"\\nConfusion matrix\")\n",
        "conf_matrix = confusion_matrix(y_pred.round(), test_labels)\n",
        "plt.imshow(conf_matrix, cmap=plt.cm.Blues, interpolation='nearest')\n",
        "tick_marks = np.arange(2)   \n",
        "classes = [\"0\",\"1\"]\n",
        "plt.xticks(tick_marks, classes)\n",
        "plt.yticks(tick_marks, classes)\n",
        "thresho = conf_matrix.max() / 2.\n",
        "# The below for loop helps to add numbers in the boxes\n",
        "for k, j in itertools.product(range(conf_matrix.shape[0]), range(conf_matrix.shape[1])):\n",
        "    plt.text(j, k, conf_matrix[k, j], horizontalalignment=\"center\", color=\"white\" if conf_matrix[k, j] > thresho else \"black\")\n",
        "\n",
        "plt.tight_layout()\n",
        "plt.ylabel('True label')\n",
        "plt.xlabel('Predicted label')\n",
        "plt.colorbar()\n",
        "plt.show()"
      ],
      "execution_count": 45,
      "outputs": [
        {
          "output_type": "stream",
          "text": [
            "\n",
            "Confusion matrix\n"
          ],
          "name": "stdout"
        },
        {
          "output_type": "display_data",
          "data": {
            "image/png": "[encoded data removed]",
            "text/plain": [
              "<Figure size 432x288 with 2 Axes>"
            ]
          },
          "metadata": {
            "tags": [],
            "needs_background": "light"
          }
        }
      ]
    },
    {
      "cell_type": "code",
      "metadata": {
        "id": "LGkMQ3-lEYLQ",
        "colab_type": "code",
        "colab": {
          "base_uri": "https://localhost:8080/",
          "height": 312
        },
        "outputId": "e2178ccb-8d49-42bb-a337-6608c01a4f99"
      },
      "source": [
        "# Below is the ROC curve\n",
        "import sklearn.metrics as m\n",
        "print(\"ROC AUC Score : {}\".format(m.roc_auc_score(test_labels, y_pred.round())))\n",
        "\n",
        "fpr, tpr, threshold = m.roc_curve(test_labels, y_pred.round())\n",
        "plt.figure()\n",
        "plt.plot(fpr, tpr)\n",
        "plt.plot([0,1],[0,1],'--')\n",
        "plt.xlim([0.0, 1.0])\n",
        "plt.ylim([0.0, 1.05])\n",
        "plt.xlabel('False Positive Rate')\n",
        "plt.ylabel('True Positive Rate')\n",
        "plt.title('Receiver operating characteristic')\n",
        "plt.show()"
      ],
      "execution_count": 46,
      "outputs": [
        {
          "output_type": "stream",
          "text": [
            "ROC AUC Score : 0.9363400000000001\n"
          ],
          "name": "stdout"
        },
        {
          "output_type": "display_data",
          "data": {
            "image/png": "[encoded data removed]",
            "text/plain": [
              "<Figure size 432x288 with 1 Axes>"
            ]
          },
          "metadata": {
            "tags": [],
            "needs_background": "light"
          }
        }
      ]
    },
    {
      "cell_type": "code",
      "metadata": {
        "id": "a0061fYgNi6V",
        "colab_type": "code",
        "colab": {}
      },
      "source": [
        ""
      ],
      "execution_count": null,
      "outputs": []
    }
  ]
}