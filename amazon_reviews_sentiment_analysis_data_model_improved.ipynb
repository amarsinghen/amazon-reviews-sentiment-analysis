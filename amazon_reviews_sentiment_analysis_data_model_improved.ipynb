{
  "nbformat": 4,
  "nbformat_minor": 0,
  "metadata": {
    "colab": {
      "name": "amazon-reviews-sentiment-analysis-data-model-improved.ipynb",
      "provenance": [],
      "collapsed_sections": [],
      "machine_shape": "hm",
      "mount_file_id": "1T4Um4zbfmWTzHucBqpzsNJNR8VlgLYEJ",
      "authorship_tag": "ABX9TyPhpkxeLHSeJIcPJWrwGrVp",
      "include_colab_link": true
    },
    "kernelspec": {
      "name": "python3",
      "display_name": "Python 3"
    },
    "accelerator": "GPU"
  },
  "cells": [
    {
      "cell_type": "markdown",
      "metadata": {
        "id": "view-in-github",
        "colab_type": "text"
      },
      "source": [
        "<a href=\"https://colab.research.google.com/github/amarsinghen/amazon-reviews-sentiment-analysis/blob/master/amazon_reviews_sentiment_analysis_data_model_improved.ipynb\" target=\"_parent\"><img src=\"https://colab.research.google.com/assets/colab-badge.svg\" alt=\"Open In Colab\"/></a>"
      ]
    },
    {
      "cell_type": "code",
      "metadata": {
        "id": "h-lN9iEF7NtX",
        "colab_type": "code",
        "colab": {
          "base_uri": "https://localhost:8080/",
          "height": 35
        },
        "outputId": "10b57d9b-9716-47aa-e630-a0c3aa246073"
      },
      "source": [
        "import tensorflow as tf\n",
        "tf.__version__"
      ],
      "execution_count": null,
      "outputs": [
        {
          "output_type": "execute_result",
          "data": {
            "application/vnd.google.colaboratory.intrinsic+json": {
              "type": "string"
            },
            "text/plain": [
              "'2.2.0'"
            ]
          },
          "metadata": {
            "tags": []
          },
          "execution_count": 1
        }
      ]
    },
    {
      "cell_type": "code",
      "metadata": {
        "id": "coIK88S5DTBF",
        "colab_type": "code",
        "colab": {
          "base_uri": "https://localhost:8080/",
          "height": 306
        },
        "outputId": "b22f4d96-5ab9-4f57-8a6f-0b8df17b90e0"
      },
      "source": [
        "!pip install contractions"
      ],
      "execution_count": null,
      "outputs": [
        {
          "output_type": "stream",
          "text": [
            "Collecting contractions\n",
            "  Downloading https://files.pythonhosted.org/packages/00/92/a05b76a692ac08d470ae5c23873cf1c9a041532f1ee065e74b374f218306/contractions-0.0.25-py2.py3-none-any.whl\n",
            "Collecting textsearch\n",
            "  Downloading https://files.pythonhosted.org/packages/42/a8/03407021f9555043de5492a2bd7a35c56cc03c2510092b5ec018cae1bbf1/textsearch-0.0.17-py2.py3-none-any.whl\n",
            "Collecting pyahocorasick\n",
            "\u001b[?25l  Downloading https://files.pythonhosted.org/packages/f4/9f/f0d8e8850e12829eea2e778f1c90e3c53a9a799b7f412082a5d21cd19ae1/pyahocorasick-1.4.0.tar.gz (312kB)\n",
            "\u001b[K     |████████████████████████████████| 317kB 4.7MB/s \n",
            "\u001b[?25hCollecting Unidecode\n",
            "\u001b[?25l  Downloading https://files.pythonhosted.org/packages/d0/42/d9edfed04228bacea2d824904cae367ee9efd05e6cce7ceaaedd0b0ad964/Unidecode-1.1.1-py2.py3-none-any.whl (238kB)\n",
            "\u001b[K     |████████████████████████████████| 245kB 20.0MB/s \n",
            "\u001b[?25hBuilding wheels for collected packages: pyahocorasick\n",
            "  Building wheel for pyahocorasick (setup.py) ... \u001b[?25l\u001b[?25hdone\n",
            "  Created wheel for pyahocorasick: filename=pyahocorasick-1.4.0-cp36-cp36m-linux_x86_64.whl size=81693 sha256=f0d65814312553006d8812c3b3258f008420ce4bb52785401d3925809e363b40\n",
            "  Stored in directory: /root/.cache/pip/wheels/0a/90/61/87a55f5b459792fbb2b7ba6b31721b06ff5cf6bde541b40994\n",
            "Successfully built pyahocorasick\n",
            "Installing collected packages: pyahocorasick, Unidecode, textsearch, contractions\n",
            "Successfully installed Unidecode-1.1.1 contractions-0.0.25 pyahocorasick-1.4.0 textsearch-0.0.17\n"
          ],
          "name": "stdout"
        }
      ]
    },
    {
      "cell_type": "code",
      "metadata": {
        "id": "BdcXpmoZBoGR",
        "colab_type": "code",
        "colab": {
          "base_uri": "https://localhost:8080/",
          "height": 51
        },
        "outputId": "3f678bc5-b287-4d97-e8f9-be24d1e4dfd7"
      },
      "source": [
        "import zipfile\n",
        "import pandas as pd\n",
        "import numpy as np\n",
        "import matplotlib.pyplot as plt\n",
        "import bz2\n",
        "import gc\n",
        "import re\n",
        "import os\n",
        "import nltk\n",
        "nltk.download('wordnet')\n",
        "from nltk.stem import WordNetLemmatizer\n",
        "from nltk.tokenize.toktok import ToktokTokenizer\n",
        "import unicodedata\n",
        "import spacy\n",
        "from bs4 import BeautifulSoup\n",
        "import unicodedata\n",
        "import contractions\n",
        "import pickle\n",
        "import gzip"
      ],
      "execution_count": null,
      "outputs": [
        {
          "output_type": "stream",
          "text": [
            "[nltk_data] Downloading package wordnet to /root/nltk_data...\n",
            "[nltk_data]   Unzipping corpora/wordnet.zip.\n"
          ],
          "name": "stdout"
        }
      ]
    },
    {
      "cell_type": "code",
      "metadata": {
        "id": "RsqK2CHl8ZQJ",
        "colab_type": "code",
        "colab": {}
      },
      "source": [
        "from tensorflow.keras.models import Model, Sequential\n",
        "from tensorflow.keras.layers import Dense, Embedding, Input, Conv1D, GlobalMaxPool1D, Dropout, concatenate, Layer, InputSpec, LSTM\n",
        "from tensorflow.keras.preprocessing import text, sequence\n",
        "from tensorflow.keras.callbacks import EarlyStopping, ModelCheckpoint\n",
        "from tensorflow.keras import backend as K\n",
        "from tensorflow.keras import activations, initializers, regularizers, constraints\n",
        "from tensorflow.keras.regularizers import l2\n",
        "from tensorflow.keras.constraints import MaxNorm"
      ],
      "execution_count": null,
      "outputs": []
    },
    {
      "cell_type": "code",
      "metadata": {
        "id": "s3Hwne1H_tZH",
        "colab_type": "code",
        "colab": {
          "base_uri": "https://localhost:8080/",
          "height": 68
        },
        "outputId": "ec8a2ffd-6a37-4d88-f493-254cebba099b"
      },
      "source": [
        "# Downloading the data from kaggle for first time, and \n",
        "# then saving to google drive for future uses. It is faster this way\n",
        "!pip install -q kaggle\n",
        "# The Kaggle API client expects this file to be in ~/.kaggle,\n",
        "# so move it there.\n",
        "!mkdir -p ~/.kaggle\n",
        "!cp '/content/drive/My Drive/kaggle.json' ~/.kaggle/\n",
        "# This permissions change avoids a warning on Kaggle tool startup.\n",
        "!chmod 600 ~/.kaggle/kaggle.json\n",
        "!kaggle datasets download -d bittlingmayer/amazonreviews"
      ],
      "execution_count": null,
      "outputs": [
        {
          "output_type": "stream",
          "text": [
            "Downloading amazonreviews.zip to /content\n",
            " 99% 489M/493M [00:19<00:00, 15.4MB/s]\n",
            "100% 493M/493M [00:19<00:00, 26.7MB/s]\n"
          ],
          "name": "stdout"
        }
      ]
    },
    {
      "cell_type": "code",
      "metadata": {
        "id": "vvCK13JP_pBy",
        "colab_type": "code",
        "colab": {}
      },
      "source": [
        "import zipfile\n",
        "local_zip = ['amazonreviews.zip']\n",
        "for i in range(len(local_zip)):\n",
        "    zip_ref = zipfile.ZipFile(local_zip[i], 'r')\n",
        "    zip_ref.extractall('/tmp')\n",
        "    zip_ref.close()"
      ],
      "execution_count": null,
      "outputs": []
    },
    {
      "cell_type": "code",
      "metadata": {
        "id": "D4kmysJWBe_9",
        "colab_type": "code",
        "colab": {}
      },
      "source": [
        "train_file = bz2.BZ2File('/tmp/train.ft.txt.bz2')\n",
        "test_file = bz2.BZ2File('/tmp/test.ft.txt.bz2')"
      ],
      "execution_count": null,
      "outputs": []
    },
    {
      "cell_type": "code",
      "metadata": {
        "id": "j9qXJgnUDB8y",
        "colab_type": "code",
        "colab": {}
      },
      "source": [
        "train_file_lines = train_file.readlines()\n",
        "test_file_lines = test_file.readlines()"
      ],
      "execution_count": null,
      "outputs": []
    },
    {
      "cell_type": "code",
      "metadata": {
        "id": "eSFYmYzhDC-Q",
        "colab_type": "code",
        "colab": {
          "base_uri": "https://localhost:8080/",
          "height": 105
        },
        "outputId": "dfd08dfa-93c5-4534-9c67-fa48b04e801c"
      },
      "source": [
        "print(len(train_file_lines))\n",
        "print(train_file_lines[:2])\n",
        "print(len(test_file_lines))\n",
        "print(test_file_lines[:2])"
      ],
      "execution_count": null,
      "outputs": [
        {
          "output_type": "stream",
          "text": [
            "3600000\n",
            "[b'__label__2 Stuning even for the non-gamer: This sound track was beautiful! It paints the senery in your mind so well I would recomend it even to people who hate vid. game music! I have played the game Chrono Cross but out of all of the games I have ever played it has the best music! It backs away from crude keyboarding and takes a fresher step with grate guitars and soulful orchestras. It would impress anyone who cares to listen! ^_^\\n', b\"__label__2 The best soundtrack ever to anything.: I'm reading a lot of reviews saying that this is the best 'game soundtrack' and I figured that I'd write a review to disagree a bit. This in my opinino is Yasunori Mitsuda's ultimate masterpiece. The music is timeless and I'm been listening to it for years now and its beauty simply refuses to fade.The price tag on this is pretty staggering I must say, but if you are going to buy any cd for this much money, this is the only one that I feel would be worth every penny.\\n\"]\n",
            "400000\n",
            "[b'__label__2 Great CD: My lovely Pat has one of the GREAT voices of her generation. I have listened to this CD for YEARS and I still LOVE IT. When I\\'m in a good mood it makes me feel better. A bad mood just evaporates like sugar in the rain. This CD just oozes LIFE. Vocals are jusat STUUNNING and lyrics just kill. One of life\\'s hidden gems. This is a desert isle CD in my book. Why she never made it big is just beyond me. Everytime I play this, no matter black, white, young, old, male, female EVERYBODY says one thing \"Who was that singing ?\"\\n', b\"__label__2 One of the best game music soundtracks - for a game I didn't really play: Despite the fact that I have only played a small portion of the game, the music I heard (plus the connection to Chrono Trigger which was great as well) led me to purchase the soundtrack, and it remains one of my favorite albums. There is an incredible mix of fun, epic, and emotional songs. Those sad and beautiful tracks I especially like, as there's not too many of those kinds of songs in my other video game soundtracks. I must admit that one of the songs (Life-A Distant Promise) has brought tears to my eyes on many occasions.My one complaint about this soundtrack is that they use guitar fretting effects in many of the songs, which I find distracting. But even if those weren't included I would still consider the collection worth it.\\n\"]\n"
          ],
          "name": "stdout"
        }
      ]
    },
    {
      "cell_type": "code",
      "metadata": {
        "id": "zVlpd1rNE7E0",
        "colab_type": "code",
        "colab": {}
      },
      "source": [
        "# Convert from raw binary strings to strings that can be parsed\n",
        "train_file_lines = [x.decode('utf-8') for x in train_file_lines]\n",
        "test_file_lines = [x.decode('utf-8') for x in test_file_lines]"
      ],
      "execution_count": null,
      "outputs": []
    },
    {
      "cell_type": "code",
      "metadata": {
        "id": "uCX0jVrYFFyL",
        "colab_type": "code",
        "colab": {
          "base_uri": "https://localhost:8080/",
          "height": 105
        },
        "outputId": "f5ae7283-eefb-49ac-fe84-b0aa3f7510f9"
      },
      "source": [
        "print(len(train_file_lines))\n",
        "print(train_file_lines[:2])\n",
        "print(len(test_file_lines))\n",
        "print(test_file_lines[:2])"
      ],
      "execution_count": null,
      "outputs": [
        {
          "output_type": "stream",
          "text": [
            "3600000\n",
            "['__label__2 Stuning even for the non-gamer: This sound track was beautiful! It paints the senery in your mind so well I would recomend it even to people who hate vid. game music! I have played the game Chrono Cross but out of all of the games I have ever played it has the best music! It backs away from crude keyboarding and takes a fresher step with grate guitars and soulful orchestras. It would impress anyone who cares to listen! ^_^\\n', \"__label__2 The best soundtrack ever to anything.: I'm reading a lot of reviews saying that this is the best 'game soundtrack' and I figured that I'd write a review to disagree a bit. This in my opinino is Yasunori Mitsuda's ultimate masterpiece. The music is timeless and I'm been listening to it for years now and its beauty simply refuses to fade.The price tag on this is pretty staggering I must say, but if you are going to buy any cd for this much money, this is the only one that I feel would be worth every penny.\\n\"]\n",
            "400000\n",
            "['__label__2 Great CD: My lovely Pat has one of the GREAT voices of her generation. I have listened to this CD for YEARS and I still LOVE IT. When I\\'m in a good mood it makes me feel better. A bad mood just evaporates like sugar in the rain. This CD just oozes LIFE. Vocals are jusat STUUNNING and lyrics just kill. One of life\\'s hidden gems. This is a desert isle CD in my book. Why she never made it big is just beyond me. Everytime I play this, no matter black, white, young, old, male, female EVERYBODY says one thing \"Who was that singing ?\"\\n', \"__label__2 One of the best game music soundtracks - for a game I didn't really play: Despite the fact that I have only played a small portion of the game, the music I heard (plus the connection to Chrono Trigger which was great as well) led me to purchase the soundtrack, and it remains one of my favorite albums. There is an incredible mix of fun, epic, and emotional songs. Those sad and beautiful tracks I especially like, as there's not too many of those kinds of songs in my other video game soundtracks. I must admit that one of the songs (Life-A Distant Promise) has brought tears to my eyes on many occasions.My one complaint about this soundtrack is that they use guitar fretting effects in many of the songs, which I find distracting. But even if those weren't included I would still consider the collection worth it.\\n\"]\n"
          ],
          "name": "stdout"
        }
      ]
    },
    {
      "cell_type": "code",
      "metadata": {
        "id": "yI7V46YlB6Jk",
        "colab_type": "code",
        "colab": {
          "base_uri": "https://localhost:8080/",
          "height": 34
        },
        "outputId": "51b47a2a-1735-4139-b2d9-6f50ec97ffb4"
      },
      "source": [
        "type(train_file_lines)"
      ],
      "execution_count": null,
      "outputs": [
        {
          "output_type": "execute_result",
          "data": {
            "text/plain": [
              "list"
            ]
          },
          "metadata": {
            "tags": []
          },
          "execution_count": 12
        }
      ]
    },
    {
      "cell_type": "markdown",
      "metadata": {
        "id": "jcMDk6RYl-at",
        "colab_type": "text"
      },
      "source": [
        "### Create Y-labels for both Train and Test"
      ]
    },
    {
      "cell_type": "code",
      "metadata": {
        "id": "MzE8X0garoja",
        "colab_type": "code",
        "colab": {}
      },
      "source": [
        "one_line = '__label__1 Stuning even for the non-gamer: This sound track was beautiful! It paints the senery in your mind so well I would recomend it even to people who hate vid. game music! I have played the game Chrono Cross but out of all of the games I have ever played it has the best music! It backs away from crude keyboarding and takes a fresher step with grate guitars and soulful orchestras. It would impress anyone who cares to listen! ^_^\\n'\n",
        "lines = ['__label__1 Stuning even for the non-gamer: This sound track was beautiful! It paints the senery in your mind so well I would recomend it even to people who hate vid. game music! I have played the game Chrono Cross but out of all of the games I have ever played it has the best music! It backs away from crude keyboarding and takes a fresher step with grate guitars and soulful orchestras. It would impress anyone who cares to listen! ^_^\\n', \"__label__2 The best soundtrack ever to anything.: I'm reading a lot of reviews saying that this is the best 'game soundtrack' and I figured that I'd write a review to disagree a bit. This in my opinino is Yasunori Mitsuda's ultimate masterpiece. The music is timeless and I'm been listening to it for years now and its beauty simply refuses to fade.The price tag on this is pretty staggering I must say, but if you are going to buy any cd for this much money, this is the only one that I feel would be worth every penny.\\n\", '__label__2 Amazing!: This soundtrack is my favorite music of all time, hands down. The intense sadness of \"Prisoners of Fate\" (which means all the more if you\\'ve played the game) and the hope in \"A Distant Promise\" and \"Girl who Stole the Star\" have been an important inspiration to me personally throughout my teen years. The higher energy tracks like \"Chrono Cross ~ Time\\'s Scar~\", \"Time of the Dreamwatch\", and \"Chronomantique\" (indefinably remeniscent of Chrono Trigger) are all absolutely superb as well.This soundtrack is amazing music, probably the best of this composer\\'s work (I haven\\'t heard the Xenogears soundtrack, so I can\\'t say for sure), and even if you\\'ve never played the game, it would be worth twice the price to buy it.I wish I could give it 6 stars.\\n', \"__label__2 Excellent Soundtrack: I truly like this soundtrack and I enjoy video game music. I have played this game and most of the music on here I enjoy and it's truly relaxing and peaceful.On disk one. my favorites are Scars Of Time, Between Life and Death, Forest Of Illusion, Fortress of Ancient Dragons, Lost Fragment, and Drowned Valley.Disk Two: The Draggons, Galdorb - Home, Chronomantique, Prisoners of Fate, Gale, and my girlfriend likes ZelbessDisk Three: The best of the three. Garden Of God, Chronopolis, Fates, Jellyfish sea, Burning Orphange, Dragon's Prayer, Tower Of Stars, Dragon God, and Radical Dreamers - Unstealable Jewel.Overall, this is a excellent soundtrack and should be brought by those that like video game music.Xander Cross\\n\", \"__label__2 Remember, Pull Your Jaw Off The Floor After Hearing it: If you've played the game, you know how divine the music is! Every single song tells a story of the game, it's that good! The greatest songs are without a doubt, Chrono Cross: Time's Scar, Magical Dreamers: The Wind, The Stars, and the Sea and Radical Dreamers: Unstolen Jewel. (Translation varies) This music is perfect if you ask me, the best it can be. Yasunori Mitsuda just poured his heart on and wrote it down on paper.\\n\"]"
      ],
      "execution_count": null,
      "outputs": []
    },
    {
      "cell_type": "code",
      "metadata": {
        "id": "ZnpIPyOTkv-H",
        "colab_type": "code",
        "colab": {
          "base_uri": "https://localhost:8080/",
          "height": 34
        },
        "outputId": "a2e9ba64-56bb-473f-c81c-97aaf58fd314"
      },
      "source": [
        "def create_labels(line):\n",
        "    labels = 0 if line.split(' ')[0] == '__label__1' else 1\n",
        "    return labels\n",
        "print(create_labels('__label__1 Stuning even for the non-game'))"
      ],
      "execution_count": null,
      "outputs": [
        {
          "output_type": "stream",
          "text": [
            "0\n"
          ],
          "name": "stdout"
        }
      ]
    },
    {
      "cell_type": "code",
      "metadata": {
        "id": "QOHGgv5_ngww",
        "colab_type": "code",
        "colab": {
          "base_uri": "https://localhost:8080/",
          "height": 34
        },
        "outputId": "8a6ea745-d5c8-4c0f-d435-dcde4669d1ff"
      },
      "source": [
        "labels = [create_labels(line) for line in lines]\n",
        "print(labels)"
      ],
      "execution_count": null,
      "outputs": [
        {
          "output_type": "stream",
          "text": [
            "[0, 1, 1, 1, 1]\n"
          ],
          "name": "stdout"
        }
      ]
    },
    {
      "cell_type": "code",
      "metadata": {
        "id": "qtOg43XCUZ1f",
        "colab_type": "code",
        "colab": {
          "base_uri": "https://localhost:8080/",
          "height": 51
        },
        "outputId": "f0243e80-de33-4d4d-f7d4-f3c4de3706e3"
      },
      "source": [
        "train_labels = [create_labels(line) for line in train_file_lines]\n",
        "test_labels = [create_labels(line) for line in test_file_lines]\n",
        "print(train_labels[:5])\n",
        "print(test_labels[:5])\n"
      ],
      "execution_count": null,
      "outputs": [
        {
          "output_type": "stream",
          "text": [
            "[1, 1, 1, 1, 1]\n",
            "[1, 1, 0, 1, 1]\n"
          ],
          "name": "stdout"
        }
      ]
    },
    {
      "cell_type": "markdown",
      "metadata": {
        "id": "KYmKi_7NqfJg",
        "colab_type": "text"
      },
      "source": [
        "## Text Data Pre-Processing"
      ]
    },
    {
      "cell_type": "markdown",
      "metadata": {
        "id": "lpeavK9pon7q",
        "colab_type": "text"
      },
      "source": [
        "### Remove labels from sentences and lowercase"
      ]
    },
    {
      "cell_type": "code",
      "metadata": {
        "id": "8cqyo5m1ozKe",
        "colab_type": "code",
        "colab": {}
      },
      "source": [
        "def remove_labels_and_lowercase(line):\n",
        "    new_line = line.split(' ', 1)[1].lower()\n",
        "    return new_line"
      ],
      "execution_count": null,
      "outputs": []
    },
    {
      "cell_type": "code",
      "metadata": {
        "id": "jWbpLmEhqH11",
        "colab_type": "code",
        "colab": {
          "base_uri": "https://localhost:8080/",
          "height": 88
        },
        "outputId": "55baf238-a1fc-422d-9482-cf1354facf4c"
      },
      "source": [
        "print(remove_labels_and_lowercase(one_line))\n",
        "new_lines = [remove_labels_and_lowercase(line) for line in lines]\n",
        "print(new_lines)"
      ],
      "execution_count": null,
      "outputs": [
        {
          "output_type": "stream",
          "text": [
            "stuning even for the non-gamer: this sound track was beautiful! it paints the senery in your mind so well i would recomend it even to people who hate vid. game music! i have played the game chrono cross but out of all of the games i have ever played it has the best music! it backs away from crude keyboarding and takes a fresher step with grate guitars and soulful orchestras. it would impress anyone who cares to listen! ^_^\n",
            "\n",
            "['stuning even for the non-gamer: this sound track was beautiful! it paints the senery in your mind so well i would recomend it even to people who hate vid. game music! i have played the game chrono cross but out of all of the games i have ever played it has the best music! it backs away from crude keyboarding and takes a fresher step with grate guitars and soulful orchestras. it would impress anyone who cares to listen! ^_^\\n', \"the best soundtrack ever to anything.: i'm reading a lot of reviews saying that this is the best 'game soundtrack' and i figured that i'd write a review to disagree a bit. this in my opinino is yasunori mitsuda's ultimate masterpiece. the music is timeless and i'm been listening to it for years now and its beauty simply refuses to fade.the price tag on this is pretty staggering i must say, but if you are going to buy any cd for this much money, this is the only one that i feel would be worth every penny.\\n\", 'amazing!: this soundtrack is my favorite music of all time, hands down. the intense sadness of \"prisoners of fate\" (which means all the more if you\\'ve played the game) and the hope in \"a distant promise\" and \"girl who stole the star\" have been an important inspiration to me personally throughout my teen years. the higher energy tracks like \"chrono cross ~ time\\'s scar~\", \"time of the dreamwatch\", and \"chronomantique\" (indefinably remeniscent of chrono trigger) are all absolutely superb as well.this soundtrack is amazing music, probably the best of this composer\\'s work (i haven\\'t heard the xenogears soundtrack, so i can\\'t say for sure), and even if you\\'ve never played the game, it would be worth twice the price to buy it.i wish i could give it 6 stars.\\n', \"excellent soundtrack: i truly like this soundtrack and i enjoy video game music. i have played this game and most of the music on here i enjoy and it's truly relaxing and peaceful.on disk one. my favorites are scars of time, between life and death, forest of illusion, fortress of ancient dragons, lost fragment, and drowned valley.disk two: the draggons, galdorb - home, chronomantique, prisoners of fate, gale, and my girlfriend likes zelbessdisk three: the best of the three. garden of god, chronopolis, fates, jellyfish sea, burning orphange, dragon's prayer, tower of stars, dragon god, and radical dreamers - unstealable jewel.overall, this is a excellent soundtrack and should be brought by those that like video game music.xander cross\\n\", \"remember, pull your jaw off the floor after hearing it: if you've played the game, you know how divine the music is! every single song tells a story of the game, it's that good! the greatest songs are without a doubt, chrono cross: time's scar, magical dreamers: the wind, the stars, and the sea and radical dreamers: unstolen jewel. (translation varies) this music is perfect if you ask me, the best it can be. yasunori mitsuda just poured his heart on and wrote it down on paper.\\n\"]\n"
          ],
          "name": "stdout"
        }
      ]
    },
    {
      "cell_type": "code",
      "metadata": {
        "id": "wj7jKnXnF0YK",
        "colab_type": "code",
        "colab": {
          "base_uri": "https://localhost:8080/",
          "height": 105
        },
        "outputId": "a030dd4e-460d-413e-9fbc-e9862dc05b5b"
      },
      "source": [
        "train_texts_list = [remove_labels_and_lowercase(line) for line in train_file_lines]\n",
        "test_texts_list = [remove_labels_and_lowercase(line) for line in test_file_lines]\n",
        "print(len(train_texts_list))\n",
        "print(train_texts_list[:2])\n",
        "print(len(test_texts_list))\n",
        "print(test_texts_list[:2])"
      ],
      "execution_count": null,
      "outputs": [
        {
          "output_type": "stream",
          "text": [
            "3600000\n",
            "['stuning even for the non-gamer: this sound track was beautiful! it paints the senery in your mind so well i would recomend it even to people who hate vid. game music! i have played the game chrono cross but out of all of the games i have ever played it has the best music! it backs away from crude keyboarding and takes a fresher step with grate guitars and soulful orchestras. it would impress anyone who cares to listen! ^_^\\n', \"the best soundtrack ever to anything.: i'm reading a lot of reviews saying that this is the best 'game soundtrack' and i figured that i'd write a review to disagree a bit. this in my opinino is yasunori mitsuda's ultimate masterpiece. the music is timeless and i'm been listening to it for years now and its beauty simply refuses to fade.the price tag on this is pretty staggering i must say, but if you are going to buy any cd for this much money, this is the only one that i feel would be worth every penny.\\n\", 'amazing!: this soundtrack is my favorite music of all time, hands down. the intense sadness of \"prisoners of fate\" (which means all the more if you\\'ve played the game) and the hope in \"a distant promise\" and \"girl who stole the star\" have been an important inspiration to me personally throughout my teen years. the higher energy tracks like \"chrono cross ~ time\\'s scar~\", \"time of the dreamwatch\", and \"chronomantique\" (indefinably remeniscent of chrono trigger) are all absolutely superb as well.this soundtrack is amazing music, probably the best of this composer\\'s work (i haven\\'t heard the xenogears soundtrack, so i can\\'t say for sure), and even if you\\'ve never played the game, it would be worth twice the price to buy it.i wish i could give it 6 stars.\\n', \"excellent soundtrack: i truly like this soundtrack and i enjoy video game music. i have played this game and most of the music on here i enjoy and it's truly relaxing and peaceful.on disk one. my favorites are scars of time, between life and death, forest of illusion, fortress of ancient dragons, lost fragment, and drowned valley.disk two: the draggons, galdorb - home, chronomantique, prisoners of fate, gale, and my girlfriend likes zelbessdisk three: the best of the three. garden of god, chronopolis, fates, jellyfish sea, burning orphange, dragon's prayer, tower of stars, dragon god, and radical dreamers - unstealable jewel.overall, this is a excellent soundtrack and should be brought by those that like video game music.xander cross\\n\", \"remember, pull your jaw off the floor after hearing it: if you've played the game, you know how divine the music is! every single song tells a story of the game, it's that good! the greatest songs are without a doubt, chrono cross: time's scar, magical dreamers: the wind, the stars, and the sea and radical dreamers: unstolen jewel. (translation varies) this music is perfect if you ask me, the best it can be. yasunori mitsuda just poured his heart on and wrote it down on paper.\\n\"]\n",
            "400000\n",
            "['great cd: my lovely pat has one of the great voices of her generation. i have listened to this cd for years and i still love it. when i\\'m in a good mood it makes me feel better. a bad mood just evaporates like sugar in the rain. this cd just oozes life. vocals are jusat stuunning and lyrics just kill. one of life\\'s hidden gems. this is a desert isle cd in my book. why she never made it big is just beyond me. everytime i play this, no matter black, white, young, old, male, female everybody says one thing \"who was that singing ?\"\\n', \"one of the best game music soundtracks - for a game i didn't really play: despite the fact that i have only played a small portion of the game, the music i heard (plus the connection to chrono trigger which was great as well) led me to purchase the soundtrack, and it remains one of my favorite albums. there is an incredible mix of fun, epic, and emotional songs. those sad and beautiful tracks i especially like, as there's not too many of those kinds of songs in my other video game soundtracks. i must admit that one of the songs (life-a distant promise) has brought tears to my eyes on many occasions.my one complaint about this soundtrack is that they use guitar fretting effects in many of the songs, which i find distracting. but even if those weren't included i would still consider the collection worth it.\\n\", 'batteries died within a year ...: i bought this charger in jul 2003 and it worked ok for a while. the design is nice and convenient. however, after about a year, the batteries would not hold a charge. might as well just get alkaline disposables, or look elsewhere for a charger that comes with batteries that have better staying power.\\n', \"works fine, but maha energy is better: check out maha energy's website. their powerex mh-c204f charger works in 100 minutes for rapid charge, with option for slower charge (better for batteries). and they have 2200 mah batteries.\\n\", \"great for the non-audiophile: reviewed quite a bit of the combo players and was hesitant due to unfavorable reviews and size of machines. i am weaning off my vhs collection, but don't want to replace them with dvd's. this unit is well built, easy to setup and resolution and special effects (no progressive scan for hdtv owners) suitable for many people looking for a versatile product.cons- no universal remote.\\n\"]\n"
          ],
          "name": "stdout"
        }
      ]
    },
    {
      "cell_type": "markdown",
      "metadata": {
        "id": "tTnt5ny5Gxir",
        "colab_type": "text"
      },
      "source": [
        "### Creating pandas dataframe"
      ]
    },
    {
      "cell_type": "code",
      "metadata": {
        "id": "Mv961fDcGvp0",
        "colab_type": "code",
        "colab": {
          "base_uri": "https://localhost:8080/",
          "height": 119
        },
        "outputId": "e0b4ba9d-34e4-445c-f801-c73a1e958035"
      },
      "source": [
        "train_df = pd.DataFrame({\"reviews\" : train_texts_list,\n",
        "                        \"labels\" : train_labels})\n",
        "test_df = pd.DataFrame({\"reviews\" : test_texts_list,\n",
        "                        \"labels\" : test_labels})\n",
        "print(train_df[:2])\n",
        "print(test_df[:2])"
      ],
      "execution_count": null,
      "outputs": [
        {
          "output_type": "stream",
          "text": [
            "                                             reviews  labels\n",
            "0  stuning even for the non-gamer: this sound tra...       1\n",
            "1  the best soundtrack ever to anything.: i'm rea...       1\n",
            "                                             reviews  labels\n",
            "0  great cd: my lovely pat has one of the great v...       1\n",
            "1  one of the best game music soundtracks - for a...       1\n"
          ],
          "name": "stdout"
        }
      ]
    },
    {
      "cell_type": "code",
      "metadata": {
        "id": "oCHguAC4H-Mn",
        "colab_type": "code",
        "colab": {
          "base_uri": "https://localhost:8080/",
          "height": 187
        },
        "outputId": "4057c576-51f7-4539-dd53-2b99b8571f10"
      },
      "source": [
        "train_df[\"reviews_char_length\"] = train_df['reviews'].str.len()\n",
        "test_df[\"reviews_char_length\"] = test_df['reviews'].str.len()\n",
        "print(train_df[:2])\n",
        "print(test_df[:2])"
      ],
      "execution_count": null,
      "outputs": [
        {
          "output_type": "stream",
          "text": [
            "                                             reviews  ...  reviews_char_length\n",
            "0  stuning even for the non-gamer: this sound tra...  ...                  427\n",
            "1  the best soundtrack ever to anything.: i'm rea...  ...                  510\n",
            "\n",
            "[2 rows x 3 columns]\n",
            "                                             reviews  ...  reviews_char_length\n",
            "0  great cd: my lovely pat has one of the great v...  ...                  534\n",
            "1  one of the best game music soundtracks - for a...  ...                  817\n",
            "\n",
            "[2 rows x 3 columns]\n"
          ],
          "name": "stdout"
        }
      ]
    },
    {
      "cell_type": "code",
      "metadata": {
        "id": "c46rBpfmQ338",
        "colab_type": "code",
        "colab": {
          "base_uri": "https://localhost:8080/",
          "height": 51
        },
        "outputId": "aa867f75-a3ad-42c0-ef43-46080a7f9d94"
      },
      "source": [
        "train_df['reviews'].loc[:0].str.split()"
      ],
      "execution_count": null,
      "outputs": [
        {
          "output_type": "execute_result",
          "data": {
            "text/plain": [
              "0    [stuning, even, for, the, non-gamer:, this, so...\n",
              "Name: reviews, dtype: object"
            ]
          },
          "metadata": {
            "tags": []
          },
          "execution_count": 27
        }
      ]
    },
    {
      "cell_type": "code",
      "metadata": {
        "id": "a5Zcvl6vKcwQ",
        "colab_type": "code",
        "colab": {
          "base_uri": "https://localhost:8080/",
          "height": 187
        },
        "outputId": "16afa8d4-c3f1-4938-f7c6-01c312633399"
      },
      "source": [
        "train_df[\"reviews_words_counts\"] = train_df['reviews'].str.split().str.len()\n",
        "test_df[\"reviews_words_counts\"] = test_df['reviews'].str.split().str.len()\n",
        "print(train_df[:2])\n",
        "print(test_df[:2])"
      ],
      "execution_count": null,
      "outputs": [
        {
          "output_type": "stream",
          "text": [
            "                                             reviews  ...  reviews_words_counts\n",
            "0  stuning even for the non-gamer: this sound tra...  ...                    80\n",
            "1  the best soundtrack ever to anything.: i'm rea...  ...                    97\n",
            "\n",
            "[2 rows x 4 columns]\n",
            "                                             reviews  ...  reviews_words_counts\n",
            "0  great cd: my lovely pat has one of the great v...  ...                   106\n",
            "1  one of the best game music soundtracks - for a...  ...                   148\n",
            "\n",
            "[2 rows x 4 columns]\n"
          ],
          "name": "stdout"
        }
      ]
    },
    {
      "cell_type": "code",
      "metadata": {
        "id": "QGMBGxLjVous",
        "colab_type": "code",
        "colab": {
          "base_uri": "https://localhost:8080/",
          "height": 297
        },
        "outputId": "a77edd7b-5db3-46b0-d041-6ba11825949c"
      },
      "source": [
        "train_df.describe()"
      ],
      "execution_count": null,
      "outputs": [
        {
          "output_type": "execute_result",
          "data": {
            "text/html": [
              "<div>\n",
              "<style scoped>\n",
              "    .dataframe tbody tr th:only-of-type {\n",
              "        vertical-align: middle;\n",
              "    }\n",
              "\n",
              "    .dataframe tbody tr th {\n",
              "        vertical-align: top;\n",
              "    }\n",
              "\n",
              "    .dataframe thead th {\n",
              "        text-align: right;\n",
              "    }\n",
              "</style>\n",
              "<table border=\"1\" class=\"dataframe\">\n",
              "  <thead>\n",
              "    <tr style=\"text-align: right;\">\n",
              "      <th></th>\n",
              "      <th>labels</th>\n",
              "      <th>reviews_char_length</th>\n",
              "      <th>reviews_words_counts</th>\n",
              "    </tr>\n",
              "  </thead>\n",
              "  <tbody>\n",
              "    <tr>\n",
              "      <th>count</th>\n",
              "      <td>3600000.0</td>\n",
              "      <td>3.600000e+06</td>\n",
              "      <td>3.600000e+06</td>\n",
              "    </tr>\n",
              "    <tr>\n",
              "      <th>mean</th>\n",
              "      <td>0.5</td>\n",
              "      <td>4.326463e+02</td>\n",
              "      <td>7.848273e+01</td>\n",
              "    </tr>\n",
              "    <tr>\n",
              "      <th>std</th>\n",
              "      <td>0.5</td>\n",
              "      <td>2.375526e+02</td>\n",
              "      <td>4.283280e+01</td>\n",
              "    </tr>\n",
              "    <tr>\n",
              "      <th>min</th>\n",
              "      <td>0.0</td>\n",
              "      <td>7.300000e+01</td>\n",
              "      <td>2.000000e+00</td>\n",
              "    </tr>\n",
              "    <tr>\n",
              "      <th>25%</th>\n",
              "      <td>0.0</td>\n",
              "      <td>2.320000e+02</td>\n",
              "      <td>4.200000e+01</td>\n",
              "    </tr>\n",
              "    <tr>\n",
              "      <th>50%</th>\n",
              "      <td>0.5</td>\n",
              "      <td>3.840000e+02</td>\n",
              "      <td>7.000000e+01</td>\n",
              "    </tr>\n",
              "    <tr>\n",
              "      <th>75%</th>\n",
              "      <td>1.0</td>\n",
              "      <td>5.960000e+02</td>\n",
              "      <td>1.080000e+02</td>\n",
              "    </tr>\n",
              "    <tr>\n",
              "      <th>max</th>\n",
              "      <td>1.0</td>\n",
              "      <td>1.016000e+03</td>\n",
              "      <td>2.570000e+02</td>\n",
              "    </tr>\n",
              "  </tbody>\n",
              "</table>\n",
              "</div>"
            ],
            "text/plain": [
              "          labels  reviews_char_length  reviews_words_counts\n",
              "count  3600000.0         3.600000e+06          3.600000e+06\n",
              "mean         0.5         4.326463e+02          7.848273e+01\n",
              "std          0.5         2.375526e+02          4.283280e+01\n",
              "min          0.0         7.300000e+01          2.000000e+00\n",
              "25%          0.0         2.320000e+02          4.200000e+01\n",
              "50%          0.5         3.840000e+02          7.000000e+01\n",
              "75%          1.0         5.960000e+02          1.080000e+02\n",
              "max          1.0         1.016000e+03          2.570000e+02"
            ]
          },
          "metadata": {
            "tags": []
          },
          "execution_count": 45
        }
      ]
    },
    {
      "cell_type": "code",
      "metadata": {
        "id": "ZhWDFldoRiG1",
        "colab_type": "code",
        "colab": {
          "base_uri": "https://localhost:8080/",
          "height": 312
        },
        "outputId": "5a0e228f-6f7e-4c83-cc24-84549f9fa1e8"
      },
      "source": [
        "plt.hist(train_df[\"reviews_words_counts\"])\n",
        "plt.hist(test_df[\"reviews_words_counts\"])\n",
        "plt.title(\"Training Data - Distribution of word counts in each review\")\n",
        "plt.xlabel(\"# of words in a review\")\n",
        "plt.ylabel(\"# of reviews\")\n",
        "plt.legend([\"Train\", \"Test\"])"
      ],
      "execution_count": null,
      "outputs": [
        {
          "output_type": "execute_result",
          "data": {
            "text/plain": [
              "<matplotlib.legend.Legend at 0x7f1b855a37b8>"
            ]
          },
          "metadata": {
            "tags": []
          },
          "execution_count": 33
        },
        {
          "output_type": "display_data",
          "data": {
            "image/png": "[encoded data removed]",
            "text/plain": [
              "<Figure size 432x288 with 1 Axes>"
            ]
          },
          "metadata": {
            "tags": [],
            "needs_background": "light"
          }
        }
      ]
    },
    {
      "cell_type": "code",
      "metadata": {
        "id": "o2_1MObaSTef",
        "colab_type": "code",
        "colab": {
          "base_uri": "https://localhost:8080/",
          "height": 51
        },
        "outputId": "327e12d7-d653-493e-bcd4-f91a7ed9674f"
      },
      "source": [
        "print(\"Training Data: Review with Max words - {}, Review with Min words - {}, Average # of words - {}\".format(train_df[\"reviews_words_counts\"].max(), \n",
        "                                                                                                                train_df[\"reviews_words_counts\"].min(), \n",
        "                                                                                                                train_df[\"reviews_words_counts\"].mean()))\n",
        "print(\"Test Data: Review with Max words - {}, Review with Min words - {}, Average # of words - {}\".format(test_df[\"reviews_words_counts\"].max(), \n",
        "                                                                                                            test_df[\"reviews_words_counts\"].min(),\n",
        "                                                                                                            test_df[\"reviews_words_counts\"].mean()))"
      ],
      "execution_count": null,
      "outputs": [
        {
          "output_type": "stream",
          "text": [
            "Training Data: Review with Max words - 257, Review with Min words - 2, Average # of words - 78.48273333333333\n",
            "Test Data: Review with Max words - 230, Review with Min words - 6, Average # of words - 78.424145\n"
          ],
          "name": "stdout"
        }
      ]
    },
    {
      "cell_type": "code",
      "metadata": {
        "id": "QJvNjHlYUIFy",
        "colab_type": "code",
        "colab": {
          "base_uri": "https://localhost:8080/",
          "height": 51
        },
        "outputId": "6785d31d-2ad5-4cbd-fbfc-5c2ecd031915"
      },
      "source": [
        "max_count = 210\n",
        "print(\"Check training data for number of reviews with >{} words: {}\".format(max_count,train_df.loc[train_df[\"reviews_words_counts\"]>max_count,\"reviews_words_counts\"].count()))\n",
        "print(\"Check test data for number of reviews with >{} words : {}\".format(max_count,test_df.loc[train_df[\"reviews_words_counts\"]>max_count,\"reviews_words_counts\"].count()))"
      ],
      "execution_count": null,
      "outputs": [
        {
          "output_type": "stream",
          "text": [
            "Check training data for number of reviews with max_acount 210 : 95\n",
            "Check test data for number of reviews with max_acount 210 : 15\n"
          ],
          "name": "stdout"
        }
      ]
    },
    {
      "cell_type": "code",
      "metadata": {
        "id": "SKyBTGIEZIw-",
        "colab_type": "code",
        "colab": {
          "base_uri": "https://localhost:8080/",
          "height": 119
        },
        "outputId": "f70f7750-81c0-4b31-b5bf-bc7049fa88b5"
      },
      "source": [
        "# Checking training Quantile numbers\n",
        "train_df.reviews_words_counts.quantile([0.01,0.25,0.50,0.75, 0.99])"
      ],
      "execution_count": null,
      "outputs": [
        {
          "output_type": "execute_result",
          "data": {
            "text/plain": [
              "0.01     20.0\n",
              "0.25     42.0\n",
              "0.50     70.0\n",
              "0.75    108.0\n",
              "0.99    181.0\n",
              "Name: reviews_words_counts, dtype: float64"
            ]
          },
          "metadata": {
            "tags": []
          },
          "execution_count": 71
        }
      ]
    },
    {
      "cell_type": "markdown",
      "metadata": {
        "id": "2p7HTy99tFd-",
        "colab_type": "text"
      },
      "source": [
        "### Replacing urls with the keyword \\\"url\\\""
      ]
    },
    {
      "cell_type": "code",
      "metadata": {
        "id": "cBhnDEJOtEE7",
        "colab_type": "code",
        "colab": {}
      },
      "source": [
        "def replace_urls(line):\n",
        "    if 'www.' in line or 'http:' in line or 'https:' in line or '.com' in line:\n",
        "       line = re.sub(r\"([^ ]+(?<=\\.[a-z]{3}))\", \"url\", line)\n",
        "    return line"
      ],
      "execution_count": null,
      "outputs": []
    },
    {
      "cell_type": "code",
      "metadata": {
        "id": "lTkUWhHwu4HH",
        "colab_type": "code",
        "colab": {
          "base_uri": "https://localhost:8080/",
          "height": 34
        },
        "outputId": "0095c155-1075-4e44-c533-d6b718fdb953"
      },
      "source": [
        "test_line = 'asjhdgsajhdghttphttps://www.kaggle.com/anshulra'\n",
        "print(replace_urls(test_line))"
      ],
      "execution_count": null,
      "outputs": [
        {
          "output_type": "stream",
          "text": [
            "url/anshulra\n"
          ],
          "name": "stdout"
        }
      ]
    },
    {
      "cell_type": "markdown",
      "metadata": {
        "id": "Y5JjWJUGw0qo",
        "colab_type": "text"
      },
      "source": [
        "### Removing Html tags"
      ]
    },
    {
      "cell_type": "code",
      "metadata": {
        "id": "u4dY7Abcw37H",
        "colab_type": "code",
        "colab": {
          "base_uri": "https://localhost:8080/",
          "height": 34
        },
        "outputId": "f3007d2d-a0d4-4a28-d60b-ed929ff51f30"
      },
      "source": [
        "def strip_html_tags(text):\n",
        "    soup = BeautifulSoup(text, \"html.parser\")\n",
        "    stripped_text = soup.get_text()\n",
        "    return stripped_text\n",
        "\n",
        "print(strip_html_tags('<html><h2>Some important text</h2></html>'))"
      ],
      "execution_count": null,
      "outputs": [
        {
          "output_type": "stream",
          "text": [
            "Some important text\n"
          ],
          "name": "stdout"
        }
      ]
    },
    {
      "cell_type": "markdown",
      "metadata": {
        "id": "9SY0675LxTqY",
        "colab_type": "text"
      },
      "source": [
        "### Expanding Contractions"
      ]
    },
    {
      "cell_type": "code",
      "metadata": {
        "id": "uUpbgGV0B3Yq",
        "colab_type": "code",
        "colab": {
          "base_uri": "https://localhost:8080/",
          "height": 34
        },
        "outputId": "d6c1bcbd-064a-45d8-bbfa-7bd28a1c827f"
      },
      "source": [
        "def expand_contractions(text):\n",
        "    try:\n",
        "        return contractions.fix(text)\n",
        "    except:\n",
        "        print(text)\n",
        "        pass\n",
        "print(expand_contractions(\"Y'all can't expand contractions I'd think\"))"
      ],
      "execution_count": null,
      "outputs": [
        {
          "output_type": "stream",
          "text": [
            "you all can not expand contractions I would think\n"
          ],
          "name": "stdout"
        }
      ]
    },
    {
      "cell_type": "markdown",
      "metadata": {
        "id": "T_25q0wJxLSo",
        "colab_type": "text"
      },
      "source": [
        "### Remove Accented characters"
      ]
    },
    {
      "cell_type": "code",
      "metadata": {
        "id": "Ca14o9yL0zSu",
        "colab_type": "code",
        "colab": {
          "base_uri": "https://localhost:8080/",
          "height": 34
        },
        "outputId": "0201c35f-b1de-49ab-864c-0a5839f9cc70"
      },
      "source": [
        "def remove_accented_chars(text):\n",
        "    try:\n",
        "        text = unicodedata.normalize('NFKD', text).encode('ascii', 'ignore').decode('utf-8', 'ignore')\n",
        "        return text\n",
        "    except:\n",
        "        print(text)\n",
        "        pass\n",
        "\n",
        "print(remove_accented_chars('Sómě Áccěntěd těxt'))"
      ],
      "execution_count": null,
      "outputs": [
        {
          "output_type": "stream",
          "text": [
            "Some Accented text\n"
          ],
          "name": "stdout"
        }
      ]
    },
    {
      "cell_type": "markdown",
      "metadata": {
        "id": "QJjYVGOKxc9Z",
        "colab_type": "text"
      },
      "source": [
        "### Removing Special Characters"
      ]
    },
    {
      "cell_type": "code",
      "metadata": {
        "id": "ndhp_tG11FGJ",
        "colab_type": "code",
        "colab": {
          "base_uri": "https://localhost:8080/",
          "height": 35
        },
        "outputId": "3a3ddae7-2e9a-4d44-e9e8-6450bc542f9f"
      },
      "source": [
        "def remove_special_characters(text, remove_digits=False):\n",
        "    try:\n",
        "        pattern = r'[^a-zA-z0-9\\s\\.,?!]' if not remove_digits else r'[^a-zA-z\\s\\.,?!]'\n",
        "        text = re.sub(pattern, '', text)\n",
        "        return text\n",
        "    except:\n",
        "        print(text)\n",
        "        pass\n",
        "\n",
        "remove_special_characters(\"Well this was fun! What do you think? 123#@! ^_.,\", \n",
        "                          remove_digits=False)"
      ],
      "execution_count": null,
      "outputs": [
        {
          "output_type": "execute_result",
          "data": {
            "application/vnd.google.colaboratory.intrinsic+json": {
              "type": "string"
            },
            "text/plain": [
              "'Well this was fun! What do you think? 123! ^_.,'"
            ]
          },
          "metadata": {
            "tags": []
          },
          "execution_count": 24
        }
      ]
    },
    {
      "cell_type": "markdown",
      "metadata": {
        "id": "73LxpfjPxgEk",
        "colab_type": "text"
      },
      "source": [
        "### Stemming"
      ]
    },
    {
      "cell_type": "code",
      "metadata": {
        "id": "wOSLVaen1TiY",
        "colab_type": "code",
        "colab": {
          "base_uri": "https://localhost:8080/",
          "height": 35
        },
        "outputId": "9c08d0b1-1a70-459b-fa3b-c5fbe9d5e1ab"
      },
      "source": [
        "def simple_stemmer(text):\n",
        "    try:\n",
        "        ps = nltk.porter.PorterStemmer()\n",
        "        text = ' '.join([ps.stem(word) for word in text.split()])\n",
        "        return text\n",
        "    except:\n",
        "        print(text)\n",
        "        pass\n",
        "\n",
        "simple_stemmer(\"My system keeps crashing his crashed yesterday, ours crashes daily\")"
      ],
      "execution_count": null,
      "outputs": [
        {
          "output_type": "execute_result",
          "data": {
            "application/vnd.google.colaboratory.intrinsic+json": {
              "type": "string"
            },
            "text/plain": [
              "'My system keep crash hi crash yesterday, our crash daili'"
            ]
          },
          "metadata": {
            "tags": []
          },
          "execution_count": 25
        }
      ]
    },
    {
      "cell_type": "markdown",
      "metadata": {
        "id": "2qk055mgxj_z",
        "colab_type": "text"
      },
      "source": [
        "### Lemmatization"
      ]
    },
    {
      "cell_type": "code",
      "metadata": {
        "id": "LmnQHTVm7fkv",
        "colab_type": "code",
        "colab": {
          "base_uri": "https://localhost:8080/",
          "height": 35
        },
        "outputId": "fe74ee47-d186-4f19-f460-ebd5141cc140"
      },
      "source": [
        "wordnet_lemmatizer = WordNetLemmatizer()\n",
        "def lemmatize_text(text):\n",
        "    try:\n",
        "        text = ' '.join([wordnet_lemmatizer.lemmatize(word, pos=\"v\") for word in text.split()])\n",
        "        return text\n",
        "    except:\n",
        "        print(text)\n",
        "        pass\n",
        "lemmatize_text(\"My system keeps crashing ! his crashed yesterday, ours crashes daily\")"
      ],
      "execution_count": null,
      "outputs": [
        {
          "output_type": "execute_result",
          "data": {
            "application/vnd.google.colaboratory.intrinsic+json": {
              "type": "string"
            },
            "text/plain": [
              "'My system keep crash ! his crash yesterday, ours crash daily'"
            ]
          },
          "metadata": {
            "tags": []
          },
          "execution_count": 26
        }
      ]
    },
    {
      "cell_type": "markdown",
      "metadata": {
        "id": "V0zRzpqOw7e5",
        "colab_type": "text"
      },
      "source": [
        "### Remove Stopwords"
      ]
    },
    {
      "cell_type": "code",
      "metadata": {
        "id": "GZWmmtQOAAFz",
        "colab_type": "code",
        "colab": {
          "base_uri": "https://localhost:8080/",
          "height": 68
        },
        "outputId": "07fd8dc2-dce2-44cb-86fb-47223b81ca12"
      },
      "source": [
        "nltk.download('stopwords')"
      ],
      "execution_count": null,
      "outputs": [
        {
          "output_type": "stream",
          "text": [
            "[nltk_data] Downloading package stopwords to /root/nltk_data...\n",
            "[nltk_data]   Unzipping corpora/stopwords.zip.\n"
          ],
          "name": "stdout"
        },
        {
          "output_type": "execute_result",
          "data": {
            "text/plain": [
              "True"
            ]
          },
          "metadata": {
            "tags": []
          },
          "execution_count": 27
        }
      ]
    },
    {
      "cell_type": "code",
      "metadata": {
        "id": "FOOKQqJu_pLd",
        "colab_type": "code",
        "colab": {
          "base_uri": "https://localhost:8080/",
          "height": 54
        },
        "outputId": "38887ee5-a450-4446-c5bf-13b2c5aecddd"
      },
      "source": [
        "toktoktokenizer = ToktokTokenizer()\n",
        "stopword_list = nltk.corpus.stopwords.words('english')\n",
        "print(stopword_list)"
      ],
      "execution_count": null,
      "outputs": [
        {
          "output_type": "stream",
          "text": [
            "['i', 'me', 'my', 'myself', 'we', 'our', 'ours', 'ourselves', 'you', \"you're\", \"you've\", \"you'll\", \"you'd\", 'your', 'yours', 'yourself', 'yourselves', 'he', 'him', 'his', 'himself', 'she', \"she's\", 'her', 'hers', 'herself', 'it', \"it's\", 'its', 'itself', 'they', 'them', 'their', 'theirs', 'themselves', 'what', 'which', 'who', 'whom', 'this', 'that', \"that'll\", 'these', 'those', 'am', 'is', 'are', 'was', 'were', 'be', 'been', 'being', 'have', 'has', 'had', 'having', 'do', 'does', 'did', 'doing', 'a', 'an', 'the', 'and', 'but', 'if', 'or', 'because', 'as', 'until', 'while', 'of', 'at', 'by', 'for', 'with', 'about', 'against', 'between', 'into', 'through', 'during', 'before', 'after', 'above', 'below', 'to', 'from', 'up', 'down', 'in', 'out', 'on', 'off', 'over', 'under', 'again', 'further', 'then', 'once', 'here', 'there', 'when', 'where', 'why', 'how', 'all', 'any', 'both', 'each', 'few', 'more', 'most', 'other', 'some', 'such', 'no', 'nor', 'not', 'only', 'own', 'same', 'so', 'than', 'too', 'very', 's', 't', 'can', 'will', 'just', 'don', \"don't\", 'should', \"should've\", 'now', 'd', 'll', 'm', 'o', 're', 've', 'y', 'ain', 'aren', \"aren't\", 'couldn', \"couldn't\", 'didn', \"didn't\", 'doesn', \"doesn't\", 'hadn', \"hadn't\", 'hasn', \"hasn't\", 'haven', \"haven't\", 'isn', \"isn't\", 'ma', 'mightn', \"mightn't\", 'mustn', \"mustn't\", 'needn', \"needn't\", 'shan', \"shan't\", 'shouldn', \"shouldn't\", 'wasn', \"wasn't\", 'weren', \"weren't\", 'won', \"won't\", 'wouldn', \"wouldn't\"]\n"
          ],
          "name": "stdout"
        }
      ]
    },
    {
      "cell_type": "code",
      "metadata": {
        "id": "8ysZWEUDgO0V",
        "colab_type": "code",
        "colab": {}
      },
      "source": [
        "custom_stopword_list = ['b', 'c', 'd', 'e', 'f', 'g', 'h', 'j', 'k', 'l', 'm', 'n', 'o', 'p', 'q', 'r', 's', 't', 'u', 'v', 'w', 'y', \"you're\", \"you've\", \"you'll\", \"you'd\", \"she's\", \"it's\", 'its', \"that'll\", 'don', \"don't\", \"should've\", 'ain', 'aren', \"aren't\", 'couldn', \"couldn't\", 'didn', \"didn't\", 'doesn', \"doesn't\", 'hadn', \"hadn't\", 'hasn', \"hasn't\", 'haven', \"haven't\", 'isn', \"isn't\", 'ma', 'mightn', \"mightn't\", 'mustn', \"mustn't\", 'needn', \"needn't\", 'shan', \"shan't\", 'shouldn', \"shouldn't\", 'wasn', \"wasn't\", 'weren', \"weren't\", \"won't\", 'wouldn', \"wouldn't\"]"
      ],
      "execution_count": null,
      "outputs": []
    },
    {
      "cell_type": "code",
      "metadata": {
        "id": "SiRGcSQMxGVG",
        "colab_type": "code",
        "colab": {
          "base_uri": "https://localhost:8080/",
          "height": 35
        },
        "outputId": "4311b019-e440-4a36-afde-4bb72de7b114"
      },
      "source": [
        "def remove_stopwords(text):\n",
        "    try:\n",
        "        tokens = toktoktokenizer.tokenize(text)\n",
        "        tokens = [token.strip() for token in tokens]\n",
        "        filtered_tokens = [token for token in tokens if token not in custom_stopword_list]\n",
        "        filtered_text = ' '.join(filtered_tokens)    \n",
        "        return filtered_text\n",
        "    except:\n",
        "        print(text)\n",
        "        pass\n",
        "\n",
        "remove_stopwords(\"a, t, the, and, if are stopwords, computer is not\")"
      ],
      "execution_count": null,
      "outputs": [
        {
          "output_type": "execute_result",
          "data": {
            "application/vnd.google.colaboratory.intrinsic+json": {
              "type": "string"
            },
            "text/plain": [
              "'a , , the , and , if are stopwords , computer is not'"
            ]
          },
          "metadata": {
            "tags": []
          },
          "execution_count": 30
        }
      ]
    },
    {
      "cell_type": "markdown",
      "metadata": {
        "id": "5ig4BtE_D7K1",
        "colab_type": "text"
      },
      "source": [
        "### Pre-processing now selectively"
      ]
    },
    {
      "cell_type": "code",
      "metadata": {
        "id": "Sd_PPL8oD6YG",
        "colab_type": "code",
        "colab": {}
      },
      "source": [
        "def normalize_corpus(corpus, remove_labels=True, remove_url=True, html_stripping=True, contraction_expansion=True,\n",
        "                     accented_char_removal=True, special_char_removal=True, text_stemming=False,\n",
        "                     text_lemmatization=True, stopword_removal=True):\n",
        "    \n",
        "    normalized_corpus = []\n",
        "    # normalize each document in the corpus\n",
        "    for doc in corpus:\n",
        "        if remove_labels:\n",
        "            doc = remove_labels_and_lowercase(doc)\n",
        "\n",
        "        if remove_url:\n",
        "            doc = replace_urls(doc)\n",
        "\n",
        "        if html_stripping:\n",
        "            doc = strip_html_tags(doc)\n",
        "\n",
        "        if contraction_expansion:\n",
        "            doc = expand_contractions(doc)\n",
        "\n",
        "        if accented_char_removal:\n",
        "            doc = remove_accented_chars(doc)\n",
        "            \n",
        "        if special_char_removal:\n",
        "            doc = remove_special_characters(doc, remove_digits=False)      \n",
        "\n",
        "        # remove extra newlines\n",
        "        try:\n",
        "            doc = re.sub(r'[\\r|\\n|\\r\\n]+', ' ',doc)\n",
        "        except:\n",
        "            print(doc)\n",
        "\n",
        "        if text_stemming:\n",
        "            doc = simple_stemmer(doc)\n",
        "\n",
        "        if text_lemmatization:\n",
        "            doc = lemmatize_text(doc)\n",
        "\n",
        "        # remove extra whitespace\n",
        "        try:\n",
        "            doc = re.sub(' +', ' ', doc)\n",
        "        except:\n",
        "            print(doc)\n",
        "\n",
        "        if stopword_removal:\n",
        "            doc = remove_stopwords(doc)\n",
        "            \n",
        "        normalized_corpus.append(doc)\n",
        "        \n",
        "    return normalized_corpus"
      ],
      "execution_count": null,
      "outputs": []
    },
    {
      "cell_type": "code",
      "metadata": {
        "id": "KTmOYOv2G-jB",
        "colab_type": "code",
        "colab": {
          "base_uri": "https://localhost:8080/",
          "height": 54
        },
        "outputId": "77b25a8e-34ec-4c01-e7e7-b8efe20a4c66"
      },
      "source": [
        "new_lines = normalize_corpus(lines)\n",
        "print(new_lines)"
      ],
      "execution_count": null,
      "outputs": [
        {
          "output_type": "stream",
          "text": [
            "['stun even for the nongamer this sound track be beautiful ! it paint the senery in your mind so well i would recomend it even to people who hate vid. game music ! i have play the game chrono cross but out of all of the game i have ever play it have the best music ! it back away from crude keyboarding and take a fresher step with grate guitars and soulful orchestras. it would impress anyone who care to listen ! ^_^', 'the best soundtrack ever to anything. I be read a lot of review say that this be the best game soundtrack and i figure that I would write a review to disagree a bit. this in my opinino be yasunori mitsudas ultimate masterpiece. the music be timeless and I be be listen to it for years now and beauty simply refuse to fade.the price tag on this be pretty stagger i must say , but if you be go to buy any cd for this much money , this be the only one that i feel would be worth every penny .', 'amazing ! this soundtrack be my favorite music of all time , hand down. the intense sadness of prisoners of fate which mean all the more if you have play the game and the hope in a distant promise and girl who steal the star have be an important inspiration to me personally throughout my teen years. the higher energy track like chrono cross time scar , time of the dreamwatch , and chronomantique indefinably remeniscent of chrono trigger be all absolutely superb as well.this soundtrack be amaze music , probably the best of this composers work i have not hear the xenogears soundtrack , so i can not say for sure , and even if you have never play the game , it would be worth twice the price to buy it.i wish i could give it 6 stars .', 'excellent soundtrack i truly like this soundtrack and i enjoy video game music. i have play this game and most of the music on here i enjoy and it be truly relax and peaceful.on disk one. my favorites be scar of time , between life and death , forest of illusion , fortress of ancient dragons , lose fragment , and drown valley.disk two the draggons , galdorb home , chronomantique , prisoners of fate , gale , and my girlfriend like zelbessdisk three the best of the three. garden of god , chronopolis , fates , jellyfish sea , burn orphange , dragons prayer , tower of stars , dragon god , and radical dreamers unstealable jewel.overall , this be a excellent soundtrack and should be bring by those that like video game music.xander cross', 'remember , pull your jaw off the floor after hear it if you have play the game , you know how divine the music is ! every single song tell a story of the game , it be that good ! the greatest songs be without a doubt , chrono cross time scar , magical dreamers the wind , the stars , and the sea and radical dreamers unstolen jewel. translation vary this music be perfect if you ask me , the best it can be. yasunori mitsuda just pour his heart on and write it down on paper .']\n"
          ],
          "name": "stdout"
        }
      ]
    },
    {
      "cell_type": "code",
      "metadata": {
        "id": "unBhUgJ8T2Rn",
        "colab_type": "code",
        "colab": {
          "base_uri": "https://localhost:8080/",
          "height": 136
        },
        "outputId": "ef0e701f-ddc6-459f-8f93-ae7a3549fcc2"
      },
      "source": [
        "train_sentences = normalize_corpus(train_file_lines)\n",
        "test_sentences = normalize_corpus(test_file_lines)"
      ],
      "execution_count": null,
      "outputs": [
        {
          "output_type": "stream",
          "text": [
            "saparİŞİm gelmedİ: sparİŞİmİn neden gelmedİĞİnİ anlayamadim daha öncede sparİŞlerİm vardi ama bu sparİŞİm bana dönün lütfen bu sirunun aiklamasini beklİyorum sebebİ. bana hala ulaŞmadi\n",
            "\n",
            "None\n",
            "None\n",
            "None\n",
            "None\n",
            "None\n"
          ],
          "name": "stdout"
        }
      ]
    },
    {
      "cell_type": "code",
      "metadata": {
        "id": "DtmWU4NAHvIU",
        "colab_type": "code",
        "colab": {
          "base_uri": "https://localhost:8080/",
          "height": 105
        },
        "outputId": "91112c28-bd8f-43d5-8d50-28450d086ae7"
      },
      "source": [
        "print(len(train_sentences))\n",
        "print(train_sentences[:5])\n",
        "print(len(test_sentences))\n",
        "print(test_sentences[:5])"
      ],
      "execution_count": null,
      "outputs": [
        {
          "output_type": "stream",
          "text": [
            "3600000\n",
            "['stun even for the nongamer this sound track be beautiful ! it paint the senery in your mind so well i would recomend it even to people who hate vid. game music ! i have play the game chrono cross but out of all of the game i have ever play it have the best music ! it back away from crude keyboarding and take a fresher step with grate guitars and soulful orchestras. it would impress anyone who care to listen ! ^_^', 'the best soundtrack ever to anything. I be read a lot of review say that this be the best game soundtrack and i figure that I would write a review to disagree a bit. this in my opinino be yasunori mitsudas ultimate masterpiece. the music be timeless and I be be listen to it for years now and beauty simply refuse to fade.the price tag on this be pretty stagger i must say , but if you be go to buy any cd for this much money , this be the only one that i feel would be worth every penny .', 'amazing ! this soundtrack be my favorite music of all time , hand down. the intense sadness of prisoners of fate which mean all the more if you have play the game and the hope in a distant promise and girl who steal the star have be an important inspiration to me personally throughout my teen years. the higher energy track like chrono cross time scar , time of the dreamwatch , and chronomantique indefinably remeniscent of chrono trigger be all absolutely superb as well.this soundtrack be amaze music , probably the best of this composers work i have not hear the xenogears soundtrack , so i can not say for sure , and even if you have never play the game , it would be worth twice the price to buy it.i wish i could give it 6 stars .', 'excellent soundtrack i truly like this soundtrack and i enjoy video game music. i have play this game and most of the music on here i enjoy and it be truly relax and peaceful.on disk one. my favorites be scar of time , between life and death , forest of illusion , fortress of ancient dragons , lose fragment , and drown valley.disk two the draggons , galdorb home , chronomantique , prisoners of fate , gale , and my girlfriend like zelbessdisk three the best of the three. garden of god , chronopolis , fates , jellyfish sea , burn orphange , dragons prayer , tower of stars , dragon god , and radical dreamers unstealable jewel.overall , this be a excellent soundtrack and should be bring by those that like video game music.xander cross', 'remember , pull your jaw off the floor after hear it if you have play the game , you know how divine the music is ! every single song tell a story of the game , it be that good ! the greatest songs be without a doubt , chrono cross time scar , magical dreamers the wind , the stars , and the sea and radical dreamers unstolen jewel. translation vary this music be perfect if you ask me , the best it can be. yasunori mitsuda just pour his heart on and write it down on paper .']\n",
            "400000\n",
            "['great cd my lovely pat have one of the great voice of her generation. i have listen to this cd for years and i still love it. when I be in a good mood it make me feel better. a bad mood just evaporate like sugar in the rain. this cd just ooze life. vocals be jusat stuunning and lyric just kill. one of lifes hide gems. this be a desert isle cd in my book. why she never make it big be just beyond me. everytime i play this , no matter black , white , young , old , male , female everybody say one thing who be that sing ?', 'one of the best game music soundtracks for a game i do not really play despite the fact that i have only play a small portion of the game , the music i hear plus the connection to chrono trigger which be great as well lead me to purchase the soundtrack , and it remain one of my favorite albums. there be an incredible mix of fun , epic , and emotional songs. those sad and beautiful track i especially like , as there be not too many of those kinds of songs in my other video game soundtracks. i must admit that one of the songs lifea distant promise have bring tear to my eye on many occasions.my one complaint about this soundtrack be that they use guitar fret effect in many of the songs , which i find distracting. but even if those be not include i would still consider the collection worth it .', 'batteries die within a year ... i buy this charger in jul 2003 and it work ok for a while. the design be nice and convenient. however , after about a year , the batteries would not hold a charge. might as well just get alkaline disposables , or look elsewhere for a charger that come with batteries that have better stay power .', 'work fine , but maha energy be better check out maha energys website. their powerex mhc204f charger work in 100 minutes for rapid charge , with option for slower charge better for batteries. and they have 2200 mah batteries .', 'great for the nonaudiophile review quite a bite of the combo players and be hesitant due to unfavorable review and size of machines. i be wean off my vhs collection , but do not want to replace them with dvds. this unit be well built , easy to setup and resolution and special effect no progressive scan for hdtv owners suitable for many people look for a versatile product.cons no universal remote .']\n"
          ],
          "name": "stdout"
        }
      ]
    },
    {
      "cell_type": "code",
      "metadata": {
        "id": "bBa3zlbHjOME",
        "colab_type": "code",
        "colab": {}
      },
      "source": [
        "with gzip.open('/content/drive/My Drive/kaggle/amazon-reviews-sentiment-analysis/train_sentences_normalized_07262020.pkl.gz','wb') as train_pickle:\n",
        "    pickle.dump(train_sentences, train_pickle)\n",
        "with gzip.open('/content/drive/My Drive/kaggle/amazon-reviews-sentiment-analysis/test_sentences_normalized_07262020.pkl.gz','wb') as test_pickle:\n",
        "    pickle.dump(test_sentences, test_pickle)"
      ],
      "execution_count": null,
      "outputs": []
    },
    {
      "cell_type": "code",
      "metadata": {
        "id": "aQTB7X6FzFIg",
        "colab_type": "code",
        "colab": {
          "base_uri": "https://localhost:8080/",
          "height": 105
        },
        "outputId": "6f8afa52-374e-4363-940e-e30d12ba1778"
      },
      "source": [
        "with gzip.open('/content/drive/My Drive/kaggle/amazon-reviews-sentiment-analysis/train_sentences_normalized_07262020.pkl.gz','rb') as train_pickle:\n",
        "    train_sentences_normalized = pickle.load(train_pickle)\n",
        "with gzip.open('/content/drive/My Drive/kaggle/amazon-reviews-sentiment-analysis/test_sentences_normalized_07262020.pkl.gz','rb') as test_pickle:\n",
        "    test_sentences_normalized = pickle.load(test_pickle)\n",
        "print(len(train_sentences_normalized))\n",
        "print(train_sentences_normalized[:5])\n",
        "print(len(test_sentences_normalized))\n",
        "print(test_sentences_normalized[:5])"
      ],
      "execution_count": null,
      "outputs": [
        {
          "output_type": "stream",
          "text": [
            "3600000\n",
            "['stun even for the nongamer this sound track be beautiful ! it paint the senery in your mind so well i would recomend it even to people who hate vid. game music ! i have play the game chrono cross but out of all of the game i have ever play it have the best music ! it back away from crude keyboarding and take a fresher step with grate guitars and soulful orchestras. it would impress anyone who care to listen ! ^_^', 'the best soundtrack ever to anything. I be read a lot of review say that this be the best game soundtrack and i figure that I would write a review to disagree a bit. this in my opinino be yasunori mitsudas ultimate masterpiece. the music be timeless and I be be listen to it for years now and beauty simply refuse to fade.the price tag on this be pretty stagger i must say , but if you be go to buy any cd for this much money , this be the only one that i feel would be worth every penny .', 'amazing ! this soundtrack be my favorite music of all time , hand down. the intense sadness of prisoners of fate which mean all the more if you have play the game and the hope in a distant promise and girl who steal the star have be an important inspiration to me personally throughout my teen years. the higher energy track like chrono cross time scar , time of the dreamwatch , and chronomantique indefinably remeniscent of chrono trigger be all absolutely superb as well.this soundtrack be amaze music , probably the best of this composers work i have not hear the xenogears soundtrack , so i can not say for sure , and even if you have never play the game , it would be worth twice the price to buy it.i wish i could give it 6 stars .', 'excellent soundtrack i truly like this soundtrack and i enjoy video game music. i have play this game and most of the music on here i enjoy and it be truly relax and peaceful.on disk one. my favorites be scar of time , between life and death , forest of illusion , fortress of ancient dragons , lose fragment , and drown valley.disk two the draggons , galdorb home , chronomantique , prisoners of fate , gale , and my girlfriend like zelbessdisk three the best of the three. garden of god , chronopolis , fates , jellyfish sea , burn orphange , dragons prayer , tower of stars , dragon god , and radical dreamers unstealable jewel.overall , this be a excellent soundtrack and should be bring by those that like video game music.xander cross', 'remember , pull your jaw off the floor after hear it if you have play the game , you know how divine the music is ! every single song tell a story of the game , it be that good ! the greatest songs be without a doubt , chrono cross time scar , magical dreamers the wind , the stars , and the sea and radical dreamers unstolen jewel. translation vary this music be perfect if you ask me , the best it can be. yasunori mitsuda just pour his heart on and write it down on paper .']\n",
            "400000\n",
            "['great cd my lovely pat have one of the great voice of her generation. i have listen to this cd for years and i still love it. when I be in a good mood it make me feel better. a bad mood just evaporate like sugar in the rain. this cd just ooze life. vocals be jusat stuunning and lyric just kill. one of lifes hide gems. this be a desert isle cd in my book. why she never make it big be just beyond me. everytime i play this , no matter black , white , young , old , male , female everybody say one thing who be that sing ?', 'one of the best game music soundtracks for a game i do not really play despite the fact that i have only play a small portion of the game , the music i hear plus the connection to chrono trigger which be great as well lead me to purchase the soundtrack , and it remain one of my favorite albums. there be an incredible mix of fun , epic , and emotional songs. those sad and beautiful track i especially like , as there be not too many of those kinds of songs in my other video game soundtracks. i must admit that one of the songs lifea distant promise have bring tear to my eye on many occasions.my one complaint about this soundtrack be that they use guitar fret effect in many of the songs , which i find distracting. but even if those be not include i would still consider the collection worth it .', 'batteries die within a year ... i buy this charger in jul 2003 and it work ok for a while. the design be nice and convenient. however , after about a year , the batteries would not hold a charge. might as well just get alkaline disposables , or look elsewhere for a charger that come with batteries that have better stay power .', 'work fine , but maha energy be better check out maha energys website. their powerex mhc204f charger work in 100 minutes for rapid charge , with option for slower charge better for batteries. and they have 2200 mah batteries .', 'great for the nonaudiophile review quite a bite of the combo players and be hesitant due to unfavorable review and size of machines. i be wean off my vhs collection , but do not want to replace them with dvds. this unit be well built , easy to setup and resolution and special effect no progressive scan for hdtv owners suitable for many people look for a versatile product.cons no universal remote .']\n"
          ],
          "name": "stdout"
        }
      ]
    },
    {
      "cell_type": "code",
      "metadata": {
        "id": "rERXR9TdIJks",
        "colab_type": "code",
        "colab": {}
      },
      "source": [
        "vocab_size = 40000\n",
        "embedding_dim = 100\n",
        "max_length = 210\n",
        "trunc_type = 'post'\n",
        "oov_tok=\"<oov>\""
      ],
      "execution_count": null,
      "outputs": []
    },
    {
      "cell_type": "code",
      "metadata": {
        "id": "0dC-2Oui8I8r",
        "colab_type": "code",
        "colab": {}
      },
      "source": [
        "tokenizer = text.Tokenizer(num_words=vocab_size, oov_token=oov_tok)\n",
        "tokenizer.fit_on_texts(train_sentences_normalized)\n",
        "word_index = tokenizer.word_index"
      ],
      "execution_count": null,
      "outputs": []
    },
    {
      "cell_type": "code",
      "metadata": {
        "id": "WNi6knQ7ZA_c",
        "colab_type": "code",
        "colab": {}
      },
      "source": [
        "sequences = tokenizer.texts_to_sequences(train_sentences_normalized)\n",
        "training_padded = sequence.pad_sequences(sequences, maxlen=max_length, truncating=trunc_type)"
      ],
      "execution_count": null,
      "outputs": []
    },
    {
      "cell_type": "code",
      "metadata": {
        "id": "L7fE2wuJ8Jl_",
        "colab_type": "code",
        "colab": {
          "base_uri": "https://localhost:8080/",
          "height": 425
        },
        "outputId": "a77b607c-bacb-476e-97bc-7c6ee408eae8"
      },
      "source": [
        "training_padded[0]"
      ],
      "execution_count": null,
      "outputs": [
        {
          "output_type": "execute_result",
          "data": {
            "text/plain": [
              "array([    0,     0,     0,     0,     0,     0,     0,     0,     0,\n",
              "           0,     0,     0,     0,     0,     0,     0,     0,     0,\n",
              "           0,     0,     0,     0,     0,     0,     0,     0,     0,\n",
              "           0,     0,     0,     0,     0,     0,     0,     0,     0,\n",
              "           0,     0,     0,     0,     0,     0,     0,     0,     0,\n",
              "           0,     0,     0,     0,     0,     0,     0,     0,     0,\n",
              "           0,     0,     0,     0,     0,     0,     0,     0,     0,\n",
              "           0,     0,     0,     0,     0,     0,     0,     0,     0,\n",
              "           0,     0,     0,     0,     0,     0,     0,     0,     0,\n",
              "           0,     0,     0,     0,     0,     0,     0,     0,     0,\n",
              "           0,     0,     0,     0,     0,     0,     0,     0,     0,\n",
              "           0,     0,     0,     0,     0,     0,     0,     0,     0,\n",
              "           0,     0,     0,     0,     0,     0,     0,     0,     0,\n",
              "           0,     0,     0,     0,     0,     0,     0,     0,     0,\n",
              "           0,     0,     0,     0,     0,  2415,    74,    14,     2,\n",
              "           1,    10,   128,   273,     3,   344,     8,  1015,     2,\n",
              "           1,    13,    61,   401,    26,    71,     4,    33,  1645,\n",
              "           8,    74,     7,   127,    73,   653, 15649,   129,   117,\n",
              "           4,    12,   131,     2,   129, 19216,  1540,    19,    46,\n",
              "           9,    27,     9,     2,   129,     4,    12,   130,   131,\n",
              "           8,    12,     2,    91,   117,     8,   110,   228,    38,\n",
              "        4450,     1,     5,    93,     6, 15014,   689,    20,  4471,\n",
              "        2637,     5,  3807, 15102,     8,    33,   928,   199,    73,\n",
              "         435,     7,   193], dtype=int32)"
            ]
          },
          "metadata": {
            "tags": []
          },
          "execution_count": 21
        }
      ]
    },
    {
      "cell_type": "code",
      "metadata": {
        "id": "D1lpbeHf8Jq4",
        "colab_type": "code",
        "colab": {
          "base_uri": "https://localhost:8080/",
          "height": 425
        },
        "outputId": "59d57735-1aac-4d90-bf90-2be608c4b84a"
      },
      "source": [
        "tokenized_test = tokenizer.texts_to_sequences(test_sentences_normalized)\n",
        "testing_padded = sequence.pad_sequences(tokenized_test, maxlen=max_length)\n",
        "testing_padded[0]"
      ],
      "execution_count": null,
      "outputs": [
        {
          "output_type": "execute_result",
          "data": {
            "text/plain": [
              "array([    0,     0,     0,     0,     0,     0,     0,     0,     0,\n",
              "           0,     0,     0,     0,     0,     0,     0,     0,     0,\n",
              "           0,     0,     0,     0,     0,     0,     0,     0,     0,\n",
              "           0,     0,     0,     0,     0,     0,     0,     0,     0,\n",
              "           0,     0,     0,     0,     0,     0,     0,     0,     0,\n",
              "           0,     0,     0,     0,     0,     0,     0,     0,     0,\n",
              "           0,     0,     0,     0,     0,     0,     0,     0,     0,\n",
              "           0,     0,     0,     0,     0,     0,     0,     0,     0,\n",
              "           0,     0,     0,     0,     0,     0,     0,     0,     0,\n",
              "           0,     0,     0,     0,     0,     0,     0,     0,     0,\n",
              "           0,     0,     0,     0,     0,     0,     0,     0,     0,\n",
              "           0,     0,     0,     0,     0,    30,   101,    22,  1386,\n",
              "        3678,    12,    24,     9,     2,    30,   349,     9,    81,\n",
              "        1776,     4,    12,   193,     7,    10,   101,    14,   132,\n",
              "           5,     4,   122,    57,     8,    54,     4,     3,    13,\n",
              "           6,    34,  1859,     8,    47,    49,   162,    96,     6,\n",
              "         124,  1859,    37, 15382,    28,  2129,    13,     2,  1850,\n",
              "          10,   101,    37, 10555,   155,   973,     3,     1,     1,\n",
              "           5,   775,    37,   693,    24,     9,  4819,  1355,  3698,\n",
              "          10,     3,     6,  3075, 10622,   101,    13,    22,    18,\n",
              "         178,    88,   120,    47,     8,   212,     3,    37,   817,\n",
              "          49,  2348,     4,   131,    10,    55,   539,   416,   546,\n",
              "         452,   135,  1670,  1281,  1970,    95,    24,   159,    73,\n",
              "           3,    15,   459], dtype=int32)"
            ]
          },
          "metadata": {
            "tags": []
          },
          "execution_count": 22
        }
      ]
    },
    {
      "cell_type": "code",
      "metadata": {
        "id": "ZbT4IZg08Jxi",
        "colab_type": "code",
        "colab": {}
      },
      "source": [
        "reverse_word_index = dict([(value,key) for (key,value) in word_index.items()])"
      ],
      "execution_count": null,
      "outputs": []
    },
    {
      "cell_type": "code",
      "metadata": {
        "id": "mhR_7Ls_E77i",
        "colab_type": "code",
        "colab": {}
      },
      "source": [
        "from sklearn.model_selection import train_test_split\n",
        "X_train, X_test, y_train, y_test = train_test_split(training_padded, train_labels, test_size=0.20, shuffle = True)"
      ],
      "execution_count": null,
      "outputs": []
    },
    {
      "cell_type": "code",
      "metadata": {
        "id": "vUcoTZbmGKnV",
        "colab_type": "code",
        "colab": {}
      },
      "source": [
        "X_train = np.array(X_train)\n",
        "X_test = np.array(X_test)\n",
        "y_train = np.array(y_train)\n",
        "y_test = np.array(y_test)"
      ],
      "execution_count": null,
      "outputs": []
    },
    {
      "cell_type": "code",
      "metadata": {
        "id": "a5iBcAot8Jjw",
        "colab_type": "code",
        "colab": {}
      },
      "source": [
        "batch_size = 1024\n",
        "epochs = 20\n",
        "l2_factor = 0.0001\n",
        "learning_rate = 0.001"
      ],
      "execution_count": null,
      "outputs": []
    },
    {
      "cell_type": "code",
      "metadata": {
        "id": "kzb4WRq4O6CR",
        "colab_type": "code",
        "colab": {
          "base_uri": "https://localhost:8080/",
          "height": 425
        },
        "outputId": "b9db2add-dc56-4296-8fdd-1c776ced77a3"
      },
      "source": [
        "model = tf.keras.Sequential([\n",
        "                             tf.keras.layers.Embedding(vocab_size, embedding_dim, input_length=max_length),\n",
        "                             tf.keras.layers.Bidirectional(tf.keras.layers.LSTM(128, kernel_regularizer=l2(l2_factor), bias_regularizer=l2(l2_factor), kernel_constraint=MaxNorm(10), bias_constraint=MaxNorm(10), return_sequences=True)),\n",
        "                             tf.keras.layers.Dropout(0.5),\n",
        "                             tf.keras.layers.Bidirectional(tf.keras.layers.LSTM(128, kernel_regularizer=l2(l2_factor), bias_regularizer=l2(l2_factor), kernel_constraint=MaxNorm(10), bias_constraint=MaxNorm(10))),\n",
        "                             tf.keras.layers.Dropout(0.5),\n",
        "                             tf.keras.layers.Dense(64, activation='relu'),\n",
        "                             tf.keras.layers.Dropout(0.3),\n",
        "                             tf.keras.layers.Dense(1, activation='sigmoid')\n",
        "])\n",
        "optimizer = tf.keras.optimizers.Adam(lr=0.001)\n",
        "model.compile(loss = 'binary_crossentropy', optimizer=optimizer, metrics=['acc'])\n",
        "model.summary()"
      ],
      "execution_count": null,
      "outputs": [
        {
          "output_type": "stream",
          "text": [
            "Model: \"sequential\"\n",
            "_________________________________________________________________\n",
            "Layer (type)                 Output Shape              Param #   \n",
            "=================================================================\n",
            "embedding (Embedding)        (None, 210, 100)          4000000   \n",
            "_________________________________________________________________\n",
            "bidirectional (Bidirectional (None, 210, 256)          234496    \n",
            "_________________________________________________________________\n",
            "dropout (Dropout)            (None, 210, 256)          0         \n",
            "_________________________________________________________________\n",
            "bidirectional_1 (Bidirection (None, 256)               394240    \n",
            "_________________________________________________________________\n",
            "dropout_1 (Dropout)          (None, 256)               0         \n",
            "_________________________________________________________________\n",
            "dense (Dense)                (None, 64)                16448     \n",
            "_________________________________________________________________\n",
            "dropout_2 (Dropout)          (None, 64)                0         \n",
            "_________________________________________________________________\n",
            "dense_1 (Dense)              (None, 1)                 65        \n",
            "=================================================================\n",
            "Total params: 4,645,249\n",
            "Trainable params: 4,645,249\n",
            "Non-trainable params: 0\n",
            "_________________________________________________________________\n"
          ],
          "name": "stdout"
        }
      ]
    },
    {
      "cell_type": "code",
      "metadata": {
        "id": "qYWkLPB7BlRX",
        "colab_type": "code",
        "colab": {}
      },
      "source": [
        "weight_path=\"/content/drive/My Drive/kaggle/amazon-reviews-sentiment-analysis/early_weights_07262020_1.hdf5\"\n",
        "checkpoint = ModelCheckpoint(weight_path, monitor='val_loss', verbose=1, save_best_only=True, mode='min')\n",
        "early_stopping = EarlyStopping(monitor=\"val_loss\", mode=\"min\", patience=20)\n",
        "callbacks = [checkpoint, early_stopping]"
      ],
      "execution_count": null,
      "outputs": []
    },
    {
      "cell_type": "code",
      "metadata": {
        "id": "JkUQg1SsBlN4",
        "colab_type": "code",
        "colab": {
          "base_uri": "https://localhost:8080/",
          "height": 1000
        },
        "outputId": "0eec1556-9f50-4ba5-ee28-a224a4e1790b"
      },
      "source": [
        "model.fit(X_train, y_train, batch_size=batch_size, epochs=epochs, validation_data=(X_test, y_test), callbacks=callbacks, workers=4)"
      ],
      "execution_count": null,
      "outputs": [
        {
          "output_type": "stream",
          "text": [
            "Epoch 1/20\n",
            "2813/2813 [==============================] - ETA: 0s - loss: 0.2292 - acc: 0.9221\n",
            "Epoch 00001: val_loss improved from inf to 0.16611, saving model to /content/drive/My Drive/kaggle/amazon-reviews-sentiment-analysis/early_weights_07262020_1.hdf5\n",
            "2813/2813 [==============================] - 958s 341ms/step - loss: 0.2292 - acc: 0.9221 - val_loss: 0.1661 - val_acc: 0.9432\n",
            "Epoch 2/20\n",
            "2813/2813 [==============================] - ETA: 0s - loss: 0.1527 - acc: 0.9482\n",
            "Epoch 00002: val_loss improved from 0.16611 to 0.14944, saving model to /content/drive/My Drive/kaggle/amazon-reviews-sentiment-analysis/early_weights_07262020_1.hdf5\n",
            "2813/2813 [==============================] - 955s 339ms/step - loss: 0.1527 - acc: 0.9482 - val_loss: 0.1494 - val_acc: 0.9467\n",
            "Epoch 3/20\n",
            "2813/2813 [==============================] - ETA: 0s - loss: 0.1358 - acc: 0.9537\n",
            "Epoch 00003: val_loss improved from 0.14944 to 0.14379, saving model to /content/drive/My Drive/kaggle/amazon-reviews-sentiment-analysis/early_weights_07262020_1.hdf5\n",
            "2813/2813 [==============================] - 957s 340ms/step - loss: 0.1358 - acc: 0.9537 - val_loss: 0.1438 - val_acc: 0.9483\n",
            "Epoch 4/20\n",
            "2813/2813 [==============================] - ETA: 0s - loss: 0.1218 - acc: 0.9588\n",
            "Epoch 00004: val_loss did not improve from 0.14379\n",
            "2813/2813 [==============================] - 957s 340ms/step - loss: 0.1218 - acc: 0.9588 - val_loss: 0.1455 - val_acc: 0.9478\n",
            "Epoch 5/20\n",
            "2813/2813 [==============================] - ETA: 0s - loss: 0.1120 - acc: 0.9626\n",
            "Epoch 00005: val_loss did not improve from 0.14379\n",
            "2813/2813 [==============================] - 956s 340ms/step - loss: 0.1120 - acc: 0.9626 - val_loss: 0.1580 - val_acc: 0.9486\n",
            "Epoch 6/20\n",
            "2813/2813 [==============================] - ETA: 0s - loss: 0.1035 - acc: 0.9660\n",
            "Epoch 00006: val_loss did not improve from 0.14379\n",
            "2813/2813 [==============================] - 959s 341ms/step - loss: 0.1035 - acc: 0.9660 - val_loss: 0.1602 - val_acc: 0.9457\n",
            "Epoch 7/20\n",
            "2813/2813 [==============================] - ETA: 0s - loss: 0.0951 - acc: 0.9694\n",
            "Epoch 00007: val_loss did not improve from 0.14379\n",
            "2813/2813 [==============================] - 958s 341ms/step - loss: 0.0951 - acc: 0.9694 - val_loss: 0.1719 - val_acc: 0.9463\n",
            "Epoch 8/20\n",
            "2813/2813 [==============================] - ETA: 0s - loss: 0.1286 - acc: 0.9590\n",
            "Epoch 00008: val_loss did not improve from 0.14379\n",
            "2813/2813 [==============================] - 959s 341ms/step - loss: 0.1286 - acc: 0.9590 - val_loss: 0.1744 - val_acc: 0.9460\n",
            "Epoch 9/20\n",
            "2813/2813 [==============================] - ETA: 0s - loss: 0.0939 - acc: 0.9715\n",
            "Epoch 00009: val_loss did not improve from 0.14379\n",
            "2813/2813 [==============================] - 958s 341ms/step - loss: 0.0939 - acc: 0.9715 - val_loss: 0.1824 - val_acc: 0.9456\n",
            "Epoch 10/20\n",
            "2813/2813 [==============================] - ETA: 0s - loss: 0.0852 - acc: 0.9743\n",
            "Epoch 00010: val_loss did not improve from 0.14379\n",
            "2813/2813 [==============================] - 959s 341ms/step - loss: 0.0852 - acc: 0.9743 - val_loss: 0.1822 - val_acc: 0.9449\n",
            "Epoch 11/20\n",
            "2813/2813 [==============================] - ETA: 0s - loss: 0.0786 - acc: 0.9762\n",
            "Epoch 00011: val_loss did not improve from 0.14379\n",
            "2813/2813 [==============================] - 956s 340ms/step - loss: 0.0786 - acc: 0.9762 - val_loss: 0.1810 - val_acc: 0.9430\n",
            "Epoch 12/20\n",
            "2813/2813 [==============================] - ETA: 0s - loss: 0.0732 - acc: 0.9780\n",
            "Epoch 00012: val_loss did not improve from 0.14379\n",
            "2813/2813 [==============================] - 959s 341ms/step - loss: 0.0732 - acc: 0.9780 - val_loss: 0.2127 - val_acc: 0.9428\n",
            "Epoch 13/20\n",
            "2813/2813 [==============================] - ETA: 0s - loss: 0.0691 - acc: 0.9793\n",
            "Epoch 00013: val_loss did not improve from 0.14379\n",
            "2813/2813 [==============================] - 960s 341ms/step - loss: 0.0691 - acc: 0.9793 - val_loss: 0.2028 - val_acc: 0.9423\n",
            "Epoch 14/20\n",
            "2813/2813 [==============================] - ETA: 0s - loss: 0.0654 - acc: 0.9809\n",
            "Epoch 00014: val_loss did not improve from 0.14379\n",
            "2813/2813 [==============================] - 958s 341ms/step - loss: 0.0654 - acc: 0.9809 - val_loss: 0.2327 - val_acc: 0.9407\n",
            "Epoch 15/20\n",
            "2813/2813 [==============================] - ETA: 0s - loss: 0.0617 - acc: 0.9820\n",
            "Epoch 00015: val_loss did not improve from 0.14379\n",
            "2813/2813 [==============================] - 959s 341ms/step - loss: 0.0617 - acc: 0.9820 - val_loss: 0.2267 - val_acc: 0.9398\n",
            "Epoch 16/20\n",
            "2813/2813 [==============================] - ETA: 0s - loss: 0.0593 - acc: 0.9829\n",
            "Epoch 00016: val_loss did not improve from 0.14379\n",
            "2813/2813 [==============================] - 958s 341ms/step - loss: 0.0593 - acc: 0.9829 - val_loss: 0.2412 - val_acc: 0.9407\n",
            "Epoch 17/20\n",
            "2813/2813 [==============================] - ETA: 0s - loss: 0.0563 - acc: 0.9839\n",
            "Epoch 00017: val_loss did not improve from 0.14379\n",
            "2813/2813 [==============================] - 957s 340ms/step - loss: 0.0563 - acc: 0.9839 - val_loss: 0.2321 - val_acc: 0.9402\n",
            "Epoch 18/20\n",
            "2813/2813 [==============================] - ETA: 0s - loss: 0.0551 - acc: 0.9843\n",
            "Epoch 00018: val_loss did not improve from 0.14379\n",
            "2813/2813 [==============================] - 958s 340ms/step - loss: 0.0551 - acc: 0.9843 - val_loss: 0.2215 - val_acc: 0.9396\n",
            "Epoch 19/20\n",
            "2813/2813 [==============================] - ETA: 0s - loss: 0.3153 - acc: 0.8975\n",
            "Epoch 00019: val_loss did not improve from 0.14379\n",
            "2813/2813 [==============================] - 959s 341ms/step - loss: 0.3153 - acc: 0.8975 - val_loss: 0.2863 - val_acc: 0.9274\n",
            "Epoch 20/20\n",
            "2813/2813 [==============================] - ETA: 0s - loss: 0.2274 - acc: 0.9414\n",
            "Epoch 00020: val_loss did not improve from 0.14379\n",
            "2813/2813 [==============================] - 959s 341ms/step - loss: 0.2274 - acc: 0.9414 - val_loss: 0.2106 - val_acc: 0.9415\n"
          ],
          "name": "stdout"
        },
        {
          "output_type": "execute_result",
          "data": {
            "text/plain": [
              "<tensorflow.python.keras.callbacks.History at 0x7f840a427898>"
            ]
          },
          "metadata": {
            "tags": []
          },
          "execution_count": 29
        }
      ]
    },
    {
      "cell_type": "markdown",
      "metadata": {
        "id": "6d-kgYKAcMK4",
        "colab_type": "text"
      },
      "source": [
        "Epoch 1/20\n",
        "2813/2813 [==============================] - ETA: 0s - loss: 0.2183 - acc: 0.9238\n",
        "Epoch 00001: val_loss improved from inf to 0.16781, saving model to /content/drive/My Drive/kaggle/amazon-reviews-sentiment-analysis/early_weights_07262020_1.hdf5\n",
        "2813/2813 [==============================] - 575s 204ms/step - loss: 0.2183 - acc: 0.9238 - val_loss: 0.1678 - val_acc: 0.9420\n",
        "Epoch 2/20\n",
        "2813/2813 [==============================] - ETA: 0s - loss: 0.1528 - acc: 0.9476\n",
        "Epoch 00002: val_loss improved from 0.16781 to 0.14972, saving model to /content/drive/My Drive/kaggle/amazon-reviews-sentiment-analysis/early_weights_07262020_1.hdf5\n",
        "2813/2813 [==============================] - 575s 204ms/step - loss: 0.1528 - acc: 0.9476 - val_loss: 0.1497 - val_acc: 0.9472\n",
        "Epoch 3/20\n",
        "2813/2813 [==============================] - ETA: 0s - loss: 0.1351 - acc: 0.9540\n",
        "Epoch 00003: val_loss improved from 0.14972 to 0.14776, saving model to /content/drive/My Drive/kaggle/amazon-reviews-sentiment-analysis/early_weights_07262020_1.hdf5\n",
        "2813/2813 [==============================] - 571s 203ms/step - loss: 0.1351 - acc: 0.9540 - val_loss: 0.1478 - val_acc: 0.9468\n",
        "Epoch 4/20\n",
        "2813/2813 [==============================] - ETA: 0s - loss: 0.1225 - acc: 0.9590\n",
        "Epoch 00004: val_loss did not improve from 0.14776\n",
        "2813/2813 [==============================] - 567s 201ms/step - loss: 0.1225 - acc: 0.9590 - val_loss: 0.1494 - val_acc: 0.9474\n",
        "Epoch 5/20\n",
        "2813/2813 [==============================] - ETA: 0s - loss: 0.1116 - acc: 0.9633\n",
        "Epoch 00005: val_loss did not improve from 0.14776\n",
        "2813/2813 [==============================] - 566s 201ms/step - loss: 0.1116 - acc: 0.9633 - val_loss: 0.1548 - val_acc: 0.9456\n",
        "Epoch 6/20\n",
        "2813/2813 [==============================] - ETA: 0s - loss: 0.1031 - acc: 0.9669\n",
        "Epoch 00006: val_loss did not improve from 0.14776\n",
        "2813/2813 [==============================] - 565s 201ms/step - loss: 0.1031 - acc: 0.9669 - val_loss: 0.1582 - val_acc: 0.9457\n",
        "Epoch 7/20\n",
        "2813/2813 [==============================] - ETA: 0s - loss: 0.0952 - acc: 0.9699\n",
        "Epoch 00007: val_loss did not improve from 0.14776\n",
        "2813/2813 [==============================] - 564s 201ms/step - loss: 0.0952 - acc: 0.9699 - val_loss: 0.1689 - val_acc: 0.9457\n",
        "Epoch 8/20\n",
        "2813/2813 [==============================] - ETA: 0s - loss: 0.0882 - acc: 0.9726\n",
        "Epoch 00008: val_loss did not improve from 0.14776\n",
        "2813/2813 [==============================] - 564s 201ms/step - loss: 0.0882 - acc: 0.9726 - val_loss: 0.1796 - val_acc: 0.9440\n",
        "<tensorflow.python.keras.callbacks.History at 0x7ff220698a20>"
      ]
    },
    {
      "cell_type": "markdown",
      "metadata": {
        "id": "85R8WF3xDfwP",
        "colab_type": "text"
      },
      "source": [
        "Epoch 1/10\n",
        "1407/1407 [==============================] - ETA: 0s - loss: 0.2512 - acc: 0.9098\n",
        "Epoch 00001: val_loss improved from inf to 0.18984, saving model to /content/drive/My Drive/kaggle/amazon-reviews-sentiment-analysis/early_weights_07232020_1.hdf5\n",
        "1407/1407 [==============================] - 909s 646ms/step - loss: 0.2512 - acc: 0.9098 - val_loss: 0.1898 - val_acc: 0.9294\n",
        "Epoch 2/10\n",
        "1407/1407 [==============================] - ETA: 0s - loss: 0.1781 - acc: 0.9355\n",
        "Epoch 00002: val_loss improved from 0.18984 to 0.17766, saving model to /content/drive/My Drive/kaggle/amazon-reviews-sentiment-analysis/early_weights_07232020_1.hdf5\n",
        "1407/1407 [==============================] - 909s 646ms/step - loss: 0.1781 - acc: 0.9355 - val_loss: 0.1777 - val_acc: 0.9329\n",
        "Epoch 3/10\n",
        " 150/1407 [==>...........................] - ETA: 12:23 - loss: 0.1605 - acc: 0.9423"
      ]
    },
    {
      "cell_type": "markdown",
      "metadata": {
        "id": "FLMCBtytTkdv",
        "colab_type": "text"
      },
      "source": [
        "**RUN 2**\n",
        "Epoch 1/10\n",
        "1407/1407 [==============================] - ETA: 0s - loss: 0.2841 - acc: 0.8771\n",
        "Epoch 00001: val_loss improved from inf to 0.22664, saving model to early_weights.hdf5\n",
        "1407/1407 [==============================] - 250s 178ms/step - loss: 0.2841 - acc: 0.8771 - val_loss: 0.2266 - val_acc: 0.9107\n",
        "Epoch 2/10\n",
        "1407/1407 [==============================] - ETA: 0s - loss: 0.2206 - acc: 0.9143\n",
        "Epoch 00002: val_loss improved from 0.22664 to 0.21347, saving model to early_weights.hdf5\n",
        "1407/1407 [==============================] - 250s 177ms/step - loss: 0.2206 - acc: 0.9143 - val_loss: 0.2135 - val_acc: 0.9161\n",
        "Epoch 3/10\n",
        "1407/1407 [==============================] - ETA: 0s - loss: 0.2078 - acc: 0.9195\n",
        "Epoch 00003: val_loss improved from 0.21347 to 0.20356, saving model to early_weights.hdf5\n",
        "1407/1407 [==============================] - 250s 178ms/step - loss: 0.2078 - acc: 0.9195 - val_loss: 0.2036 - val_acc: 0.9197\n",
        "Epoch 4/10\n",
        "1407/1407 [==============================] - ETA: 0s - loss: 0.1965 - acc: 0.9244\n",
        "Epoch 00004: val_loss improved from 0.20356 to 0.19252, saving model to early_weights.hdf5\n",
        "1407/1407 [==============================] - 252s 179ms/step - loss: 0.1965 - acc: 0.9244 - val_loss: 0.1925 - val_acc: 0.9250\n",
        "Epoch 5/10\n",
        "1407/1407 [==============================] - ETA: 0s - loss: 0.1840 - acc: 0.9299\n",
        "Epoch 00005: val_loss improved from 0.19252 to 0.18486, saving model to early_weights.hdf5\n",
        "1407/1407 [==============================] - 253s 179ms/step - loss: 0.1840 - acc: 0.9299 - val_loss: 0.1849 - val_acc: 0.9288\n",
        "Epoch 6/10\n",
        "1407/1407 [==============================] - ETA: 0s - loss: 0.1743 - acc: 0.9343\n",
        "Epoch 00006: val_loss improved from 0.18486 to 0.17907, saving model to early_weights.hdf5\n",
        "1407/1407 [==============================] - 252s 179ms/step - loss: 0.1743 - acc: 0.9343 - val_loss: 0.1791 - val_acc: 0.9321\n",
        "Epoch 7/10\n",
        "1407/1407 [==============================] - ETA: 0s - loss: 0.1669 - acc: 0.9375\n",
        "Epoch 00007: val_loss improved from 0.17907 to 0.17276, saving model to early_weights.hdf5\n",
        "1407/1407 [==============================] - 250s 178ms/step - loss: 0.1669 - acc: 0.9375 - val_loss: 0.1728 - val_acc: 0.9343\n",
        "Epoch 8/10\n",
        "1407/1407 [==============================] - ETA: 0s - loss: 0.1614 - acc: 0.9400\n",
        "Epoch 00008: val_loss improved from 0.17276 to 0.17045, saving model to early_weights.hdf5\n",
        "1407/1407 [==============================] - 249s 177ms/step - loss: 0.1614 - acc: 0.9400 - val_loss: 0.1705 - val_acc: 0.9351\n",
        "Epoch 9/10\n",
        "1407/1407 [==============================] - ETA: 0s - loss: 0.1560 - acc: 0.9425\n",
        "Epoch 00009: val_loss improved from 0.17045 to 0.16651, saving model to early_weights.hdf5\n",
        "1407/1407 [==============================] - 250s 178ms/step - loss: 0.1560 - acc: 0.9425 - val_loss: 0.1665 - val_acc: 0.9368\n",
        "Epoch 10/10\n",
        "1407/1407 [==============================] - ETA: 0s - loss: 0.1516 - acc: 0.9443\n",
        "Epoch 00010: val_loss did not improve from 0.16651\n",
        "1407/1407 [==============================] - 249s 177ms/step - loss: 0.1516 - acc: 0.9443 - val_loss: 0.1752 - val_acc: 0.9345\n",
        "<tensorflow.python.keras.callbacks.History at 0x7fc2940259b0>"
      ]
    },
    {
      "cell_type": "markdown",
      "metadata": {
        "id": "uhpCW7s8jNDq",
        "colab_type": "text"
      },
      "source": [
        "**Run 1**\n",
        "Epoch 1/5\n",
        "1407/1407 [==============================] - ETA: 0s - loss: 0.2018 - acc: 0.9186\n",
        "Epoch 00001: val_loss improved from inf to 0.16100, saving model to early_weights.hdf5\n",
        "1407/1407 [==============================] - 244s 173ms/step - loss: 0.2018 - acc: 0.9186 - val_loss: 0.1610 - val_acc: 0.9382\n",
        "Epoch 2/5\n",
        "1407/1407 [==============================] - ETA: 0s - loss: 0.1471 - acc: 0.9442\n",
        "Epoch 00002: val_loss improved from 0.16100 to 0.14928, saving model to early_weights.hdf5\n",
        "1407/1407 [==============================] - 243s 173ms/step - loss: 0.1471 - acc: 0.9442 - val_loss: 0.1493 - val_acc: 0.9433\n",
        "Epoch 3/5\n",
        "1407/1407 [==============================] - ETA: 0s - loss: 0.1302 - acc: 0.9517\n",
        "Epoch 00003: val_loss improved from 0.14928 to 0.14451, saving model to early_weights.hdf5\n",
        "1407/1407 [==============================] - 243s 173ms/step - loss: 0.1302 - acc: 0.9517 - val_loss: 0.1445 - val_acc: 0.9455\n",
        "Epoch 4/5\n",
        "1407/1407 [==============================] - ETA: 0s - loss: 0.1172 - acc: 0.9572\n",
        "Epoch 00004: val_loss did not improve from 0.14451\n",
        "1407/1407 [==============================] - 243s 173ms/step - loss: 0.1172 - acc: 0.9572 - val_loss: 0.1486 - val_acc: 0.9462\n",
        "Epoch 5/5\n",
        "1407/1407 [==============================] - ETA: 0s - loss: 0.1051 - acc: 0.9625\n",
        "Epoch 00005: val_loss did not improve from 0.14451\n",
        "1407/1407 [==============================] - 243s 173ms/step - loss: 0.1051 - acc: 0.9625 - val_loss: 0.1479 - val_acc: 0.9463\n",
        "<tensorflow.python.keras.callbacks.History at 0x7fc1eb989550>"
      ]
    },
    {
      "cell_type": "code",
      "metadata": {
        "id": "TmVjFl19hsAU",
        "colab_type": "code",
        "colab": {}
      },
      "source": [
        "testing_padded = np.array(testing_padded)\n",
        "test_labels = np.array(test_labels)"
      ],
      "execution_count": null,
      "outputs": []
    },
    {
      "cell_type": "code",
      "metadata": {
        "id": "7pnzo8wxBlKQ",
        "colab_type": "code",
        "colab": {
          "base_uri": "https://localhost:8080/",
          "height": 68
        },
        "outputId": "90d8490d-cd1f-464b-b954-9c43f4adddde"
      },
      "source": [
        "model.load_weights(weight_path)\n",
        "score, acc = model.evaluate(testing_padded, test_labels, batch_size=batch_size)\n",
        "print('Test score:', score)\n",
        "print('Test accuracy:', acc)"
      ],
      "execution_count": null,
      "outputs": [
        {
          "output_type": "stream",
          "text": [
            "196/196 [==============================] - 11s 55ms/step - loss: 0.1906 - acc: 0.9261\n",
            "Test score: 0.1906423568725586\n",
            "Test accuracy: 0.9260824918746948\n"
          ],
          "name": "stdout"
        }
      ]
    },
    {
      "cell_type": "markdown",
      "metadata": {
        "id": "G_lfopGojutu",
        "colab_type": "text"
      },
      "source": [
        "196/196 [==============================] - 11s 55ms/step - loss: 0.1691 - acc: 0.9349\n",
        "Test score: 0.16910406947135925\n",
        "Test accuracy: 0.9348949790000916"
      ]
    },
    {
      "cell_type": "code",
      "metadata": {
        "id": "_Ka5rj-3myMa",
        "colab_type": "code",
        "colab": {}
      },
      "source": [
        "!cp weight_path '/content/drive/My Drive/kaggle/amazon-reviews-sentiment-analysis/'"
      ],
      "execution_count": null,
      "outputs": []
    },
    {
      "cell_type": "code",
      "metadata": {
        "id": "vfqTu39DdYQx",
        "colab_type": "code",
        "colab": {
          "base_uri": "https://localhost:8080/",
          "height": 34
        },
        "outputId": "0833c72b-8eaa-41f8-d83f-dc26a4afa1fe"
      },
      "source": [
        "e = model.layers[0]\n",
        "weights = e.get_weights()[0]\n",
        "print(weights.shape)"
      ],
      "execution_count": null,
      "outputs": [
        {
          "output_type": "stream",
          "text": [
            "(20000, 100)\n"
          ],
          "name": "stdout"
        }
      ]
    },
    {
      "cell_type": "code",
      "metadata": {
        "id": "CNyVVcL9kCSE",
        "colab_type": "code",
        "colab": {}
      },
      "source": [
        "import io\n",
        "out_v = io.open('/content/drive/My Drive/kaggle/amazon-reviews-sentiment-analysis/vecs.tsv', 'w', encoding='utf-8')\n",
        "out_m = io.open('/content/drive/My Drive/kaggle/amazon-reviews-sentiment-analysis/meta.tsv', 'w', encoding='utf-8')\n",
        "for word_num in range(1, vocab_size):\n",
        "    word = reverse_word_index[word_num]\n",
        "    embeddings = weights[word_num]\n",
        "    out_m.write(word + \"\\n\")\n",
        "    out_v.write('\\t'.join([str(x) for x in embeddings]) + \"\\n\")\n",
        "out_v.close()\n",
        "out_m.close()"
      ],
      "execution_count": null,
      "outputs": []
    },
    {
      "cell_type": "code",
      "metadata": {
        "id": "8JSePB6ZnDPb",
        "colab_type": "code",
        "colab": {
          "base_uri": "https://localhost:8080/",
          "height": 34
        },
        "outputId": "6685ebc9-80e3-443c-862c-0907391fe450"
      },
      "source": [
        "out_v"
      ],
      "execution_count": null,
      "outputs": [
        {
          "output_type": "execute_result",
          "data": {
            "text/plain": [
              "<_io.TextIOWrapper name='/content/drive/My Drive/kaggle/amazon-reviews-sentiment-analysis/vecs.tsv' mode='w' encoding='utf-8'>"
            ]
          },
          "metadata": {
            "tags": []
          },
          "execution_count": 66
        }
      ]
    },
    {
      "cell_type": "code",
      "metadata": {
        "id": "b_ENIUWpvVq9",
        "colab_type": "code",
        "colab": {}
      },
      "source": [
        ""
      ],
      "execution_count": null,
      "outputs": []
    }
  ]
}